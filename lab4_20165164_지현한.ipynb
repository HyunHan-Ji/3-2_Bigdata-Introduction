{
  "nbformat": 4,
  "nbformat_minor": 0,
  "metadata": {
    "colab": {
      "name": "lab4.ipynb",
      "provenance": [],
      "collapsed_sections": [
        "nWc1OkJMOOpL",
        "8-0JZTpDoOyS",
        "eJjFdm5ipcVq"
      ]
    },
    "kernelspec": {
      "name": "ir",
      "display_name": "R"
    }
  },
  "cells": [
    {
      "cell_type": "markdown",
      "metadata": {
        "id": "NqwIc2xhQqLu"
      },
      "source": [
        "# *빅데이터 개론 4주차 실습!*\n",
        "\n",
        "- - -\n",
        "\n",
        "## ``dpylr`` package"
      ]
    },
    {
      "cell_type": "markdown",
      "metadata": {
        "id": "nWc1OkJMOOpL"
      },
      "source": [
        "##1. dplyr(``%>%, select, filter, groupby, summarize``)\n",
        "\n",
        "- - -\n",
        "\n",
        "dplyr 패키지는 Hadley Wickham가 작성한 데이터 처리에 특화된 R 패키지입니다. 이 분이 지금까지 작성한 유명한 R 패키지로는 ggplot2, plyr, reshape2등이 있으며 이미 많은 분들이 사용하고 있으리라 생각합니다.\n",
        "\n",
        "데이터 처리에 특화된 유용한 패키지로는 역시 Hadley Wickham이 만든 plyr이라는 패키지가 있었습니다. 그러나 ``plyr은 편리하긴 했지만 모든 함수가 R로 작성되어서 처리 속도가 느리다는 단점``이 있었습니다. 이에 반해 ``dplyr은 C++로 작성되어 불필요한 함수를 불러오지 않기 때문에 매우 빠른 처리 속도를 자랑``합니다.\n",
        "\n",
        "dplyr 패키지는 데이터 프레임을 처리하는 함수군으로 구성되어 있습니다. 하지만 그 밖에도 다음 형식의 데이터를 이용할 수 있습니다.\n",
        "\n",
        "* data.table : data.table 패키지와 사용\n",
        "* 각종 데이터베이스 : 현재 MySQL, PostgreSQL, SQLite, BigQuery를 지원\n",
        "* 데이터 큐브 : dplyr 패키지 내부에 실험적으로 내장됨"
      ]
    },
    {
      "cell_type": "code",
      "metadata": {
        "id": "9IJu91upOV_v",
        "outputId": "f900b861-18d8-436a-f1fc-ba860e61e017",
        "colab": {
          "base_uri": "https://localhost:8080/",
          "height": 0
        }
      },
      "source": [
        "install.packages(\"data.table\")\n",
        "install.packages(\"tidyverse\")\n",
        "\n",
        "library(tidyverse) # or library(dplyr)\n",
        "library(data.table)"
      ],
      "execution_count": 3,
      "outputs": [
        {
          "output_type": "stream",
          "text": [
            "Installing package into ‘/usr/local/lib/R/site-library’\n",
            "(as ‘lib’ is unspecified)\n",
            "\n",
            "Installing package into ‘/usr/local/lib/R/site-library’\n",
            "(as ‘lib’ is unspecified)\n",
            "\n",
            "── \u001b[1mAttaching packages\u001b[22m ─────────────────────────────────────── tidyverse 1.3.0 ──\n",
            "\n",
            "\u001b[32m✔\u001b[39m \u001b[34mggplot2\u001b[39m 3.3.2     \u001b[32m✔\u001b[39m \u001b[34mpurrr  \u001b[39m 0.3.4\n",
            "\u001b[32m✔\u001b[39m \u001b[34mtibble \u001b[39m 3.0.3     \u001b[32m✔\u001b[39m \u001b[34mdplyr  \u001b[39m 1.0.2\n",
            "\u001b[32m✔\u001b[39m \u001b[34mtidyr  \u001b[39m 1.1.2     \u001b[32m✔\u001b[39m \u001b[34mstringr\u001b[39m 1.4.0\n",
            "\u001b[32m✔\u001b[39m \u001b[34mreadr  \u001b[39m 1.3.1     \u001b[32m✔\u001b[39m \u001b[34mforcats\u001b[39m 0.5.0\n",
            "\n",
            "── \u001b[1mConflicts\u001b[22m ────────────────────────────────────────── tidyverse_conflicts() ──\n",
            "\u001b[31m✖\u001b[39m \u001b[34mdplyr\u001b[39m::\u001b[32mfilter()\u001b[39m masks \u001b[34mstats\u001b[39m::filter()\n",
            "\u001b[31m✖\u001b[39m \u001b[34mdplyr\u001b[39m::\u001b[32mlag()\u001b[39m    masks \u001b[34mstats\u001b[39m::lag()\n",
            "\n",
            "\n",
            "Attaching package: ‘data.table’\n",
            "\n",
            "\n",
            "The following objects are masked from ‘package:dplyr’:\n",
            "\n",
            "    between, first, last\n",
            "\n",
            "\n",
            "The following object is masked from ‘package:purrr’:\n",
            "\n",
            "    transpose\n",
            "\n",
            "\n"
          ],
          "name": "stderr"
        }
      ]
    },
    {
      "cell_type": "code",
      "metadata": {
        "id": "FQAGRujvYZD9",
        "outputId": "dcbe9ccf-6d47-46f8-b619-78db32c02ea1",
        "colab": {
          "base_uri": "https://localhost:8080/",
          "height": 306
        }
      },
      "source": [
        "#https://gomguard.tistory.com/243\n",
        "DF <- fread(\"ftp://210.115.229.94/2020_datascience/6th_data/Pre_Season_Batter.csv\", header = T, encoding = \"UTF-8\") %>%\n",
        "  as_tibble()"
      ],
      "execution_count": null,
      "outputs": [
        {
          "output_type": "stream",
          "text": [
            "\u001b[90m# A tibble: 1,393 x 29\u001b[39m\n",
            "   batter_id batter_name  year team  avg       G    AB     R     H  `2B`  `3B`\n",
            "       \u001b[3m\u001b[90m<int>\u001b[39m\u001b[23m \u001b[3m\u001b[90m<chr>\u001b[39m\u001b[23m       \u001b[3m\u001b[90m<int>\u001b[39m\u001b[23m \u001b[3m\u001b[90m<chr>\u001b[39m\u001b[23m \u001b[3m\u001b[90m<chr>\u001b[39m\u001b[23m \u001b[3m\u001b[90m<int>\u001b[39m\u001b[23m \u001b[3m\u001b[90m<int>\u001b[39m\u001b[23m \u001b[3m\u001b[90m<int>\u001b[39m\u001b[23m \u001b[3m\u001b[90m<int>\u001b[39m\u001b[23m \u001b[3m\u001b[90m<int>\u001b[39m\u001b[23m \u001b[3m\u001b[90m<int>\u001b[39m\u001b[23m\n",
            "\u001b[90m 1\u001b[39m         0 가르시아     \u001b[4m2\u001b[24m018 LG    0.350     7    20     1     7     1     0\n",
            "\u001b[90m 2\u001b[39m         1 강경학       \u001b[4m2\u001b[24m011 한화  0.000     4     2     2     0     0     0\n",
            "\u001b[90m 3\u001b[39m         1 강경학       \u001b[4m2\u001b[24m014 한화  -         4     0     2     0     0     0\n",
            "\u001b[90m 4\u001b[39m         1 강경학       \u001b[4m2\u001b[24m015 한화  0.130    10    23     3     3     0     0\n",
            "\u001b[90m 5\u001b[39m         1 강경학       \u001b[4m2\u001b[24m016 한화  0.188    14    32     4     6     1     1\n",
            "\u001b[90m 6\u001b[39m         1 강경학       \u001b[4m2\u001b[24m017 한화  0.222    11    36    10     8     0     0\n",
            "\u001b[90m 7\u001b[39m         2 강구성       \u001b[4m2\u001b[24m013 NC    0.000     3     4     0     0     0     0\n",
            "\u001b[90m 8\u001b[39m         2 강구성       \u001b[4m2\u001b[24m016 NC    0.000     3     1     0     0     0     0\n",
            "\u001b[90m 9\u001b[39m         2 강구성       \u001b[4m2\u001b[24m017 NC    1.000     2     1     0     1     0     0\n",
            "\u001b[90m10\u001b[39m        69 김태완       \u001b[4m2\u001b[24m006 한화  0.200    10    15     0     3     0     0\n",
            "\u001b[90m# … with 1,383 more rows, and 18 more variables: HR \u001b[3m\u001b[90m<int>\u001b[90m\u001b[23m, TB \u001b[3m\u001b[90m<int>\u001b[90m\u001b[23m, RBI \u001b[3m\u001b[90m<int>\u001b[90m\u001b[23m,\u001b[39m\n",
            "\u001b[90m#   SB \u001b[3m\u001b[90m<int>\u001b[90m\u001b[23m, CS \u001b[3m\u001b[90m<int>\u001b[90m\u001b[23m, BB \u001b[3m\u001b[90m<int>\u001b[90m\u001b[23m, HBP \u001b[3m\u001b[90m<int>\u001b[90m\u001b[23m, SO \u001b[3m\u001b[90m<int>\u001b[90m\u001b[23m, GDP \u001b[3m\u001b[90m<int>\u001b[90m\u001b[23m, SLG \u001b[3m\u001b[90m<dbl>\u001b[90m\u001b[23m,\u001b[39m\n",
            "\u001b[90m#   OBP \u001b[3m\u001b[90m<dbl>\u001b[90m\u001b[23m, E \u001b[3m\u001b[90m<int>\u001b[90m\u001b[23m, `height/weight` \u001b[3m\u001b[90m<chr>\u001b[90m\u001b[23m, year_born \u001b[3m\u001b[90m<chr>\u001b[90m\u001b[23m, position \u001b[3m\u001b[90m<chr>\u001b[90m\u001b[23m,\u001b[39m\n",
            "\u001b[90m#   career \u001b[3m\u001b[90m<chr>\u001b[90m\u001b[23m, starting_salary \u001b[3m\u001b[90m<chr>\u001b[90m\u001b[23m, OPS \u001b[3m\u001b[90m<dbl>\u001b[90m\u001b[23m\u001b[39m\n"
          ],
          "name": "stdout"
        }
      ]
    },
    {
      "cell_type": "markdown",
      "metadata": {
        "id": "z1o0mV3dYWIO"
      },
      "source": [
        "* select"
      ]
    },
    {
      "cell_type": "code",
      "metadata": {
        "id": "nEwNYt1IZNcq",
        "outputId": "bf2a6a5b-d55f-409f-c952-2a8e2b444fad",
        "colab": {
          "base_uri": "https://localhost:8080/",
          "height": 255
        }
      },
      "source": [
        "# base R\n",
        "DF[, c(\"batter_name\", \"team\")] %>% show()"
      ],
      "execution_count": null,
      "outputs": [
        {
          "output_type": "stream",
          "text": [
            "\u001b[90m# A tibble: 1,393 x 2\u001b[39m\n",
            "   batter_name team \n",
            "   \u001b[3m\u001b[90m<chr>\u001b[39m\u001b[23m       \u001b[3m\u001b[90m<chr>\u001b[39m\u001b[23m\n",
            "\u001b[90m 1\u001b[39m 가르시아    LG   \n",
            "\u001b[90m 2\u001b[39m 강경학      한화 \n",
            "\u001b[90m 3\u001b[39m 강경학      한화 \n",
            "\u001b[90m 4\u001b[39m 강경학      한화 \n",
            "\u001b[90m 5\u001b[39m 강경학      한화 \n",
            "\u001b[90m 6\u001b[39m 강경학      한화 \n",
            "\u001b[90m 7\u001b[39m 강구성      NC   \n",
            "\u001b[90m 8\u001b[39m 강구성      NC   \n",
            "\u001b[90m 9\u001b[39m 강구성      NC   \n",
            "\u001b[90m10\u001b[39m 김태완      한화 \n",
            "\u001b[90m# … with 1,383 more rows\u001b[39m\n"
          ],
          "name": "stdout"
        }
      ]
    },
    {
      "cell_type": "code",
      "metadata": {
        "id": "1i7XycuFad7M",
        "outputId": "41eebac0-b496-4f22-b346-194fb7e2a3a4",
        "colab": {
          "base_uri": "https://localhost:8080/",
          "height": 255
        }
      },
      "source": [
        "# dplyr\n",
        "DF %>% select(., batter_name, team) %>% show()"
      ],
      "execution_count": null,
      "outputs": [
        {
          "output_type": "stream",
          "text": [
            "\u001b[90m# A tibble: 1,393 x 2\u001b[39m\n",
            "   batter_name team \n",
            "   \u001b[3m\u001b[90m<chr>\u001b[39m\u001b[23m       \u001b[3m\u001b[90m<chr>\u001b[39m\u001b[23m\n",
            "\u001b[90m 1\u001b[39m 가르시아    LG   \n",
            "\u001b[90m 2\u001b[39m 강경학      한화 \n",
            "\u001b[90m 3\u001b[39m 강경학      한화 \n",
            "\u001b[90m 4\u001b[39m 강경학      한화 \n",
            "\u001b[90m 5\u001b[39m 강경학      한화 \n",
            "\u001b[90m 6\u001b[39m 강경학      한화 \n",
            "\u001b[90m 7\u001b[39m 강구성      NC   \n",
            "\u001b[90m 8\u001b[39m 강구성      NC   \n",
            "\u001b[90m 9\u001b[39m 강구성      NC   \n",
            "\u001b[90m10\u001b[39m 김태완      한화 \n",
            "\u001b[90m# … with 1,383 more rows\u001b[39m\n"
          ],
          "name": "stdout"
        }
      ]
    },
    {
      "cell_type": "code",
      "metadata": {
        "id": "qwAt20hJccRV",
        "outputId": "396078b4-c9ed-441b-b932-785a62340d3d",
        "colab": {
          "base_uri": "https://localhost:8080/",
          "height": 306
        }
      },
      "source": [
        "DF %>% select(., -batter_name, -team) %>% show()"
      ],
      "execution_count": null,
      "outputs": [
        {
          "output_type": "stream",
          "text": [
            "\u001b[90m# A tibble: 1,393 x 27\u001b[39m\n",
            "   batter_id  year avg       G    AB     R     H  `2B`  `3B`    HR    TB   RBI\n",
            "       \u001b[3m\u001b[90m<int>\u001b[39m\u001b[23m \u001b[3m\u001b[90m<int>\u001b[39m\u001b[23m \u001b[3m\u001b[90m<chr>\u001b[39m\u001b[23m \u001b[3m\u001b[90m<int>\u001b[39m\u001b[23m \u001b[3m\u001b[90m<int>\u001b[39m\u001b[23m \u001b[3m\u001b[90m<int>\u001b[39m\u001b[23m \u001b[3m\u001b[90m<int>\u001b[39m\u001b[23m \u001b[3m\u001b[90m<int>\u001b[39m\u001b[23m \u001b[3m\u001b[90m<int>\u001b[39m\u001b[23m \u001b[3m\u001b[90m<int>\u001b[39m\u001b[23m \u001b[3m\u001b[90m<int>\u001b[39m\u001b[23m \u001b[3m\u001b[90m<int>\u001b[39m\u001b[23m\n",
            "\u001b[90m 1\u001b[39m         0  \u001b[4m2\u001b[24m018 0.350     7    20     1     7     1     0     1    11     5\n",
            "\u001b[90m 2\u001b[39m         1  \u001b[4m2\u001b[24m011 0.000     4     2     2     0     0     0     0     0     1\n",
            "\u001b[90m 3\u001b[39m         1  \u001b[4m2\u001b[24m014 -         4     0     2     0     0     0     0     0     0\n",
            "\u001b[90m 4\u001b[39m         1  \u001b[4m2\u001b[24m015 0.130    10    23     3     3     0     0     0     3     1\n",
            "\u001b[90m 5\u001b[39m         1  \u001b[4m2\u001b[24m016 0.188    14    32     4     6     1     1     0     9     2\n",
            "\u001b[90m 6\u001b[39m         1  \u001b[4m2\u001b[24m017 0.222    11    36    10     8     0     0     2    14     4\n",
            "\u001b[90m 7\u001b[39m         2  \u001b[4m2\u001b[24m013 0.000     3     4     0     0     0     0     0     0     0\n",
            "\u001b[90m 8\u001b[39m         2  \u001b[4m2\u001b[24m016 0.000     3     1     0     0     0     0     0     0     0\n",
            "\u001b[90m 9\u001b[39m         2  \u001b[4m2\u001b[24m017 1.000     2     1     0     1     0     0     0     1     0\n",
            "\u001b[90m10\u001b[39m        69  \u001b[4m2\u001b[24m006 0.200    10    15     0     3     0     0     0     3     3\n",
            "\u001b[90m# … with 1,383 more rows, and 15 more variables: SB \u001b[3m\u001b[90m<int>\u001b[90m\u001b[23m, CS \u001b[3m\u001b[90m<int>\u001b[90m\u001b[23m, BB \u001b[3m\u001b[90m<int>\u001b[90m\u001b[23m,\u001b[39m\n",
            "\u001b[90m#   HBP \u001b[3m\u001b[90m<int>\u001b[90m\u001b[23m, SO \u001b[3m\u001b[90m<int>\u001b[90m\u001b[23m, GDP \u001b[3m\u001b[90m<int>\u001b[90m\u001b[23m, SLG \u001b[3m\u001b[90m<dbl>\u001b[90m\u001b[23m, OBP \u001b[3m\u001b[90m<dbl>\u001b[90m\u001b[23m, E \u001b[3m\u001b[90m<int>\u001b[90m\u001b[23m,\u001b[39m\n",
            "\u001b[90m#   `height/weight` \u001b[3m\u001b[90m<chr>\u001b[90m\u001b[23m, year_born \u001b[3m\u001b[90m<chr>\u001b[90m\u001b[23m, position \u001b[3m\u001b[90m<chr>\u001b[90m\u001b[23m, career \u001b[3m\u001b[90m<chr>\u001b[90m\u001b[23m,\u001b[39m\n",
            "\u001b[90m#   starting_salary \u001b[3m\u001b[90m<chr>\u001b[90m\u001b[23m, OPS \u001b[3m\u001b[90m<dbl>\u001b[90m\u001b[23m\u001b[39m\n"
          ],
          "name": "stdout"
        }
      ]
    },
    {
      "cell_type": "code",
      "metadata": {
        "id": "F7NFRVs2amN2",
        "outputId": "f8777e6f-dd64-4b00-d1d1-bf50cbd22a72",
        "colab": {
          "base_uri": "https://localhost:8080/",
          "height": 255
        }
      },
      "source": [
        "DF %>% select(., 이름 = batter_name, 팀 = team) %>% show()"
      ],
      "execution_count": null,
      "outputs": [
        {
          "output_type": "stream",
          "text": [
            "\u001b[90m# A tibble: 1,393 x 2\u001b[39m\n",
            "   이름     팀   \n",
            "   \u001b[3m\u001b[90m<chr>\u001b[39m\u001b[23m    \u001b[3m\u001b[90m<chr>\u001b[39m\u001b[23m\n",
            "\u001b[90m 1\u001b[39m 가르시아 LG   \n",
            "\u001b[90m 2\u001b[39m 강경학   한화 \n",
            "\u001b[90m 3\u001b[39m 강경학   한화 \n",
            "\u001b[90m 4\u001b[39m 강경학   한화 \n",
            "\u001b[90m 5\u001b[39m 강경학   한화 \n",
            "\u001b[90m 6\u001b[39m 강경학   한화 \n",
            "\u001b[90m 7\u001b[39m 강구성   NC   \n",
            "\u001b[90m 8\u001b[39m 강구성   NC   \n",
            "\u001b[90m 9\u001b[39m 강구성   NC   \n",
            "\u001b[90m10\u001b[39m 김태완   한화 \n",
            "\u001b[90m# … with 1,383 more rows\u001b[39m\n"
          ],
          "name": "stdout"
        }
      ]
    },
    {
      "cell_type": "markdown",
      "metadata": {
        "id": "crvXVsrMdRuJ"
      },
      "source": [
        "* filter --> `Extract rows that meet logical\n",
        "criteria`"
      ]
    },
    {
      "cell_type": "code",
      "metadata": {
        "id": "CbueMBl7cFx4",
        "outputId": "bb5b2655-1ec3-4c99-9e99-7b5ef6ea863d",
        "colab": {
          "base_uri": "https://localhost:8080/",
          "height": 306
        }
      },
      "source": [
        "# base R\n",
        "DF[DF$team == \"한화\", ] %>% show()"
      ],
      "execution_count": null,
      "outputs": [
        {
          "output_type": "stream",
          "text": [
            "\u001b[90m# A tibble: 131 x 29\u001b[39m\n",
            "   batter_id batter_name  year team  avg       G    AB     R     H  `2B`  `3B`\n",
            "       \u001b[3m\u001b[90m<int>\u001b[39m\u001b[23m \u001b[3m\u001b[90m<chr>\u001b[39m\u001b[23m       \u001b[3m\u001b[90m<int>\u001b[39m\u001b[23m \u001b[3m\u001b[90m<chr>\u001b[39m\u001b[23m \u001b[3m\u001b[90m<chr>\u001b[39m\u001b[23m \u001b[3m\u001b[90m<int>\u001b[39m\u001b[23m \u001b[3m\u001b[90m<int>\u001b[39m\u001b[23m \u001b[3m\u001b[90m<int>\u001b[39m\u001b[23m \u001b[3m\u001b[90m<int>\u001b[39m\u001b[23m \u001b[3m\u001b[90m<int>\u001b[39m\u001b[23m \u001b[3m\u001b[90m<int>\u001b[39m\u001b[23m\n",
            "\u001b[90m 1\u001b[39m         1 강경학       \u001b[4m2\u001b[24m011 한화  0.000     4     2     2     0     0     0\n",
            "\u001b[90m 2\u001b[39m         1 강경학       \u001b[4m2\u001b[24m014 한화  -         4     0     2     0     0     0\n",
            "\u001b[90m 3\u001b[39m         1 강경학       \u001b[4m2\u001b[24m015 한화  0.130    10    23     3     3     0     0\n",
            "\u001b[90m 4\u001b[39m         1 강경학       \u001b[4m2\u001b[24m016 한화  0.188    14    32     4     6     1     1\n",
            "\u001b[90m 5\u001b[39m         1 강경학       \u001b[4m2\u001b[24m017 한화  0.222    11    36    10     8     0     0\n",
            "\u001b[90m 6\u001b[39m        69 김태완       \u001b[4m2\u001b[24m006 한화  0.200    10    15     0     3     0     0\n",
            "\u001b[90m 7\u001b[39m        69 김태완       \u001b[4m2\u001b[24m007 한화  0.318     8    22     4     7     3     0\n",
            "\u001b[90m 8\u001b[39m        69 김태완       \u001b[4m2\u001b[24m008 한화  0.375    10    24     3     9     1     0\n",
            "\u001b[90m 9\u001b[39m        69 김태완       \u001b[4m2\u001b[24m009 한화  0.320    10    25     5     8     3     0\n",
            "\u001b[90m10\u001b[39m        69 김태완       \u001b[4m2\u001b[24m010 한화  0.400     2     5     2     2     0     1\n",
            "\u001b[90m# … with 121 more rows, and 18 more variables: HR \u001b[3m\u001b[90m<int>\u001b[90m\u001b[23m, TB \u001b[3m\u001b[90m<int>\u001b[90m\u001b[23m, RBI \u001b[3m\u001b[90m<int>\u001b[90m\u001b[23m,\u001b[39m\n",
            "\u001b[90m#   SB \u001b[3m\u001b[90m<int>\u001b[90m\u001b[23m, CS \u001b[3m\u001b[90m<int>\u001b[90m\u001b[23m, BB \u001b[3m\u001b[90m<int>\u001b[90m\u001b[23m, HBP \u001b[3m\u001b[90m<int>\u001b[90m\u001b[23m, SO \u001b[3m\u001b[90m<int>\u001b[90m\u001b[23m, GDP \u001b[3m\u001b[90m<int>\u001b[90m\u001b[23m, SLG \u001b[3m\u001b[90m<dbl>\u001b[90m\u001b[23m,\u001b[39m\n",
            "\u001b[90m#   OBP \u001b[3m\u001b[90m<dbl>\u001b[90m\u001b[23m, E \u001b[3m\u001b[90m<int>\u001b[90m\u001b[23m, `height/weight` \u001b[3m\u001b[90m<chr>\u001b[90m\u001b[23m, year_born \u001b[3m\u001b[90m<chr>\u001b[90m\u001b[23m, position \u001b[3m\u001b[90m<chr>\u001b[90m\u001b[23m,\u001b[39m\n",
            "\u001b[90m#   career \u001b[3m\u001b[90m<chr>\u001b[90m\u001b[23m, starting_salary \u001b[3m\u001b[90m<chr>\u001b[90m\u001b[23m, OPS \u001b[3m\u001b[90m<dbl>\u001b[90m\u001b[23m\u001b[39m\n"
          ],
          "name": "stdout"
        }
      ]
    },
    {
      "cell_type": "code",
      "metadata": {
        "id": "R2mAQ1NnkMmH",
        "outputId": "9bd2fc13-52f3-4ca8-a8c3-c2ecc7f07b9c",
        "colab": {
          "base_uri": "https://localhost:8080/",
          "height": 306
        }
      },
      "source": [
        "# dplyr filter\n",
        "DF %>% filter(., team == \"한화\") %>% show()"
      ],
      "execution_count": null,
      "outputs": [
        {
          "output_type": "stream",
          "text": [
            "\u001b[90m# A tibble: 131 x 29\u001b[39m\n",
            "   batter_id batter_name  year team  avg       G    AB     R     H  `2B`  `3B`\n",
            "       \u001b[3m\u001b[90m<int>\u001b[39m\u001b[23m \u001b[3m\u001b[90m<chr>\u001b[39m\u001b[23m       \u001b[3m\u001b[90m<int>\u001b[39m\u001b[23m \u001b[3m\u001b[90m<chr>\u001b[39m\u001b[23m \u001b[3m\u001b[90m<chr>\u001b[39m\u001b[23m \u001b[3m\u001b[90m<int>\u001b[39m\u001b[23m \u001b[3m\u001b[90m<int>\u001b[39m\u001b[23m \u001b[3m\u001b[90m<int>\u001b[39m\u001b[23m \u001b[3m\u001b[90m<int>\u001b[39m\u001b[23m \u001b[3m\u001b[90m<int>\u001b[39m\u001b[23m \u001b[3m\u001b[90m<int>\u001b[39m\u001b[23m\n",
            "\u001b[90m 1\u001b[39m         1 강경학       \u001b[4m2\u001b[24m011 한화  0.000     4     2     2     0     0     0\n",
            "\u001b[90m 2\u001b[39m         1 강경학       \u001b[4m2\u001b[24m014 한화  -         4     0     2     0     0     0\n",
            "\u001b[90m 3\u001b[39m         1 강경학       \u001b[4m2\u001b[24m015 한화  0.130    10    23     3     3     0     0\n",
            "\u001b[90m 4\u001b[39m         1 강경학       \u001b[4m2\u001b[24m016 한화  0.188    14    32     4     6     1     1\n",
            "\u001b[90m 5\u001b[39m         1 강경학       \u001b[4m2\u001b[24m017 한화  0.222    11    36    10     8     0     0\n",
            "\u001b[90m 6\u001b[39m        69 김태완       \u001b[4m2\u001b[24m006 한화  0.200    10    15     0     3     0     0\n",
            "\u001b[90m 7\u001b[39m        69 김태완       \u001b[4m2\u001b[24m007 한화  0.318     8    22     4     7     3     0\n",
            "\u001b[90m 8\u001b[39m        69 김태완       \u001b[4m2\u001b[24m008 한화  0.375    10    24     3     9     1     0\n",
            "\u001b[90m 9\u001b[39m        69 김태완       \u001b[4m2\u001b[24m009 한화  0.320    10    25     5     8     3     0\n",
            "\u001b[90m10\u001b[39m        69 김태완       \u001b[4m2\u001b[24m010 한화  0.400     2     5     2     2     0     1\n",
            "\u001b[90m# … with 121 more rows, and 18 more variables: HR \u001b[3m\u001b[90m<int>\u001b[90m\u001b[23m, TB \u001b[3m\u001b[90m<int>\u001b[90m\u001b[23m, RBI \u001b[3m\u001b[90m<int>\u001b[90m\u001b[23m,\u001b[39m\n",
            "\u001b[90m#   SB \u001b[3m\u001b[90m<int>\u001b[90m\u001b[23m, CS \u001b[3m\u001b[90m<int>\u001b[90m\u001b[23m, BB \u001b[3m\u001b[90m<int>\u001b[90m\u001b[23m, HBP \u001b[3m\u001b[90m<int>\u001b[90m\u001b[23m, SO \u001b[3m\u001b[90m<int>\u001b[90m\u001b[23m, GDP \u001b[3m\u001b[90m<int>\u001b[90m\u001b[23m, SLG \u001b[3m\u001b[90m<dbl>\u001b[90m\u001b[23m,\u001b[39m\n",
            "\u001b[90m#   OBP \u001b[3m\u001b[90m<dbl>\u001b[90m\u001b[23m, E \u001b[3m\u001b[90m<int>\u001b[90m\u001b[23m, `height/weight` \u001b[3m\u001b[90m<chr>\u001b[90m\u001b[23m, year_born \u001b[3m\u001b[90m<chr>\u001b[90m\u001b[23m, position \u001b[3m\u001b[90m<chr>\u001b[90m\u001b[23m,\u001b[39m\n",
            "\u001b[90m#   career \u001b[3m\u001b[90m<chr>\u001b[90m\u001b[23m, starting_salary \u001b[3m\u001b[90m<chr>\u001b[90m\u001b[23m, OPS \u001b[3m\u001b[90m<dbl>\u001b[90m\u001b[23m\u001b[39m\n"
          ],
          "name": "stdout"
        }
      ]
    },
    {
      "cell_type": "code",
      "metadata": {
        "id": "AyPFNMeckWJw"
      },
      "source": [
        ""
      ],
      "execution_count": null,
      "outputs": []
    },
    {
      "cell_type": "code",
      "metadata": {
        "id": "EyjxakwjegnA",
        "outputId": "5ccf81e9-59cf-4a0b-deea-14fb3c7eabd1",
        "colab": {
          "base_uri": "https://localhost:8080/",
          "height": 255
        }
      },
      "source": [
        "# base R\n",
        "DF[DF$team == \"한화\" & DF$G >= 5, c(\"team\",\"batter_name\", \"G\", \"AB\")] %>% show()"
      ],
      "execution_count": null,
      "outputs": [
        {
          "output_type": "stream",
          "text": [
            "\u001b[90m# A tibble: 104 x 4\u001b[39m\n",
            "   team  batter_name     G    AB\n",
            "   \u001b[3m\u001b[90m<chr>\u001b[39m\u001b[23m \u001b[3m\u001b[90m<chr>\u001b[39m\u001b[23m       \u001b[3m\u001b[90m<int>\u001b[39m\u001b[23m \u001b[3m\u001b[90m<int>\u001b[39m\u001b[23m\n",
            "\u001b[90m 1\u001b[39m 한화  강경학         10    23\n",
            "\u001b[90m 2\u001b[39m 한화  강경학         14    32\n",
            "\u001b[90m 3\u001b[39m 한화  강경학         11    36\n",
            "\u001b[90m 4\u001b[39m 한화  김태완         10    15\n",
            "\u001b[90m 5\u001b[39m 한화  김태완          8    22\n",
            "\u001b[90m 6\u001b[39m 한화  김태완         10    24\n",
            "\u001b[90m 7\u001b[39m 한화  김태완         10    25\n",
            "\u001b[90m 8\u001b[39m 한화  김태완          9    28\n",
            "\u001b[90m 9\u001b[39m 한화  김태완         10    16\n",
            "\u001b[90m10\u001b[39m 한화  강상원          6     0\n",
            "\u001b[90m# … with 94 more rows\u001b[39m\n"
          ],
          "name": "stdout"
        }
      ]
    },
    {
      "cell_type": "code",
      "metadata": {
        "id": "nzfmJALdglbO",
        "outputId": "e467e9f5-3d96-41f1-d475-d8d570e02790",
        "colab": {
          "base_uri": "https://localhost:8080/",
          "height": 255
        }
      },
      "source": [
        "DF %>% filter(., team == \"한화\" & G >=5) %>% \n",
        " select(., team, batter_name, G, AB) %>% show()"
      ],
      "execution_count": null,
      "outputs": [
        {
          "output_type": "stream",
          "text": [
            "\u001b[90m# A tibble: 104 x 4\u001b[39m\n",
            "   team  batter_name     G    AB\n",
            "   \u001b[3m\u001b[90m<chr>\u001b[39m\u001b[23m \u001b[3m\u001b[90m<chr>\u001b[39m\u001b[23m       \u001b[3m\u001b[90m<int>\u001b[39m\u001b[23m \u001b[3m\u001b[90m<int>\u001b[39m\u001b[23m\n",
            "\u001b[90m 1\u001b[39m 한화  강경학         10    23\n",
            "\u001b[90m 2\u001b[39m 한화  강경학         14    32\n",
            "\u001b[90m 3\u001b[39m 한화  강경학         11    36\n",
            "\u001b[90m 4\u001b[39m 한화  김태완         10    15\n",
            "\u001b[90m 5\u001b[39m 한화  김태완          8    22\n",
            "\u001b[90m 6\u001b[39m 한화  김태완         10    24\n",
            "\u001b[90m 7\u001b[39m 한화  김태완         10    25\n",
            "\u001b[90m 8\u001b[39m 한화  김태완          9    28\n",
            "\u001b[90m 9\u001b[39m 한화  김태완         10    16\n",
            "\u001b[90m10\u001b[39m 한화  강상원          6     0\n",
            "\u001b[90m# … with 94 more rows\u001b[39m\n"
          ],
          "name": "stdout"
        }
      ]
    },
    {
      "cell_type": "code",
      "metadata": {
        "id": "6JkH_jWKnsSt"
      },
      "source": [
        ""
      ],
      "execution_count": null,
      "outputs": []
    },
    {
      "cell_type": "markdown",
      "metadata": {
        "id": "Uf3747YDxKbq"
      },
      "source": [
        "\n",
        "* groupby, summarise\n",
        "\n",
        "``https://dplyr.tidyverse.org/reference/group_by.html``\n",
        "\n",
        "``https://datascienceschool.net/view-notebook/e288a67ff8f9425b8cd511c7078a7b1b/``\n",
        "\n",
        "![대체 텍스트](https://img1.daumcdn.net/thumb/R800x0/?scode=mtistory2&fname=https%3A%2F%2Ft1.daumcdn.net%2Fcfile%2Ftistory%2F9978503F5B8264490F))"
      ]
    },
    {
      "cell_type": "code",
      "metadata": {
        "id": "oERtM4qwxL9-",
        "outputId": "01f6b892-97bc-471f-da0d-97eb2c251e98",
        "colab": {
          "base_uri": "https://localhost:8080/",
          "height": 323
        }
      },
      "source": [
        "DF %>% group_by(team) %>% show()"
      ],
      "execution_count": null,
      "outputs": [
        {
          "output_type": "stream",
          "text": [
            "\u001b[90m# A tibble: 1,393 x 29\u001b[39m\n",
            "\u001b[90m# Groups:   team [13]\u001b[39m\n",
            "   batter_id batter_name  year team  avg       G    AB     R     H  `2B`  `3B`\n",
            "       \u001b[3m\u001b[90m<int>\u001b[39m\u001b[23m \u001b[3m\u001b[90m<chr>\u001b[39m\u001b[23m       \u001b[3m\u001b[90m<int>\u001b[39m\u001b[23m \u001b[3m\u001b[90m<chr>\u001b[39m\u001b[23m \u001b[3m\u001b[90m<chr>\u001b[39m\u001b[23m \u001b[3m\u001b[90m<int>\u001b[39m\u001b[23m \u001b[3m\u001b[90m<int>\u001b[39m\u001b[23m \u001b[3m\u001b[90m<int>\u001b[39m\u001b[23m \u001b[3m\u001b[90m<int>\u001b[39m\u001b[23m \u001b[3m\u001b[90m<int>\u001b[39m\u001b[23m \u001b[3m\u001b[90m<int>\u001b[39m\u001b[23m\n",
            "\u001b[90m 1\u001b[39m         0 가르시아     \u001b[4m2\u001b[24m018 LG    0.350     7    20     1     7     1     0\n",
            "\u001b[90m 2\u001b[39m         1 강경학       \u001b[4m2\u001b[24m011 한화  0.000     4     2     2     0     0     0\n",
            "\u001b[90m 3\u001b[39m         1 강경학       \u001b[4m2\u001b[24m014 한화  -         4     0     2     0     0     0\n",
            "\u001b[90m 4\u001b[39m         1 강경학       \u001b[4m2\u001b[24m015 한화  0.130    10    23     3     3     0     0\n",
            "\u001b[90m 5\u001b[39m         1 강경학       \u001b[4m2\u001b[24m016 한화  0.188    14    32     4     6     1     1\n",
            "\u001b[90m 6\u001b[39m         1 강경학       \u001b[4m2\u001b[24m017 한화  0.222    11    36    10     8     0     0\n",
            "\u001b[90m 7\u001b[39m         2 강구성       \u001b[4m2\u001b[24m013 NC    0.000     3     4     0     0     0     0\n",
            "\u001b[90m 8\u001b[39m         2 강구성       \u001b[4m2\u001b[24m016 NC    0.000     3     1     0     0     0     0\n",
            "\u001b[90m 9\u001b[39m         2 강구성       \u001b[4m2\u001b[24m017 NC    1.000     2     1     0     1     0     0\n",
            "\u001b[90m10\u001b[39m        69 김태완       \u001b[4m2\u001b[24m006 한화  0.200    10    15     0     3     0     0\n",
            "\u001b[90m# … with 1,383 more rows, and 18 more variables: HR \u001b[3m\u001b[90m<int>\u001b[90m\u001b[23m, TB \u001b[3m\u001b[90m<int>\u001b[90m\u001b[23m, RBI \u001b[3m\u001b[90m<int>\u001b[90m\u001b[23m,\u001b[39m\n",
            "\u001b[90m#   SB \u001b[3m\u001b[90m<int>\u001b[90m\u001b[23m, CS \u001b[3m\u001b[90m<int>\u001b[90m\u001b[23m, BB \u001b[3m\u001b[90m<int>\u001b[90m\u001b[23m, HBP \u001b[3m\u001b[90m<int>\u001b[90m\u001b[23m, SO \u001b[3m\u001b[90m<int>\u001b[90m\u001b[23m, GDP \u001b[3m\u001b[90m<int>\u001b[90m\u001b[23m, SLG \u001b[3m\u001b[90m<dbl>\u001b[90m\u001b[23m,\u001b[39m\n",
            "\u001b[90m#   OBP \u001b[3m\u001b[90m<dbl>\u001b[90m\u001b[23m, E \u001b[3m\u001b[90m<int>\u001b[90m\u001b[23m, `height/weight` \u001b[3m\u001b[90m<chr>\u001b[90m\u001b[23m, year_born \u001b[3m\u001b[90m<chr>\u001b[90m\u001b[23m, position \u001b[3m\u001b[90m<chr>\u001b[90m\u001b[23m,\u001b[39m\n",
            "\u001b[90m#   career \u001b[3m\u001b[90m<chr>\u001b[90m\u001b[23m, starting_salary \u001b[3m\u001b[90m<chr>\u001b[90m\u001b[23m, OPS \u001b[3m\u001b[90m<dbl>\u001b[90m\u001b[23m\u001b[39m\n"
          ],
          "name": "stdout"
        }
      ]
    },
    {
      "cell_type": "code",
      "metadata": {
        "id": "BsT0gH8f0waO",
        "outputId": "d5b2b720-bbde-44b8-9c29-35d5d8cbbbed",
        "colab": {
          "base_uri": "https://localhost:8080/",
          "height": 323
        }
      },
      "source": [
        "DF %>% group_by(team) %>% summarise(., G_AVG = mean(G), AB_A = mean(AB), R_SUM = sum(R)) %>% show()"
      ],
      "execution_count": null,
      "outputs": [
        {
          "output_type": "stream",
          "text": [
            "`summarise()` ungrouping output (override with `.groups` argument)\n",
            "\n"
          ],
          "name": "stderr"
        },
        {
          "output_type": "stream",
          "text": [
            "\u001b[90m# A tibble: 13 x 4\u001b[39m\n",
            "   team     G_AVG  AB_A R_SUM\n",
            "   \u001b[3m\u001b[90m<chr>\u001b[39m\u001b[23m    \u001b[3m\u001b[90m<dbl>\u001b[39m\u001b[23m \u001b[3m\u001b[90m<dbl>\u001b[39m\u001b[23m \u001b[3m\u001b[90m<int>\u001b[39m\u001b[23m\n",
            "\u001b[90m 1\u001b[39m KIA       7.87  16.8   321\n",
            "\u001b[90m 2\u001b[39m KT        7.63  16.3   143\n",
            "\u001b[90m 3\u001b[39m LG        8.74  20.3   500\n",
            "\u001b[90m 4\u001b[39m NC        8.49  17     195\n",
            "\u001b[90m 5\u001b[39m SK        8.37  19.9   426\n",
            "\u001b[90m 6\u001b[39m 넥센      9.10  19.0   315\n",
            "\u001b[90m 7\u001b[39m 두산     10.7   22.1   601\n",
            "\u001b[90m 8\u001b[39m 롯데      8.21  17.7   424\n",
            "\u001b[90m 9\u001b[39m 삼성      8.79  20.1   416\n",
            "\u001b[90m10\u001b[39m 우리      7.33  17.3    10\n",
            "\u001b[90m11\u001b[39m 한화      7.76  18.2   335\n",
            "\u001b[90m12\u001b[39m 현대     10.1   25.3    42\n",
            "\u001b[90m13\u001b[39m 히어로즈  8.2   15.6     5\n"
          ],
          "name": "stdout"
        }
      ]
    },
    {
      "cell_type": "code",
      "metadata": {
        "id": "ojEPWRVU3r8f",
        "outputId": "33e2667d-6c92-4fbe-e6df-06d80ef1a103",
        "colab": {
          "base_uri": "https://localhost:8080/",
          "height": 1000
        }
      },
      "source": [
        "DF %>% group_by(team, batter_name) %>% summarise(., G_AVG = mean(G), AB_AVG = mean(AB), R_AVG = mean(R))"
      ],
      "execution_count": null,
      "outputs": [
        {
          "output_type": "stream",
          "text": [
            "`summarise()` regrouping output by 'team' (override with `.groups` argument)\n",
            "\n"
          ],
          "name": "stderr"
        },
        {
          "output_type": "display_data",
          "data": {
            "text/plain": [
              "    team     batter_name G_AVG     AB_AVG    R_AVG     \n",
              "1   KIA      강한울       7.500000 19.500000  3.5000000\n",
              "2   KIA      김민식       7.500000 12.000000  1.5000000\n",
              "3   KIA      김선빈      10.000000 22.333333  3.2222222\n",
              "4   KIA      김주찬       8.000000 19.000000  2.5000000\n",
              "5   KIA      김주형       7.727273 17.545455  1.9090909\n",
              "6   KIA      나지완       9.900000 27.700000  3.9000000\n",
              "7   KIA      노수광       2.500000  3.000000  0.0000000\n",
              "8   KIA      박준태      12.000000 18.500000  3.5000000\n",
              "9   KIA      백용환       6.600000 11.800000  1.4000000\n",
              "10  KIA      버나디나     6.500000 17.500000  3.5000000\n",
              "11  KIA      서동욱       6.333333 10.166667  1.5000000\n",
              "12  KIA      신범수       5.500000  9.500000  1.0000000\n",
              "13  KIA      신종길       8.833333 21.833333  4.0000000\n",
              "14  KIA      안치홍       8.375000 24.625000  2.7500000\n",
              "15  KIA      유민상       2.000000  3.000000  0.0000000\n",
              "16  KIA      유재신       5.000000  3.000000  2.0000000\n",
              "17  KIA      윤정우      12.500000 19.000000  4.0000000\n",
              "18  KIA      이대형      11.000000 28.000000 11.0000000\n",
              "19  KIA      이명기       7.500000 21.500000  2.5000000\n",
              "20  KIA      이범호       7.000000 15.500000  1.5000000\n",
              "21  KIA      이성우       7.571429  9.142857  1.2857143\n",
              "22  KIA      이영욱       5.000000  7.000000  3.0000000\n",
              "23  KIA      이용규       7.555556 24.888889  3.0000000\n",
              "24  KIA      이인행       9.000000 15.000000  1.0000000\n",
              "25  KIA      이준호       7.000000  7.750000  1.5000000\n",
              "26  KIA      이호신       9.200000  9.200000  2.2000000\n",
              "27  KIA      정성훈       8.500000 18.500000  3.5000000\n",
              "28  KIA      최원준       6.000000 13.000000  1.6666667\n",
              "29  KIA      최형우       5.500000 14.000000  3.0000000\n",
              "30  KIA      한승택       5.666667  6.000000  0.6666667\n",
              "⋮   ⋮        ⋮           ⋮         ⋮         ⋮         \n",
              "307 한화     오선진       7.000000 12.222222 1.3333333 \n",
              "308 한화     이대수       9.500000 24.500000 3.5000000 \n",
              "309 한화     이동훈       6.666667  4.000000 2.6666667 \n",
              "310 한화     이범호       9.625000 29.000000 4.7500000 \n",
              "311 한화     이성열       8.750000 20.250000 2.7500000 \n",
              "312 한화     이용규       7.500000 22.000000 4.0000000 \n",
              "313 한화     이준수       2.000000  0.500000 0.0000000 \n",
              "314 한화     장민석      12.000000 37.000000 6.0000000 \n",
              "315 한화     장진혁       3.000000  2.000000 0.0000000 \n",
              "316 한화     정경운       6.000000  7.000000 1.0000000 \n",
              "317 한화     정근우       9.000000 28.666667 3.0000000 \n",
              "318 한화     정범모       6.000000  8.000000 0.6666667 \n",
              "319 한화     지성준       8.000000 17.000000 2.0000000 \n",
              "320 한화     최윤석       5.333333  7.666667 1.0000000 \n",
              "321 한화     최재훈       8.000000 15.000000 3.0000000 \n",
              "322 한화     최진행       8.153846 22.230769 2.1538462 \n",
              "323 한화     하주석       6.200000 14.800000 1.8000000 \n",
              "324 한화     한승택      10.000000 15.000000 0.0000000 \n",
              "325 한화     허도환       7.500000 10.000000 1.5000000 \n",
              "326 한화     호잉         6.000000 16.000000 3.0000000 \n",
              "327 현대     유한준      11.000000 26.666667 2.0000000 \n",
              "328 현대     이택근      10.600000 24.400000 2.2000000 \n",
              "329 현대     정성훈      11.600000 38.000000 3.4000000 \n",
              "330 현대     조평호      10.000000 15.000000 0.0000000 \n",
              "331 현대     지석훈       6.750000 12.250000 2.0000000 \n",
              "332 히어로즈 오재일      12.000000 33.000000 1.0000000 \n",
              "333 히어로즈 유재신       8.000000  4.000000 0.0000000 \n",
              "334 히어로즈 이택근       1.000000  3.000000 0.0000000 \n",
              "335 히어로즈 장영석       9.000000  7.000000 0.0000000 \n",
              "336 히어로즈 황재균      11.000000 31.000000 4.0000000 "
            ],
            "text/latex": "A grouped\\_df: 336 × 5\n\\begin{tabular}{lllll}\n team & batter\\_name & G\\_AVG & AB\\_AVG & R\\_AVG\\\\\n <chr> & <chr> & <dbl> & <dbl> & <dbl>\\\\\n\\hline\n\t KIA & 강한울   &  7.500000 & 19.500000 &  3.5000000\\\\\n\t KIA & 김민식   &  7.500000 & 12.000000 &  1.5000000\\\\\n\t KIA & 김선빈   & 10.000000 & 22.333333 &  3.2222222\\\\\n\t KIA & 김주찬   &  8.000000 & 19.000000 &  2.5000000\\\\\n\t KIA & 김주형   &  7.727273 & 17.545455 &  1.9090909\\\\\n\t KIA & 나지완   &  9.900000 & 27.700000 &  3.9000000\\\\\n\t KIA & 노수광   &  2.500000 &  3.000000 &  0.0000000\\\\\n\t KIA & 박준태   & 12.000000 & 18.500000 &  3.5000000\\\\\n\t KIA & 백용환   &  6.600000 & 11.800000 &  1.4000000\\\\\n\t KIA & 버나디나 &  6.500000 & 17.500000 &  3.5000000\\\\\n\t KIA & 서동욱   &  6.333333 & 10.166667 &  1.5000000\\\\\n\t KIA & 신범수   &  5.500000 &  9.500000 &  1.0000000\\\\\n\t KIA & 신종길   &  8.833333 & 21.833333 &  4.0000000\\\\\n\t KIA & 안치홍   &  8.375000 & 24.625000 &  2.7500000\\\\\n\t KIA & 유민상   &  2.000000 &  3.000000 &  0.0000000\\\\\n\t KIA & 유재신   &  5.000000 &  3.000000 &  2.0000000\\\\\n\t KIA & 윤정우   & 12.500000 & 19.000000 &  4.0000000\\\\\n\t KIA & 이대형   & 11.000000 & 28.000000 & 11.0000000\\\\\n\t KIA & 이명기   &  7.500000 & 21.500000 &  2.5000000\\\\\n\t KIA & 이범호   &  7.000000 & 15.500000 &  1.5000000\\\\\n\t KIA & 이성우   &  7.571429 &  9.142857 &  1.2857143\\\\\n\t KIA & 이영욱   &  5.000000 &  7.000000 &  3.0000000\\\\\n\t KIA & 이용규   &  7.555556 & 24.888889 &  3.0000000\\\\\n\t KIA & 이인행   &  9.000000 & 15.000000 &  1.0000000\\\\\n\t KIA & 이준호   &  7.000000 &  7.750000 &  1.5000000\\\\\n\t KIA & 이호신   &  9.200000 &  9.200000 &  2.2000000\\\\\n\t KIA & 정성훈   &  8.500000 & 18.500000 &  3.5000000\\\\\n\t KIA & 최원준   &  6.000000 & 13.000000 &  1.6666667\\\\\n\t KIA & 최형우   &  5.500000 & 14.000000 &  3.0000000\\\\\n\t KIA & 한승택   &  5.666667 &  6.000000 &  0.6666667\\\\\n\t ⋮ & ⋮ & ⋮ & ⋮ & ⋮\\\\\n\t 한화     & 오선진 &  7.000000 & 12.222222 & 1.3333333\\\\\n\t 한화     & 이대수 &  9.500000 & 24.500000 & 3.5000000\\\\\n\t 한화     & 이동훈 &  6.666667 &  4.000000 & 2.6666667\\\\\n\t 한화     & 이범호 &  9.625000 & 29.000000 & 4.7500000\\\\\n\t 한화     & 이성열 &  8.750000 & 20.250000 & 2.7500000\\\\\n\t 한화     & 이용규 &  7.500000 & 22.000000 & 4.0000000\\\\\n\t 한화     & 이준수 &  2.000000 &  0.500000 & 0.0000000\\\\\n\t 한화     & 장민석 & 12.000000 & 37.000000 & 6.0000000\\\\\n\t 한화     & 장진혁 &  3.000000 &  2.000000 & 0.0000000\\\\\n\t 한화     & 정경운 &  6.000000 &  7.000000 & 1.0000000\\\\\n\t 한화     & 정근우 &  9.000000 & 28.666667 & 3.0000000\\\\\n\t 한화     & 정범모 &  6.000000 &  8.000000 & 0.6666667\\\\\n\t 한화     & 지성준 &  8.000000 & 17.000000 & 2.0000000\\\\\n\t 한화     & 최윤석 &  5.333333 &  7.666667 & 1.0000000\\\\\n\t 한화     & 최재훈 &  8.000000 & 15.000000 & 3.0000000\\\\\n\t 한화     & 최진행 &  8.153846 & 22.230769 & 2.1538462\\\\\n\t 한화     & 하주석 &  6.200000 & 14.800000 & 1.8000000\\\\\n\t 한화     & 한승택 & 10.000000 & 15.000000 & 0.0000000\\\\\n\t 한화     & 허도환 &  7.500000 & 10.000000 & 1.5000000\\\\\n\t 한화     & 호잉   &  6.000000 & 16.000000 & 3.0000000\\\\\n\t 현대     & 유한준 & 11.000000 & 26.666667 & 2.0000000\\\\\n\t 현대     & 이택근 & 10.600000 & 24.400000 & 2.2000000\\\\\n\t 현대     & 정성훈 & 11.600000 & 38.000000 & 3.4000000\\\\\n\t 현대     & 조평호 & 10.000000 & 15.000000 & 0.0000000\\\\\n\t 현대     & 지석훈 &  6.750000 & 12.250000 & 2.0000000\\\\\n\t 히어로즈 & 오재일 & 12.000000 & 33.000000 & 1.0000000\\\\\n\t 히어로즈 & 유재신 &  8.000000 &  4.000000 & 0.0000000\\\\\n\t 히어로즈 & 이택근 &  1.000000 &  3.000000 & 0.0000000\\\\\n\t 히어로즈 & 장영석 &  9.000000 &  7.000000 & 0.0000000\\\\\n\t 히어로즈 & 황재균 & 11.000000 & 31.000000 & 4.0000000\\\\\n\\end{tabular}\n",
            "text/markdown": "\nA grouped_df: 336 × 5\n\n| team &lt;chr&gt; | batter_name &lt;chr&gt; | G_AVG &lt;dbl&gt; | AB_AVG &lt;dbl&gt; | R_AVG &lt;dbl&gt; |\n|---|---|---|---|---|\n| KIA | 강한울   |  7.500000 | 19.500000 |  3.5000000 |\n| KIA | 김민식   |  7.500000 | 12.000000 |  1.5000000 |\n| KIA | 김선빈   | 10.000000 | 22.333333 |  3.2222222 |\n| KIA | 김주찬   |  8.000000 | 19.000000 |  2.5000000 |\n| KIA | 김주형   |  7.727273 | 17.545455 |  1.9090909 |\n| KIA | 나지완   |  9.900000 | 27.700000 |  3.9000000 |\n| KIA | 노수광   |  2.500000 |  3.000000 |  0.0000000 |\n| KIA | 박준태   | 12.000000 | 18.500000 |  3.5000000 |\n| KIA | 백용환   |  6.600000 | 11.800000 |  1.4000000 |\n| KIA | 버나디나 |  6.500000 | 17.500000 |  3.5000000 |\n| KIA | 서동욱   |  6.333333 | 10.166667 |  1.5000000 |\n| KIA | 신범수   |  5.500000 |  9.500000 |  1.0000000 |\n| KIA | 신종길   |  8.833333 | 21.833333 |  4.0000000 |\n| KIA | 안치홍   |  8.375000 | 24.625000 |  2.7500000 |\n| KIA | 유민상   |  2.000000 |  3.000000 |  0.0000000 |\n| KIA | 유재신   |  5.000000 |  3.000000 |  2.0000000 |\n| KIA | 윤정우   | 12.500000 | 19.000000 |  4.0000000 |\n| KIA | 이대형   | 11.000000 | 28.000000 | 11.0000000 |\n| KIA | 이명기   |  7.500000 | 21.500000 |  2.5000000 |\n| KIA | 이범호   |  7.000000 | 15.500000 |  1.5000000 |\n| KIA | 이성우   |  7.571429 |  9.142857 |  1.2857143 |\n| KIA | 이영욱   |  5.000000 |  7.000000 |  3.0000000 |\n| KIA | 이용규   |  7.555556 | 24.888889 |  3.0000000 |\n| KIA | 이인행   |  9.000000 | 15.000000 |  1.0000000 |\n| KIA | 이준호   |  7.000000 |  7.750000 |  1.5000000 |\n| KIA | 이호신   |  9.200000 |  9.200000 |  2.2000000 |\n| KIA | 정성훈   |  8.500000 | 18.500000 |  3.5000000 |\n| KIA | 최원준   |  6.000000 | 13.000000 |  1.6666667 |\n| KIA | 최형우   |  5.500000 | 14.000000 |  3.0000000 |\n| KIA | 한승택   |  5.666667 |  6.000000 |  0.6666667 |\n| ⋮ | ⋮ | ⋮ | ⋮ | ⋮ |\n| 한화     | 오선진 |  7.000000 | 12.222222 | 1.3333333 |\n| 한화     | 이대수 |  9.500000 | 24.500000 | 3.5000000 |\n| 한화     | 이동훈 |  6.666667 |  4.000000 | 2.6666667 |\n| 한화     | 이범호 |  9.625000 | 29.000000 | 4.7500000 |\n| 한화     | 이성열 |  8.750000 | 20.250000 | 2.7500000 |\n| 한화     | 이용규 |  7.500000 | 22.000000 | 4.0000000 |\n| 한화     | 이준수 |  2.000000 |  0.500000 | 0.0000000 |\n| 한화     | 장민석 | 12.000000 | 37.000000 | 6.0000000 |\n| 한화     | 장진혁 |  3.000000 |  2.000000 | 0.0000000 |\n| 한화     | 정경운 |  6.000000 |  7.000000 | 1.0000000 |\n| 한화     | 정근우 |  9.000000 | 28.666667 | 3.0000000 |\n| 한화     | 정범모 |  6.000000 |  8.000000 | 0.6666667 |\n| 한화     | 지성준 |  8.000000 | 17.000000 | 2.0000000 |\n| 한화     | 최윤석 |  5.333333 |  7.666667 | 1.0000000 |\n| 한화     | 최재훈 |  8.000000 | 15.000000 | 3.0000000 |\n| 한화     | 최진행 |  8.153846 | 22.230769 | 2.1538462 |\n| 한화     | 하주석 |  6.200000 | 14.800000 | 1.8000000 |\n| 한화     | 한승택 | 10.000000 | 15.000000 | 0.0000000 |\n| 한화     | 허도환 |  7.500000 | 10.000000 | 1.5000000 |\n| 한화     | 호잉   |  6.000000 | 16.000000 | 3.0000000 |\n| 현대     | 유한준 | 11.000000 | 26.666667 | 2.0000000 |\n| 현대     | 이택근 | 10.600000 | 24.400000 | 2.2000000 |\n| 현대     | 정성훈 | 11.600000 | 38.000000 | 3.4000000 |\n| 현대     | 조평호 | 10.000000 | 15.000000 | 0.0000000 |\n| 현대     | 지석훈 |  6.750000 | 12.250000 | 2.0000000 |\n| 히어로즈 | 오재일 | 12.000000 | 33.000000 | 1.0000000 |\n| 히어로즈 | 유재신 |  8.000000 |  4.000000 | 0.0000000 |\n| 히어로즈 | 이택근 |  1.000000 |  3.000000 | 0.0000000 |\n| 히어로즈 | 장영석 |  9.000000 |  7.000000 | 0.0000000 |\n| 히어로즈 | 황재균 | 11.000000 | 31.000000 | 4.0000000 |\n\n",
            "text/html": [
              "<table>\n",
              "<caption>A grouped_df: 336 × 5</caption>\n",
              "<thead>\n",
              "\t<tr><th scope=col>team</th><th scope=col>batter_name</th><th scope=col>G_AVG</th><th scope=col>AB_AVG</th><th scope=col>R_AVG</th></tr>\n",
              "\t<tr><th scope=col>&lt;chr&gt;</th><th scope=col>&lt;chr&gt;</th><th scope=col>&lt;dbl&gt;</th><th scope=col>&lt;dbl&gt;</th><th scope=col>&lt;dbl&gt;</th></tr>\n",
              "</thead>\n",
              "<tbody>\n",
              "\t<tr><td>KIA</td><td>강한울  </td><td> 7.500000</td><td>19.500000</td><td> 3.5000000</td></tr>\n",
              "\t<tr><td>KIA</td><td>김민식  </td><td> 7.500000</td><td>12.000000</td><td> 1.5000000</td></tr>\n",
              "\t<tr><td>KIA</td><td>김선빈  </td><td>10.000000</td><td>22.333333</td><td> 3.2222222</td></tr>\n",
              "\t<tr><td>KIA</td><td>김주찬  </td><td> 8.000000</td><td>19.000000</td><td> 2.5000000</td></tr>\n",
              "\t<tr><td>KIA</td><td>김주형  </td><td> 7.727273</td><td>17.545455</td><td> 1.9090909</td></tr>\n",
              "\t<tr><td>KIA</td><td>나지완  </td><td> 9.900000</td><td>27.700000</td><td> 3.9000000</td></tr>\n",
              "\t<tr><td>KIA</td><td>노수광  </td><td> 2.500000</td><td> 3.000000</td><td> 0.0000000</td></tr>\n",
              "\t<tr><td>KIA</td><td>박준태  </td><td>12.000000</td><td>18.500000</td><td> 3.5000000</td></tr>\n",
              "\t<tr><td>KIA</td><td>백용환  </td><td> 6.600000</td><td>11.800000</td><td> 1.4000000</td></tr>\n",
              "\t<tr><td>KIA</td><td>버나디나</td><td> 6.500000</td><td>17.500000</td><td> 3.5000000</td></tr>\n",
              "\t<tr><td>KIA</td><td>서동욱  </td><td> 6.333333</td><td>10.166667</td><td> 1.5000000</td></tr>\n",
              "\t<tr><td>KIA</td><td>신범수  </td><td> 5.500000</td><td> 9.500000</td><td> 1.0000000</td></tr>\n",
              "\t<tr><td>KIA</td><td>신종길  </td><td> 8.833333</td><td>21.833333</td><td> 4.0000000</td></tr>\n",
              "\t<tr><td>KIA</td><td>안치홍  </td><td> 8.375000</td><td>24.625000</td><td> 2.7500000</td></tr>\n",
              "\t<tr><td>KIA</td><td>유민상  </td><td> 2.000000</td><td> 3.000000</td><td> 0.0000000</td></tr>\n",
              "\t<tr><td>KIA</td><td>유재신  </td><td> 5.000000</td><td> 3.000000</td><td> 2.0000000</td></tr>\n",
              "\t<tr><td>KIA</td><td>윤정우  </td><td>12.500000</td><td>19.000000</td><td> 4.0000000</td></tr>\n",
              "\t<tr><td>KIA</td><td>이대형  </td><td>11.000000</td><td>28.000000</td><td>11.0000000</td></tr>\n",
              "\t<tr><td>KIA</td><td>이명기  </td><td> 7.500000</td><td>21.500000</td><td> 2.5000000</td></tr>\n",
              "\t<tr><td>KIA</td><td>이범호  </td><td> 7.000000</td><td>15.500000</td><td> 1.5000000</td></tr>\n",
              "\t<tr><td>KIA</td><td>이성우  </td><td> 7.571429</td><td> 9.142857</td><td> 1.2857143</td></tr>\n",
              "\t<tr><td>KIA</td><td>이영욱  </td><td> 5.000000</td><td> 7.000000</td><td> 3.0000000</td></tr>\n",
              "\t<tr><td>KIA</td><td>이용규  </td><td> 7.555556</td><td>24.888889</td><td> 3.0000000</td></tr>\n",
              "\t<tr><td>KIA</td><td>이인행  </td><td> 9.000000</td><td>15.000000</td><td> 1.0000000</td></tr>\n",
              "\t<tr><td>KIA</td><td>이준호  </td><td> 7.000000</td><td> 7.750000</td><td> 1.5000000</td></tr>\n",
              "\t<tr><td>KIA</td><td>이호신  </td><td> 9.200000</td><td> 9.200000</td><td> 2.2000000</td></tr>\n",
              "\t<tr><td>KIA</td><td>정성훈  </td><td> 8.500000</td><td>18.500000</td><td> 3.5000000</td></tr>\n",
              "\t<tr><td>KIA</td><td>최원준  </td><td> 6.000000</td><td>13.000000</td><td> 1.6666667</td></tr>\n",
              "\t<tr><td>KIA</td><td>최형우  </td><td> 5.500000</td><td>14.000000</td><td> 3.0000000</td></tr>\n",
              "\t<tr><td>KIA</td><td>한승택  </td><td> 5.666667</td><td> 6.000000</td><td> 0.6666667</td></tr>\n",
              "\t<tr><td>⋮</td><td>⋮</td><td>⋮</td><td>⋮</td><td>⋮</td></tr>\n",
              "\t<tr><td>한화    </td><td>오선진</td><td> 7.000000</td><td>12.222222</td><td>1.3333333</td></tr>\n",
              "\t<tr><td>한화    </td><td>이대수</td><td> 9.500000</td><td>24.500000</td><td>3.5000000</td></tr>\n",
              "\t<tr><td>한화    </td><td>이동훈</td><td> 6.666667</td><td> 4.000000</td><td>2.6666667</td></tr>\n",
              "\t<tr><td>한화    </td><td>이범호</td><td> 9.625000</td><td>29.000000</td><td>4.7500000</td></tr>\n",
              "\t<tr><td>한화    </td><td>이성열</td><td> 8.750000</td><td>20.250000</td><td>2.7500000</td></tr>\n",
              "\t<tr><td>한화    </td><td>이용규</td><td> 7.500000</td><td>22.000000</td><td>4.0000000</td></tr>\n",
              "\t<tr><td>한화    </td><td>이준수</td><td> 2.000000</td><td> 0.500000</td><td>0.0000000</td></tr>\n",
              "\t<tr><td>한화    </td><td>장민석</td><td>12.000000</td><td>37.000000</td><td>6.0000000</td></tr>\n",
              "\t<tr><td>한화    </td><td>장진혁</td><td> 3.000000</td><td> 2.000000</td><td>0.0000000</td></tr>\n",
              "\t<tr><td>한화    </td><td>정경운</td><td> 6.000000</td><td> 7.000000</td><td>1.0000000</td></tr>\n",
              "\t<tr><td>한화    </td><td>정근우</td><td> 9.000000</td><td>28.666667</td><td>3.0000000</td></tr>\n",
              "\t<tr><td>한화    </td><td>정범모</td><td> 6.000000</td><td> 8.000000</td><td>0.6666667</td></tr>\n",
              "\t<tr><td>한화    </td><td>지성준</td><td> 8.000000</td><td>17.000000</td><td>2.0000000</td></tr>\n",
              "\t<tr><td>한화    </td><td>최윤석</td><td> 5.333333</td><td> 7.666667</td><td>1.0000000</td></tr>\n",
              "\t<tr><td>한화    </td><td>최재훈</td><td> 8.000000</td><td>15.000000</td><td>3.0000000</td></tr>\n",
              "\t<tr><td>한화    </td><td>최진행</td><td> 8.153846</td><td>22.230769</td><td>2.1538462</td></tr>\n",
              "\t<tr><td>한화    </td><td>하주석</td><td> 6.200000</td><td>14.800000</td><td>1.8000000</td></tr>\n",
              "\t<tr><td>한화    </td><td>한승택</td><td>10.000000</td><td>15.000000</td><td>0.0000000</td></tr>\n",
              "\t<tr><td>한화    </td><td>허도환</td><td> 7.500000</td><td>10.000000</td><td>1.5000000</td></tr>\n",
              "\t<tr><td>한화    </td><td>호잉  </td><td> 6.000000</td><td>16.000000</td><td>3.0000000</td></tr>\n",
              "\t<tr><td>현대    </td><td>유한준</td><td>11.000000</td><td>26.666667</td><td>2.0000000</td></tr>\n",
              "\t<tr><td>현대    </td><td>이택근</td><td>10.600000</td><td>24.400000</td><td>2.2000000</td></tr>\n",
              "\t<tr><td>현대    </td><td>정성훈</td><td>11.600000</td><td>38.000000</td><td>3.4000000</td></tr>\n",
              "\t<tr><td>현대    </td><td>조평호</td><td>10.000000</td><td>15.000000</td><td>0.0000000</td></tr>\n",
              "\t<tr><td>현대    </td><td>지석훈</td><td> 6.750000</td><td>12.250000</td><td>2.0000000</td></tr>\n",
              "\t<tr><td>히어로즈</td><td>오재일</td><td>12.000000</td><td>33.000000</td><td>1.0000000</td></tr>\n",
              "\t<tr><td>히어로즈</td><td>유재신</td><td> 8.000000</td><td> 4.000000</td><td>0.0000000</td></tr>\n",
              "\t<tr><td>히어로즈</td><td>이택근</td><td> 1.000000</td><td> 3.000000</td><td>0.0000000</td></tr>\n",
              "\t<tr><td>히어로즈</td><td>장영석</td><td> 9.000000</td><td> 7.000000</td><td>0.0000000</td></tr>\n",
              "\t<tr><td>히어로즈</td><td>황재균</td><td>11.000000</td><td>31.000000</td><td>4.0000000</td></tr>\n",
              "</tbody>\n",
              "</table>\n"
            ]
          },
          "metadata": {
            "tags": []
          }
        }
      ]
    },
    {
      "cell_type": "markdown",
      "metadata": {
        "id": "-JT-e47Yu5nd"
      },
      "source": [
        "##2. dplyr(``arrange,rename,mutate,sample_frac/n ``)"
      ]
    },
    {
      "cell_type": "markdown",
      "metadata": {
        "id": "oqteJub_u5nz"
      },
      "source": [
        "* ``arrange``\n",
        "  1. 지정한 열을 기준으로 작은 값으로부터 큰 값의 순(오름차순)으로 데이터를 정렬.    역순 정렬(내림차순) ``desc()``"
      ]
    },
    {
      "cell_type": "code",
      "metadata": {
        "id": "ypYYIm2LVmhn",
        "outputId": "85420b3f-eafd-4947-e5b4-80a3c8dbc552",
        "colab": {
          "base_uri": "https://localhost:8080/"
        }
      },
      "source": [
        "DF %>% show()"
      ],
      "execution_count": null,
      "outputs": [
        {
          "output_type": "stream",
          "text": [
            "\u001b[90m# A tibble: 1,393 x 29\u001b[39m\n",
            "   batter_id batter_name  year team  avg       G    AB     R     H  `2B`  `3B`\n",
            "       \u001b[3m\u001b[90m<int>\u001b[39m\u001b[23m \u001b[3m\u001b[90m<chr>\u001b[39m\u001b[23m       \u001b[3m\u001b[90m<int>\u001b[39m\u001b[23m \u001b[3m\u001b[90m<chr>\u001b[39m\u001b[23m \u001b[3m\u001b[90m<chr>\u001b[39m\u001b[23m \u001b[3m\u001b[90m<int>\u001b[39m\u001b[23m \u001b[3m\u001b[90m<int>\u001b[39m\u001b[23m \u001b[3m\u001b[90m<int>\u001b[39m\u001b[23m \u001b[3m\u001b[90m<int>\u001b[39m\u001b[23m \u001b[3m\u001b[90m<int>\u001b[39m\u001b[23m \u001b[3m\u001b[90m<int>\u001b[39m\u001b[23m\n",
            "\u001b[90m 1\u001b[39m         0 가르시아     \u001b[4m2\u001b[24m018 LG    0.350     7    20     1     7     1     0\n",
            "\u001b[90m 2\u001b[39m         1 강경학       \u001b[4m2\u001b[24m011 한화  0.000     4     2     2     0     0     0\n",
            "\u001b[90m 3\u001b[39m         1 강경학       \u001b[4m2\u001b[24m014 한화  -         4     0     2     0     0     0\n",
            "\u001b[90m 4\u001b[39m         1 강경학       \u001b[4m2\u001b[24m015 한화  0.130    10    23     3     3     0     0\n",
            "\u001b[90m 5\u001b[39m         1 강경학       \u001b[4m2\u001b[24m016 한화  0.188    14    32     4     6     1     1\n",
            "\u001b[90m 6\u001b[39m         1 강경학       \u001b[4m2\u001b[24m017 한화  0.222    11    36    10     8     0     0\n",
            "\u001b[90m 7\u001b[39m         2 강구성       \u001b[4m2\u001b[24m013 NC    0.000     3     4     0     0     0     0\n",
            "\u001b[90m 8\u001b[39m         2 강구성       \u001b[4m2\u001b[24m016 NC    0.000     3     1     0     0     0     0\n",
            "\u001b[90m 9\u001b[39m         2 강구성       \u001b[4m2\u001b[24m017 NC    1.000     2     1     0     1     0     0\n",
            "\u001b[90m10\u001b[39m        69 김태완       \u001b[4m2\u001b[24m006 한화  0.200    10    15     0     3     0     0\n",
            "\u001b[90m# … with 1,383 more rows, and 18 more variables: HR \u001b[3m\u001b[90m<int>\u001b[90m\u001b[23m, TB \u001b[3m\u001b[90m<int>\u001b[90m\u001b[23m, RBI \u001b[3m\u001b[90m<int>\u001b[90m\u001b[23m,\u001b[39m\n",
            "\u001b[90m#   SB \u001b[3m\u001b[90m<int>\u001b[90m\u001b[23m, CS \u001b[3m\u001b[90m<int>\u001b[90m\u001b[23m, BB \u001b[3m\u001b[90m<int>\u001b[90m\u001b[23m, HBP \u001b[3m\u001b[90m<int>\u001b[90m\u001b[23m, SO \u001b[3m\u001b[90m<int>\u001b[90m\u001b[23m, GDP \u001b[3m\u001b[90m<int>\u001b[90m\u001b[23m, SLG \u001b[3m\u001b[90m<dbl>\u001b[90m\u001b[23m,\u001b[39m\n",
            "\u001b[90m#   OBP \u001b[3m\u001b[90m<dbl>\u001b[90m\u001b[23m, E \u001b[3m\u001b[90m<int>\u001b[90m\u001b[23m, `height/weight` \u001b[3m\u001b[90m<chr>\u001b[90m\u001b[23m, year_born \u001b[3m\u001b[90m<chr>\u001b[90m\u001b[23m, position \u001b[3m\u001b[90m<chr>\u001b[90m\u001b[23m,\u001b[39m\n",
            "\u001b[90m#   career \u001b[3m\u001b[90m<chr>\u001b[90m\u001b[23m, starting_salary \u001b[3m\u001b[90m<chr>\u001b[90m\u001b[23m, OPS \u001b[3m\u001b[90m<dbl>\u001b[90m\u001b[23m\u001b[39m\n"
          ],
          "name": "stdout"
        }
      ]
    },
    {
      "cell_type": "code",
      "metadata": {
        "id": "K6-38JE4u5n0"
      },
      "source": [
        "DF %>% arrange(year)"
      ],
      "execution_count": null,
      "outputs": []
    },
    {
      "cell_type": "code",
      "metadata": {
        "id": "8B6y0BiTgLuq",
        "outputId": "19198f2d-0293-4918-fa09-22f3fd5fc08a",
        "colab": {
          "base_uri": "https://localhost:8080/"
        }
      },
      "source": [
        "DF %>% arrange(year, desc(team)) %>% show() # year는 ascending(오름차순), team은 descending(내림차순)"
      ],
      "execution_count": null,
      "outputs": [
        {
          "output_type": "stream",
          "text": [
            "\u001b[90m# A tibble: 1,393 x 29\u001b[39m\n",
            "   batter_id batter_name  year team  avg       G    AB     R     H  `2B`  `3B`\n",
            "       \u001b[3m\u001b[90m<int>\u001b[39m\u001b[23m \u001b[3m\u001b[90m<chr>\u001b[39m\u001b[23m       \u001b[3m\u001b[90m<int>\u001b[39m\u001b[23m \u001b[3m\u001b[90m<chr>\u001b[39m\u001b[23m \u001b[3m\u001b[90m<chr>\u001b[39m\u001b[23m \u001b[3m\u001b[90m<int>\u001b[39m\u001b[23m \u001b[3m\u001b[90m<int>\u001b[39m\u001b[23m \u001b[3m\u001b[90m<int>\u001b[39m\u001b[23m \u001b[3m\u001b[90m<int>\u001b[39m\u001b[23m \u001b[3m\u001b[90m<int>\u001b[39m\u001b[23m \u001b[3m\u001b[90m<int>\u001b[39m\u001b[23m\n",
            "\u001b[90m 1\u001b[39m        67 김태균       \u001b[4m2\u001b[24m002 한화  0.235    11    34     7     8     5     0\n",
            "\u001b[90m 2\u001b[39m       207 이범호       \u001b[4m2\u001b[24m002 한화  0.167     7     6     2     1     1     0\n",
            "\u001b[90m 3\u001b[39m       131 박한이       \u001b[4m2\u001b[24m002 삼성  0.319    11    47     7    15     3     0\n",
            "\u001b[90m 4\u001b[39m       283 조동찬       \u001b[4m2\u001b[24m002 삼성  0.000     4     1     0     0     0     0\n",
            "\u001b[90m 5\u001b[39m       319 최형우       \u001b[4m2\u001b[24m002 삼성  0.000     5     5     1     0     0     0\n",
            "\u001b[90m 6\u001b[39m        62 김주찬       \u001b[4m2\u001b[24m002 롯데  0.107     9    28     2     3     0     0\n",
            "\u001b[90m 7\u001b[39m       109 박기혁       \u001b[4m2\u001b[24m002 롯데  0.000     8     5     1     0     0     0\n",
            "\u001b[90m 8\u001b[39m       202 이대호       \u001b[4m2\u001b[24m002 롯데  0.359    11    39     4    14     3     0\n",
            "\u001b[90m 9\u001b[39m       234 이진영       \u001b[4m2\u001b[24m002 SK    0.297    11    37     5    11     2     0\n",
            "\u001b[90m10\u001b[39m       269 정상호       \u001b[4m2\u001b[24m002 SK    0.158    13    19     3     3     1     0\n",
            "\u001b[90m# … with 1,383 more rows, and 18 more variables: HR \u001b[3m\u001b[90m<int>\u001b[90m\u001b[23m, TB \u001b[3m\u001b[90m<int>\u001b[90m\u001b[23m, RBI \u001b[3m\u001b[90m<int>\u001b[90m\u001b[23m,\u001b[39m\n",
            "\u001b[90m#   SB \u001b[3m\u001b[90m<int>\u001b[90m\u001b[23m, CS \u001b[3m\u001b[90m<int>\u001b[90m\u001b[23m, BB \u001b[3m\u001b[90m<int>\u001b[90m\u001b[23m, HBP \u001b[3m\u001b[90m<int>\u001b[90m\u001b[23m, SO \u001b[3m\u001b[90m<int>\u001b[90m\u001b[23m, GDP \u001b[3m\u001b[90m<int>\u001b[90m\u001b[23m, SLG \u001b[3m\u001b[90m<dbl>\u001b[90m\u001b[23m,\u001b[39m\n",
            "\u001b[90m#   OBP \u001b[3m\u001b[90m<dbl>\u001b[90m\u001b[23m, E \u001b[3m\u001b[90m<int>\u001b[90m\u001b[23m, `height/weight` \u001b[3m\u001b[90m<chr>\u001b[90m\u001b[23m, year_born \u001b[3m\u001b[90m<chr>\u001b[90m\u001b[23m, position \u001b[3m\u001b[90m<chr>\u001b[90m\u001b[23m,\u001b[39m\n",
            "\u001b[90m#   career \u001b[3m\u001b[90m<chr>\u001b[90m\u001b[23m, starting_salary \u001b[3m\u001b[90m<chr>\u001b[90m\u001b[23m, OPS \u001b[3m\u001b[90m<dbl>\u001b[90m\u001b[23m\u001b[39m\n"
          ],
          "name": "stdout"
        }
      ]
    },
    {
      "cell_type": "code",
      "metadata": {
        "id": "dr8uYrOsgTuG",
        "outputId": "5491824d-dc0b-487b-d818-f11eaea888f6",
        "colab": {
          "base_uri": "https://localhost:8080/"
        }
      },
      "source": [
        "DF %>% arrange(team, desc(avg)) %>% show() "
      ],
      "execution_count": null,
      "outputs": [
        {
          "output_type": "stream",
          "text": [
            "\u001b[90m# A tibble: 1,393 x 29\u001b[39m\n",
            "   batter_id batter_name  year team  avg       G    AB     R     H  `2B`  `3B`\n",
            "       \u001b[3m\u001b[90m<int>\u001b[39m\u001b[23m \u001b[3m\u001b[90m<chr>\u001b[39m\u001b[23m       \u001b[3m\u001b[90m<int>\u001b[39m\u001b[23m \u001b[3m\u001b[90m<chr>\u001b[39m\u001b[23m \u001b[3m\u001b[90m<chr>\u001b[39m\u001b[23m \u001b[3m\u001b[90m<int>\u001b[39m\u001b[23m \u001b[3m\u001b[90m<int>\u001b[39m\u001b[23m \u001b[3m\u001b[90m<int>\u001b[39m\u001b[23m \u001b[3m\u001b[90m<int>\u001b[39m\u001b[23m \u001b[3m\u001b[90m<int>\u001b[39m\u001b[23m \u001b[3m\u001b[90m<int>\u001b[39m\u001b[23m\n",
            "\u001b[90m 1\u001b[39m       145 서동욱       \u001b[4m2\u001b[24m004 KIA   1.000     1     1     1     1     0     0\n",
            "\u001b[90m 2\u001b[39m       217 이용규       \u001b[4m2\u001b[24m009 KIA   1.000     1     2     0     2     0     0\n",
            "\u001b[90m 3\u001b[39m        12 강한울       \u001b[4m2\u001b[24m015 KIA   0.600     3    10     2     6     0     1\n",
            "\u001b[90m 4\u001b[39m       139 백용환       \u001b[4m2\u001b[24m018 KIA   0.600     3     5     1     3     1     0\n",
            "\u001b[90m 5\u001b[39m       243 이호신       \u001b[4m2\u001b[24m009 KIA   0.500     9     6     1     3     0     0\n",
            "\u001b[90m 6\u001b[39m       163 신종길       \u001b[4m2\u001b[24m017 KIA   0.500     1     2     1     1     0     0\n",
            "\u001b[90m 7\u001b[39m       169 안치홍       \u001b[4m2\u001b[24m017 KIA   0.500     4    10     1     5     1     0\n",
            "\u001b[90m 8\u001b[39m       232 이준호       \u001b[4m2\u001b[24m013 KIA   0.500     6     8     2     4     1     0\n",
            "\u001b[90m 9\u001b[39m       319 최형우       \u001b[4m2\u001b[24m018 KIA   0.500     4    14     3     7     1     0\n",
            "\u001b[90m10\u001b[39m       160 신범수       \u001b[4m2\u001b[24m017 KIA   0.471     9    17     2     8     2     0\n",
            "\u001b[90m# … with 1,383 more rows, and 18 more variables: HR \u001b[3m\u001b[90m<int>\u001b[90m\u001b[23m, TB \u001b[3m\u001b[90m<int>\u001b[90m\u001b[23m, RBI \u001b[3m\u001b[90m<int>\u001b[90m\u001b[23m,\u001b[39m\n",
            "\u001b[90m#   SB \u001b[3m\u001b[90m<int>\u001b[90m\u001b[23m, CS \u001b[3m\u001b[90m<int>\u001b[90m\u001b[23m, BB \u001b[3m\u001b[90m<int>\u001b[90m\u001b[23m, HBP \u001b[3m\u001b[90m<int>\u001b[90m\u001b[23m, SO \u001b[3m\u001b[90m<int>\u001b[90m\u001b[23m, GDP \u001b[3m\u001b[90m<int>\u001b[90m\u001b[23m, SLG \u001b[3m\u001b[90m<dbl>\u001b[90m\u001b[23m,\u001b[39m\n",
            "\u001b[90m#   OBP \u001b[3m\u001b[90m<dbl>\u001b[90m\u001b[23m, E \u001b[3m\u001b[90m<int>\u001b[90m\u001b[23m, `height/weight` \u001b[3m\u001b[90m<chr>\u001b[90m\u001b[23m, year_born \u001b[3m\u001b[90m<chr>\u001b[90m\u001b[23m, position \u001b[3m\u001b[90m<chr>\u001b[90m\u001b[23m,\u001b[39m\n",
            "\u001b[90m#   career \u001b[3m\u001b[90m<chr>\u001b[90m\u001b[23m, starting_salary \u001b[3m\u001b[90m<chr>\u001b[90m\u001b[23m, OPS \u001b[3m\u001b[90m<dbl>\u001b[90m\u001b[23m\u001b[39m\n"
          ],
          "name": "stdout"
        }
      ]
    },
    {
      "cell_type": "markdown",
      "metadata": {
        "id": "_Sfd58Hlivpr"
      },
      "source": [
        "* ``rename`` \n",
        " 1. 특정 열의 이름 변경\n",
        " 2. rename(new_name = old_name) "
      ]
    },
    {
      "cell_type": "code",
      "metadata": {
        "id": "rBwBB0ks4LYC",
        "outputId": "5d5cf45d-07e1-418d-f135-b15c8e76bdc6",
        "colab": {
          "base_uri": "https://localhost:8080/"
        }
      },
      "source": [
        "DF %>% show()"
      ],
      "execution_count": null,
      "outputs": [
        {
          "output_type": "stream",
          "text": [
            "\u001b[90m# A tibble: 1,393 x 29\u001b[39m\n",
            "   batter_id batter_name  year team  avg       G    AB     R     H  `2B`  `3B`\n",
            "       \u001b[3m\u001b[90m<int>\u001b[39m\u001b[23m \u001b[3m\u001b[90m<chr>\u001b[39m\u001b[23m       \u001b[3m\u001b[90m<int>\u001b[39m\u001b[23m \u001b[3m\u001b[90m<chr>\u001b[39m\u001b[23m \u001b[3m\u001b[90m<chr>\u001b[39m\u001b[23m \u001b[3m\u001b[90m<int>\u001b[39m\u001b[23m \u001b[3m\u001b[90m<int>\u001b[39m\u001b[23m \u001b[3m\u001b[90m<int>\u001b[39m\u001b[23m \u001b[3m\u001b[90m<int>\u001b[39m\u001b[23m \u001b[3m\u001b[90m<int>\u001b[39m\u001b[23m \u001b[3m\u001b[90m<int>\u001b[39m\u001b[23m\n",
            "\u001b[90m 1\u001b[39m         0 가르시아     \u001b[4m2\u001b[24m018 LG    0.350     7    20     1     7     1     0\n",
            "\u001b[90m 2\u001b[39m         1 강경학       \u001b[4m2\u001b[24m011 한화  0.000     4     2     2     0     0     0\n",
            "\u001b[90m 3\u001b[39m         1 강경학       \u001b[4m2\u001b[24m014 한화  -         4     0     2     0     0     0\n",
            "\u001b[90m 4\u001b[39m         1 강경학       \u001b[4m2\u001b[24m015 한화  0.130    10    23     3     3     0     0\n",
            "\u001b[90m 5\u001b[39m         1 강경학       \u001b[4m2\u001b[24m016 한화  0.188    14    32     4     6     1     1\n",
            "\u001b[90m 6\u001b[39m         1 강경학       \u001b[4m2\u001b[24m017 한화  0.222    11    36    10     8     0     0\n",
            "\u001b[90m 7\u001b[39m         2 강구성       \u001b[4m2\u001b[24m013 NC    0.000     3     4     0     0     0     0\n",
            "\u001b[90m 8\u001b[39m         2 강구성       \u001b[4m2\u001b[24m016 NC    0.000     3     1     0     0     0     0\n",
            "\u001b[90m 9\u001b[39m         2 강구성       \u001b[4m2\u001b[24m017 NC    1.000     2     1     0     1     0     0\n",
            "\u001b[90m10\u001b[39m        69 김태완       \u001b[4m2\u001b[24m006 한화  0.200    10    15     0     3     0     0\n",
            "\u001b[90m# … with 1,383 more rows, and 18 more variables: HR \u001b[3m\u001b[90m<int>\u001b[90m\u001b[23m, TB \u001b[3m\u001b[90m<int>\u001b[90m\u001b[23m, RBI \u001b[3m\u001b[90m<int>\u001b[90m\u001b[23m,\u001b[39m\n",
            "\u001b[90m#   SB \u001b[3m\u001b[90m<int>\u001b[90m\u001b[23m, CS \u001b[3m\u001b[90m<int>\u001b[90m\u001b[23m, BB \u001b[3m\u001b[90m<int>\u001b[90m\u001b[23m, HBP \u001b[3m\u001b[90m<int>\u001b[90m\u001b[23m, SO \u001b[3m\u001b[90m<int>\u001b[90m\u001b[23m, GDP \u001b[3m\u001b[90m<int>\u001b[90m\u001b[23m, SLG \u001b[3m\u001b[90m<dbl>\u001b[90m\u001b[23m,\u001b[39m\n",
            "\u001b[90m#   OBP \u001b[3m\u001b[90m<dbl>\u001b[90m\u001b[23m, E \u001b[3m\u001b[90m<int>\u001b[90m\u001b[23m, `height/weight` \u001b[3m\u001b[90m<chr>\u001b[90m\u001b[23m, year_born \u001b[3m\u001b[90m<chr>\u001b[90m\u001b[23m, position \u001b[3m\u001b[90m<chr>\u001b[90m\u001b[23m,\u001b[39m\n",
            "\u001b[90m#   career \u001b[3m\u001b[90m<chr>\u001b[90m\u001b[23m, starting_salary \u001b[3m\u001b[90m<chr>\u001b[90m\u001b[23m, OPS \u001b[3m\u001b[90m<dbl>\u001b[90m\u001b[23m\u001b[39m\n"
          ],
          "name": "stdout"
        }
      ]
    },
    {
      "cell_type": "code",
      "metadata": {
        "id": "jbWLhtvr4Lcw",
        "outputId": "09646eb8-46e6-4eff-ac7a-1f2caaaf066a",
        "colab": {
          "base_uri": "https://localhost:8080/"
        }
      },
      "source": [
        "DF %>% rename(타자_고유_ID = batter_id, 타자_이름 = batter_name, 년도 = year) %>% show()"
      ],
      "execution_count": null,
      "outputs": [
        {
          "output_type": "stream",
          "text": [
            "\u001b[90m# A tibble: 1,393 x 29\u001b[39m\n",
            "   타자_고유_ID 타자_이름  년도 team  avg       G    AB     R     H  `2B`  `3B`\n",
            "          \u001b[3m\u001b[90m<int>\u001b[39m\u001b[23m \u001b[3m\u001b[90m<chr>\u001b[39m\u001b[23m     \u001b[3m\u001b[90m<int>\u001b[39m\u001b[23m \u001b[3m\u001b[90m<chr>\u001b[39m\u001b[23m \u001b[3m\u001b[90m<chr>\u001b[39m\u001b[23m \u001b[3m\u001b[90m<int>\u001b[39m\u001b[23m \u001b[3m\u001b[90m<int>\u001b[39m\u001b[23m \u001b[3m\u001b[90m<int>\u001b[39m\u001b[23m \u001b[3m\u001b[90m<int>\u001b[39m\u001b[23m \u001b[3m\u001b[90m<int>\u001b[39m\u001b[23m \u001b[3m\u001b[90m<int>\u001b[39m\u001b[23m\n",
            "\u001b[90m 1\u001b[39m            0 가르시아   \u001b[4m2\u001b[24m018 LG    0.350     7    20     1     7     1     0\n",
            "\u001b[90m 2\u001b[39m            1 강경학     \u001b[4m2\u001b[24m011 한화  0.000     4     2     2     0     0     0\n",
            "\u001b[90m 3\u001b[39m            1 강경학     \u001b[4m2\u001b[24m014 한화  -         4     0     2     0     0     0\n",
            "\u001b[90m 4\u001b[39m            1 강경학     \u001b[4m2\u001b[24m015 한화  0.130    10    23     3     3     0     0\n",
            "\u001b[90m 5\u001b[39m            1 강경학     \u001b[4m2\u001b[24m016 한화  0.188    14    32     4     6     1     1\n",
            "\u001b[90m 6\u001b[39m            1 강경학     \u001b[4m2\u001b[24m017 한화  0.222    11    36    10     8     0     0\n",
            "\u001b[90m 7\u001b[39m            2 강구성     \u001b[4m2\u001b[24m013 NC    0.000     3     4     0     0     0     0\n",
            "\u001b[90m 8\u001b[39m            2 강구성     \u001b[4m2\u001b[24m016 NC    0.000     3     1     0     0     0     0\n",
            "\u001b[90m 9\u001b[39m            2 강구성     \u001b[4m2\u001b[24m017 NC    1.000     2     1     0     1     0     0\n",
            "\u001b[90m10\u001b[39m           69 김태완     \u001b[4m2\u001b[24m006 한화  0.200    10    15     0     3     0     0\n",
            "\u001b[90m# … with 1,383 more rows, and 18 more variables: HR \u001b[3m\u001b[90m<int>\u001b[90m\u001b[23m, TB \u001b[3m\u001b[90m<int>\u001b[90m\u001b[23m, RBI \u001b[3m\u001b[90m<int>\u001b[90m\u001b[23m,\u001b[39m\n",
            "\u001b[90m#   SB \u001b[3m\u001b[90m<int>\u001b[90m\u001b[23m, CS \u001b[3m\u001b[90m<int>\u001b[90m\u001b[23m, BB \u001b[3m\u001b[90m<int>\u001b[90m\u001b[23m, HBP \u001b[3m\u001b[90m<int>\u001b[90m\u001b[23m, SO \u001b[3m\u001b[90m<int>\u001b[90m\u001b[23m, GDP \u001b[3m\u001b[90m<int>\u001b[90m\u001b[23m, SLG \u001b[3m\u001b[90m<dbl>\u001b[90m\u001b[23m,\u001b[39m\n",
            "\u001b[90m#   OBP \u001b[3m\u001b[90m<dbl>\u001b[90m\u001b[23m, E \u001b[3m\u001b[90m<int>\u001b[90m\u001b[23m, `height/weight` \u001b[3m\u001b[90m<chr>\u001b[90m\u001b[23m, year_born \u001b[3m\u001b[90m<chr>\u001b[90m\u001b[23m, position \u001b[3m\u001b[90m<chr>\u001b[90m\u001b[23m,\u001b[39m\n",
            "\u001b[90m#   career \u001b[3m\u001b[90m<chr>\u001b[90m\u001b[23m, starting_salary \u001b[3m\u001b[90m<chr>\u001b[90m\u001b[23m, OPS \u001b[3m\u001b[90m<dbl>\u001b[90m\u001b[23m\u001b[39m\n"
          ],
          "name": "stdout"
        }
      ]
    },
    {
      "cell_type": "markdown",
      "metadata": {
        "id": "aUEqYldE4OBB"
      },
      "source": [
        "* ``mutate / transmute``\n",
        " 1. mutate : 기존 dataframe에서 기존 열 변형 또는 새로운 열 생성\n",
        " 2. transmute : 기존 dataframe에서 기존 열 변형 또는 새로운 열을 생성하고, 해당 열 제외하고 모두 제거\n",
        " 3. mutate(새로운 열 = 기존 열의 조합한 수식, ...)"
      ]
    },
    {
      "cell_type": "code",
      "metadata": {
        "id": "qgZfPrlS4QDl",
        "outputId": "8b066261-d7d3-4a42-9e63-77739970dbb9",
        "colab": {
          "base_uri": "https://localhost:8080/"
        }
      },
      "source": [
        "DF %>% show()"
      ],
      "execution_count": null,
      "outputs": [
        {
          "output_type": "stream",
          "text": [
            "\u001b[90m# A tibble: 1,393 x 29\u001b[39m\n",
            "   batter_id batter_name  year team  avg       G    AB     R     H  `2B`  `3B`\n",
            "       \u001b[3m\u001b[90m<int>\u001b[39m\u001b[23m \u001b[3m\u001b[90m<chr>\u001b[39m\u001b[23m       \u001b[3m\u001b[90m<int>\u001b[39m\u001b[23m \u001b[3m\u001b[90m<chr>\u001b[39m\u001b[23m \u001b[3m\u001b[90m<chr>\u001b[39m\u001b[23m \u001b[3m\u001b[90m<int>\u001b[39m\u001b[23m \u001b[3m\u001b[90m<int>\u001b[39m\u001b[23m \u001b[3m\u001b[90m<int>\u001b[39m\u001b[23m \u001b[3m\u001b[90m<int>\u001b[39m\u001b[23m \u001b[3m\u001b[90m<int>\u001b[39m\u001b[23m \u001b[3m\u001b[90m<int>\u001b[39m\u001b[23m\n",
            "\u001b[90m 1\u001b[39m         0 가르시아     \u001b[4m2\u001b[24m018 LG    0.350     7    20     1     7     1     0\n",
            "\u001b[90m 2\u001b[39m         1 강경학       \u001b[4m2\u001b[24m011 한화  0.000     4     2     2     0     0     0\n",
            "\u001b[90m 3\u001b[39m         1 강경학       \u001b[4m2\u001b[24m014 한화  -         4     0     2     0     0     0\n",
            "\u001b[90m 4\u001b[39m         1 강경학       \u001b[4m2\u001b[24m015 한화  0.130    10    23     3     3     0     0\n",
            "\u001b[90m 5\u001b[39m         1 강경학       \u001b[4m2\u001b[24m016 한화  0.188    14    32     4     6     1     1\n",
            "\u001b[90m 6\u001b[39m         1 강경학       \u001b[4m2\u001b[24m017 한화  0.222    11    36    10     8     0     0\n",
            "\u001b[90m 7\u001b[39m         2 강구성       \u001b[4m2\u001b[24m013 NC    0.000     3     4     0     0     0     0\n",
            "\u001b[90m 8\u001b[39m         2 강구성       \u001b[4m2\u001b[24m016 NC    0.000     3     1     0     0     0     0\n",
            "\u001b[90m 9\u001b[39m         2 강구성       \u001b[4m2\u001b[24m017 NC    1.000     2     1     0     1     0     0\n",
            "\u001b[90m10\u001b[39m        69 김태완       \u001b[4m2\u001b[24m006 한화  0.200    10    15     0     3     0     0\n",
            "\u001b[90m# … with 1,383 more rows, and 18 more variables: HR \u001b[3m\u001b[90m<int>\u001b[90m\u001b[23m, TB \u001b[3m\u001b[90m<int>\u001b[90m\u001b[23m, RBI \u001b[3m\u001b[90m<int>\u001b[90m\u001b[23m,\u001b[39m\n",
            "\u001b[90m#   SB \u001b[3m\u001b[90m<int>\u001b[90m\u001b[23m, CS \u001b[3m\u001b[90m<int>\u001b[90m\u001b[23m, BB \u001b[3m\u001b[90m<int>\u001b[90m\u001b[23m, HBP \u001b[3m\u001b[90m<int>\u001b[90m\u001b[23m, SO \u001b[3m\u001b[90m<int>\u001b[90m\u001b[23m, GDP \u001b[3m\u001b[90m<int>\u001b[90m\u001b[23m, SLG \u001b[3m\u001b[90m<dbl>\u001b[90m\u001b[23m,\u001b[39m\n",
            "\u001b[90m#   OBP \u001b[3m\u001b[90m<dbl>\u001b[90m\u001b[23m, E \u001b[3m\u001b[90m<int>\u001b[90m\u001b[23m, `height/weight` \u001b[3m\u001b[90m<chr>\u001b[90m\u001b[23m, year_born \u001b[3m\u001b[90m<chr>\u001b[90m\u001b[23m, position \u001b[3m\u001b[90m<chr>\u001b[90m\u001b[23m,\u001b[39m\n",
            "\u001b[90m#   career \u001b[3m\u001b[90m<chr>\u001b[90m\u001b[23m, starting_salary \u001b[3m\u001b[90m<chr>\u001b[90m\u001b[23m, OPS \u001b[3m\u001b[90m<dbl>\u001b[90m\u001b[23m\u001b[39m\n"
          ],
          "name": "stdout"
        }
      ]
    },
    {
      "cell_type": "code",
      "metadata": {
        "id": "W-_fUJa7OQUR",
        "outputId": "ff8704da-b570-45c0-de74-ebaee8398479",
        "colab": {
          "base_uri": "https://localhost:8080/"
        }
      },
      "source": [
        "DF %>% mutate(batter_id = batter_id + 100) %>% show() # 기존 열의 변형"
      ],
      "execution_count": null,
      "outputs": [
        {
          "output_type": "stream",
          "text": [
            "\u001b[90m# A tibble: 1,393 x 29\u001b[39m\n",
            "   batter_id batter_name  year team  avg       G    AB     R     H  `2B`  `3B`\n",
            "       \u001b[3m\u001b[90m<dbl>\u001b[39m\u001b[23m \u001b[3m\u001b[90m<chr>\u001b[39m\u001b[23m       \u001b[3m\u001b[90m<int>\u001b[39m\u001b[23m \u001b[3m\u001b[90m<chr>\u001b[39m\u001b[23m \u001b[3m\u001b[90m<chr>\u001b[39m\u001b[23m \u001b[3m\u001b[90m<int>\u001b[39m\u001b[23m \u001b[3m\u001b[90m<int>\u001b[39m\u001b[23m \u001b[3m\u001b[90m<int>\u001b[39m\u001b[23m \u001b[3m\u001b[90m<int>\u001b[39m\u001b[23m \u001b[3m\u001b[90m<int>\u001b[39m\u001b[23m \u001b[3m\u001b[90m<int>\u001b[39m\u001b[23m\n",
            "\u001b[90m 1\u001b[39m       100 가르시아     \u001b[4m2\u001b[24m018 LG    0.350     7    20     1     7     1     0\n",
            "\u001b[90m 2\u001b[39m       101 강경학       \u001b[4m2\u001b[24m011 한화  0.000     4     2     2     0     0     0\n",
            "\u001b[90m 3\u001b[39m       101 강경학       \u001b[4m2\u001b[24m014 한화  -         4     0     2     0     0     0\n",
            "\u001b[90m 4\u001b[39m       101 강경학       \u001b[4m2\u001b[24m015 한화  0.130    10    23     3     3     0     0\n",
            "\u001b[90m 5\u001b[39m       101 강경학       \u001b[4m2\u001b[24m016 한화  0.188    14    32     4     6     1     1\n",
            "\u001b[90m 6\u001b[39m       101 강경학       \u001b[4m2\u001b[24m017 한화  0.222    11    36    10     8     0     0\n",
            "\u001b[90m 7\u001b[39m       102 강구성       \u001b[4m2\u001b[24m013 NC    0.000     3     4     0     0     0     0\n",
            "\u001b[90m 8\u001b[39m       102 강구성       \u001b[4m2\u001b[24m016 NC    0.000     3     1     0     0     0     0\n",
            "\u001b[90m 9\u001b[39m       102 강구성       \u001b[4m2\u001b[24m017 NC    1.000     2     1     0     1     0     0\n",
            "\u001b[90m10\u001b[39m       169 김태완       \u001b[4m2\u001b[24m006 한화  0.200    10    15     0     3     0     0\n",
            "\u001b[90m# … with 1,383 more rows, and 18 more variables: HR \u001b[3m\u001b[90m<int>\u001b[90m\u001b[23m, TB \u001b[3m\u001b[90m<int>\u001b[90m\u001b[23m, RBI \u001b[3m\u001b[90m<int>\u001b[90m\u001b[23m,\u001b[39m\n",
            "\u001b[90m#   SB \u001b[3m\u001b[90m<int>\u001b[90m\u001b[23m, CS \u001b[3m\u001b[90m<int>\u001b[90m\u001b[23m, BB \u001b[3m\u001b[90m<int>\u001b[90m\u001b[23m, HBP \u001b[3m\u001b[90m<int>\u001b[90m\u001b[23m, SO \u001b[3m\u001b[90m<int>\u001b[90m\u001b[23m, GDP \u001b[3m\u001b[90m<int>\u001b[90m\u001b[23m, SLG \u001b[3m\u001b[90m<dbl>\u001b[90m\u001b[23m,\u001b[39m\n",
            "\u001b[90m#   OBP \u001b[3m\u001b[90m<dbl>\u001b[90m\u001b[23m, E \u001b[3m\u001b[90m<int>\u001b[90m\u001b[23m, `height/weight` \u001b[3m\u001b[90m<chr>\u001b[90m\u001b[23m, year_born \u001b[3m\u001b[90m<chr>\u001b[90m\u001b[23m, position \u001b[3m\u001b[90m<chr>\u001b[90m\u001b[23m,\u001b[39m\n",
            "\u001b[90m#   career \u001b[3m\u001b[90m<chr>\u001b[90m\u001b[23m, starting_salary \u001b[3m\u001b[90m<chr>\u001b[90m\u001b[23m, OPS \u001b[3m\u001b[90m<dbl>\u001b[90m\u001b[23m\u001b[39m\n"
          ],
          "name": "stdout"
        }
      ]
    },
    {
      "cell_type": "code",
      "metadata": {
        "id": "GsRGMgIdOkGq",
        "outputId": "3ee586f9-9a6d-40ea-9703-4ec3fbeeac25",
        "colab": {
          "base_uri": "https://localhost:8080/"
        }
      },
      "source": [
        "DF %>% mutate(batter_id = paste(batter_id, batter_name, sep = \"_\")) %>% select(-batter_name)%>% show() # 기존 열의 변형 2"
      ],
      "execution_count": null,
      "outputs": [
        {
          "output_type": "stream",
          "text": [
            "\u001b[90m# A tibble: 1,393 x 28\u001b[39m\n",
            "   batter_id  year team  avg       G    AB     R     H  `2B`  `3B`    HR    TB\n",
            "   \u001b[3m\u001b[90m<chr>\u001b[39m\u001b[23m     \u001b[3m\u001b[90m<int>\u001b[39m\u001b[23m \u001b[3m\u001b[90m<chr>\u001b[39m\u001b[23m \u001b[3m\u001b[90m<chr>\u001b[39m\u001b[23m \u001b[3m\u001b[90m<int>\u001b[39m\u001b[23m \u001b[3m\u001b[90m<int>\u001b[39m\u001b[23m \u001b[3m\u001b[90m<int>\u001b[39m\u001b[23m \u001b[3m\u001b[90m<int>\u001b[39m\u001b[23m \u001b[3m\u001b[90m<int>\u001b[39m\u001b[23m \u001b[3m\u001b[90m<int>\u001b[39m\u001b[23m \u001b[3m\u001b[90m<int>\u001b[39m\u001b[23m \u001b[3m\u001b[90m<int>\u001b[39m\u001b[23m\n",
            "\u001b[90m 1\u001b[39m 0_가르시아…  \u001b[4m2\u001b[24m018 LG    0.350     7    20     1     7     1     0     1    11\n",
            "\u001b[90m 2\u001b[39m 1_강경학   \u001b[4m2\u001b[24m011 한화  0.000     4     2     2     0     0     0     0     0\n",
            "\u001b[90m 3\u001b[39m 1_강경학   \u001b[4m2\u001b[24m014 한화  -         4     0     2     0     0     0     0     0\n",
            "\u001b[90m 4\u001b[39m 1_강경학   \u001b[4m2\u001b[24m015 한화  0.130    10    23     3     3     0     0     0     3\n",
            "\u001b[90m 5\u001b[39m 1_강경학   \u001b[4m2\u001b[24m016 한화  0.188    14    32     4     6     1     1     0     9\n",
            "\u001b[90m 6\u001b[39m 1_강경학   \u001b[4m2\u001b[24m017 한화  0.222    11    36    10     8     0     0     2    14\n",
            "\u001b[90m 7\u001b[39m 2_강구성   \u001b[4m2\u001b[24m013 NC    0.000     3     4     0     0     0     0     0     0\n",
            "\u001b[90m 8\u001b[39m 2_강구성   \u001b[4m2\u001b[24m016 NC    0.000     3     1     0     0     0     0     0     0\n",
            "\u001b[90m 9\u001b[39m 2_강구성   \u001b[4m2\u001b[24m017 NC    1.000     2     1     0     1     0     0     0     1\n",
            "\u001b[90m10\u001b[39m 69_김태완  \u001b[4m2\u001b[24m006 한화  0.200    10    15     0     3     0     0     0     3\n",
            "\u001b[90m# … with 1,383 more rows, and 16 more variables: RBI \u001b[3m\u001b[90m<int>\u001b[90m\u001b[23m, SB \u001b[3m\u001b[90m<int>\u001b[90m\u001b[23m, CS \u001b[3m\u001b[90m<int>\u001b[90m\u001b[23m,\u001b[39m\n",
            "\u001b[90m#   BB \u001b[3m\u001b[90m<int>\u001b[90m\u001b[23m, HBP \u001b[3m\u001b[90m<int>\u001b[90m\u001b[23m, SO \u001b[3m\u001b[90m<int>\u001b[90m\u001b[23m, GDP \u001b[3m\u001b[90m<int>\u001b[90m\u001b[23m, SLG \u001b[3m\u001b[90m<dbl>\u001b[90m\u001b[23m, OBP \u001b[3m\u001b[90m<dbl>\u001b[90m\u001b[23m, E \u001b[3m\u001b[90m<int>\u001b[90m\u001b[23m,\u001b[39m\n",
            "\u001b[90m#   `height/weight` \u001b[3m\u001b[90m<chr>\u001b[90m\u001b[23m, year_born \u001b[3m\u001b[90m<chr>\u001b[90m\u001b[23m, position \u001b[3m\u001b[90m<chr>\u001b[90m\u001b[23m, career \u001b[3m\u001b[90m<chr>\u001b[90m\u001b[23m,\u001b[39m\n",
            "\u001b[90m#   starting_salary \u001b[3m\u001b[90m<chr>\u001b[90m\u001b[23m, OPS \u001b[3m\u001b[90m<dbl>\u001b[90m\u001b[23m\u001b[39m\n"
          ],
          "name": "stdout"
        }
      ]
    },
    {
      "cell_type": "code",
      "metadata": {
        "id": "V4eTejGa4QIm"
      },
      "source": [
        "DF %>% mutate(G_R = R / G) # 경기 당(G) 득점(R), 추가되는 열은 끝으로 이동"
      ],
      "execution_count": null,
      "outputs": []
    },
    {
      "cell_type": "code",
      "metadata": {
        "id": "K7RndEF_4QNv"
      },
      "source": [
        ""
      ],
      "execution_count": null,
      "outputs": []
    },
    {
      "cell_type": "code",
      "metadata": {
        "id": "D0q2RPwh4QTv",
        "outputId": "623742b7-3e4e-4302-9a30-2f8736fd868e",
        "colab": {
          "base_uri": "https://localhost:8080/"
        }
      },
      "source": [
        "DF %>% transmute(batter_id = paste(batter_id, batter_name, sep = \"_\")) %>% show() # transmute"
      ],
      "execution_count": null,
      "outputs": [
        {
          "output_type": "stream",
          "text": [
            "\u001b[90m# A tibble: 1,393 x 1\u001b[39m\n",
            "   batter_id \n",
            "   \u001b[3m\u001b[90m<chr>\u001b[39m\u001b[23m     \n",
            "\u001b[90m 1\u001b[39m 0_가르시아\n",
            "\u001b[90m 2\u001b[39m 1_강경학  \n",
            "\u001b[90m 3\u001b[39m 1_강경학  \n",
            "\u001b[90m 4\u001b[39m 1_강경학  \n",
            "\u001b[90m 5\u001b[39m 1_강경학  \n",
            "\u001b[90m 6\u001b[39m 1_강경학  \n",
            "\u001b[90m 7\u001b[39m 2_강구성  \n",
            "\u001b[90m 8\u001b[39m 2_강구성  \n",
            "\u001b[90m 9\u001b[39m 2_강구성  \n",
            "\u001b[90m10\u001b[39m 69_김태완 \n",
            "\u001b[90m# … with 1,383 more rows\u001b[39m\n"
          ],
          "name": "stdout"
        }
      ]
    },
    {
      "cell_type": "markdown",
      "metadata": {
        "id": "RS8kxu2E6YOv"
      },
      "source": [
        "* ``sample_frac, sample_n``\n",
        "\n",
        "**<arguments!>**\n",
        " 1. ``size`` For sample_n(), the number of rows to select. For sample_frac(), the fraction of rows to select. If tbl is grouped, size applies to each group.\n",
        " 2. ``replace`` Sample with or without replacement?"
      ]
    },
    {
      "cell_type": "code",
      "metadata": {
        "id": "Ru2qiyZJPqIc",
        "outputId": "576149d1-a229-41d2-e902-146ba55fb6d6",
        "colab": {
          "base_uri": "https://localhost:8080/"
        }
      },
      "source": [
        "train_set <- sample_n(DF, 1, replace = F) # sample_n\n",
        "train_set %>% show()"
      ],
      "execution_count": null,
      "outputs": [
        {
          "output_type": "stream",
          "text": [
            "\u001b[90m# A tibble: 1 x 29\u001b[39m\n",
            "  batter_id batter_name  year team  avg       G    AB     R     H  `2B`  `3B`\n",
            "      \u001b[3m\u001b[90m<int>\u001b[39m\u001b[23m \u001b[3m\u001b[90m<chr>\u001b[39m\u001b[23m       \u001b[3m\u001b[90m<int>\u001b[39m\u001b[23m \u001b[3m\u001b[90m<chr>\u001b[39m\u001b[23m \u001b[3m\u001b[90m<chr>\u001b[39m\u001b[23m \u001b[3m\u001b[90m<int>\u001b[39m\u001b[23m \u001b[3m\u001b[90m<int>\u001b[39m\u001b[23m \u001b[3m\u001b[90m<int>\u001b[39m\u001b[23m \u001b[3m\u001b[90m<int>\u001b[39m\u001b[23m \u001b[3m\u001b[90m<int>\u001b[39m\u001b[23m \u001b[3m\u001b[90m<int>\u001b[39m\u001b[23m\n",
            "\u001b[90m1\u001b[39m        71 김하성       \u001b[4m2\u001b[24m015 넥센  0.148    11    27     2     4     1     0\n",
            "\u001b[90m# … with 18 more variables: HR \u001b[3m\u001b[90m<int>\u001b[90m\u001b[23m, TB \u001b[3m\u001b[90m<int>\u001b[90m\u001b[23m, RBI \u001b[3m\u001b[90m<int>\u001b[90m\u001b[23m, SB \u001b[3m\u001b[90m<int>\u001b[90m\u001b[23m, CS \u001b[3m\u001b[90m<int>\u001b[90m\u001b[23m,\u001b[39m\n",
            "\u001b[90m#   BB \u001b[3m\u001b[90m<int>\u001b[90m\u001b[23m, HBP \u001b[3m\u001b[90m<int>\u001b[90m\u001b[23m, SO \u001b[3m\u001b[90m<int>\u001b[90m\u001b[23m, GDP \u001b[3m\u001b[90m<int>\u001b[90m\u001b[23m, SLG \u001b[3m\u001b[90m<dbl>\u001b[90m\u001b[23m, OBP \u001b[3m\u001b[90m<dbl>\u001b[90m\u001b[23m, E \u001b[3m\u001b[90m<int>\u001b[90m\u001b[23m,\u001b[39m\n",
            "\u001b[90m#   `height/weight` \u001b[3m\u001b[90m<chr>\u001b[90m\u001b[23m, year_born \u001b[3m\u001b[90m<chr>\u001b[90m\u001b[23m, position \u001b[3m\u001b[90m<chr>\u001b[90m\u001b[23m, career \u001b[3m\u001b[90m<chr>\u001b[90m\u001b[23m,\u001b[39m\n",
            "\u001b[90m#   starting_salary \u001b[3m\u001b[90m<chr>\u001b[90m\u001b[23m, OPS \u001b[3m\u001b[90m<dbl>\u001b[90m\u001b[23m\u001b[39m\n"
          ],
          "name": "stdout"
        }
      ]
    },
    {
      "cell_type": "code",
      "metadata": {
        "id": "JDkGjEvrPzla",
        "outputId": "4e80383c-a4aa-4e29-ee8e-285dd47d671c",
        "colab": {
          "base_uri": "https://localhost:8080/"
        }
      },
      "source": [
        "train_set <- sample_n(DF, 34, replace = F) # sample_n\n",
        "train_set %>% show()"
      ],
      "execution_count": null,
      "outputs": [
        {
          "output_type": "stream",
          "text": [
            "\u001b[90m# A tibble: 34 x 29\u001b[39m\n",
            "   batter_id batter_name  year team  avg       G    AB     R     H  `2B`  `3B`\n",
            "       \u001b[3m\u001b[90m<int>\u001b[39m\u001b[23m \u001b[3m\u001b[90m<chr>\u001b[39m\u001b[23m       \u001b[3m\u001b[90m<int>\u001b[39m\u001b[23m \u001b[3m\u001b[90m<chr>\u001b[39m\u001b[23m \u001b[3m\u001b[90m<chr>\u001b[39m\u001b[23m \u001b[3m\u001b[90m<int>\u001b[39m\u001b[23m \u001b[3m\u001b[90m<int>\u001b[39m\u001b[23m \u001b[3m\u001b[90m<int>\u001b[39m\u001b[23m \u001b[3m\u001b[90m<int>\u001b[39m\u001b[23m \u001b[3m\u001b[90m<int>\u001b[39m\u001b[23m \u001b[3m\u001b[90m<int>\u001b[39m\u001b[23m\n",
            "\u001b[90m 1\u001b[39m        84 나지완       \u001b[4m2\u001b[24m016 KIA   0.296    13    27     5     8     1     0\n",
            "\u001b[90m 2\u001b[39m       111 박동원       \u001b[4m2\u001b[24m015 넥센  0.500     2     4     0     2     0     0\n",
            "\u001b[90m 3\u001b[39m       238 이택근       \u001b[4m2\u001b[24m003 현대  0.192    12    26     3     5     1     0\n",
            "\u001b[90m 4\u001b[39m       264 정근우       \u001b[4m2\u001b[24m014 한화  0.292     8    24     1     7     2     0\n",
            "\u001b[90m 5\u001b[39m       301 채태인       \u001b[4m2\u001b[24m014 삼성  0.111     7    18     1     2     1     0\n",
            "\u001b[90m 6\u001b[39m       178 오선진       \u001b[4m2\u001b[24m012 한화  0.000     7     5     0     0     0     0\n",
            "\u001b[90m 7\u001b[39m       103 민병헌       \u001b[4m2\u001b[24m006 두산  0.333     8     6     2     2     0     0\n",
            "\u001b[90m 8\u001b[39m       251 장민석       \u001b[4m2\u001b[24m011 넥센  0.200    12    25     2     5     0     1\n",
            "\u001b[90m 9\u001b[39m       252 장성우       \u001b[4m2\u001b[24m011 롯데  0.200    12    15     0     3     0     0\n",
            "\u001b[90m10\u001b[39m       117 박승욱       \u001b[4m2\u001b[24m018 SK    0.455     6    11     4     5     1     0\n",
            "\u001b[90m# … with 24 more rows, and 18 more variables: HR \u001b[3m\u001b[90m<int>\u001b[90m\u001b[23m, TB \u001b[3m\u001b[90m<int>\u001b[90m\u001b[23m, RBI \u001b[3m\u001b[90m<int>\u001b[90m\u001b[23m,\u001b[39m\n",
            "\u001b[90m#   SB \u001b[3m\u001b[90m<int>\u001b[90m\u001b[23m, CS \u001b[3m\u001b[90m<int>\u001b[90m\u001b[23m, BB \u001b[3m\u001b[90m<int>\u001b[90m\u001b[23m, HBP \u001b[3m\u001b[90m<int>\u001b[90m\u001b[23m, SO \u001b[3m\u001b[90m<int>\u001b[90m\u001b[23m, GDP \u001b[3m\u001b[90m<int>\u001b[90m\u001b[23m, SLG \u001b[3m\u001b[90m<dbl>\u001b[90m\u001b[23m,\u001b[39m\n",
            "\u001b[90m#   OBP \u001b[3m\u001b[90m<dbl>\u001b[90m\u001b[23m, E \u001b[3m\u001b[90m<int>\u001b[90m\u001b[23m, `height/weight` \u001b[3m\u001b[90m<chr>\u001b[90m\u001b[23m, year_born \u001b[3m\u001b[90m<chr>\u001b[90m\u001b[23m, position \u001b[3m\u001b[90m<chr>\u001b[90m\u001b[23m,\u001b[39m\n",
            "\u001b[90m#   career \u001b[3m\u001b[90m<chr>\u001b[90m\u001b[23m, starting_salary \u001b[3m\u001b[90m<chr>\u001b[90m\u001b[23m, OPS \u001b[3m\u001b[90m<dbl>\u001b[90m\u001b[23m\u001b[39m\n"
          ],
          "name": "stdout"
        }
      ]
    },
    {
      "cell_type": "code",
      "metadata": {
        "id": "raPA_g-lb1cW"
      },
      "source": [
        ""
      ],
      "execution_count": null,
      "outputs": []
    },
    {
      "cell_type": "code",
      "metadata": {
        "id": "y-EGngSP7D3B",
        "outputId": "b0cb4e2d-0cf7-4bc0-db23-5fd7f6fb86e8",
        "colab": {
          "base_uri": "https://localhost:8080/"
        }
      },
      "source": [
        "train_set <- sample_frac(DF, 0.7, replace = F) # sample_frac\n",
        "train_set %>% show()"
      ],
      "execution_count": null,
      "outputs": [
        {
          "output_type": "stream",
          "text": [
            "\u001b[90m# A tibble: 975 x 29\u001b[39m\n",
            "   batter_id batter_name  year team  avg       G    AB     R     H  `2B`  `3B`\n",
            "       \u001b[3m\u001b[90m<int>\u001b[39m\u001b[23m \u001b[3m\u001b[90m<chr>\u001b[39m\u001b[23m       \u001b[3m\u001b[90m<int>\u001b[39m\u001b[23m \u001b[3m\u001b[90m<chr>\u001b[39m\u001b[23m \u001b[3m\u001b[90m<chr>\u001b[39m\u001b[23m \u001b[3m\u001b[90m<int>\u001b[39m\u001b[23m \u001b[3m\u001b[90m<int>\u001b[39m\u001b[23m \u001b[3m\u001b[90m<int>\u001b[39m\u001b[23m \u001b[3m\u001b[90m<int>\u001b[39m\u001b[23m \u001b[3m\u001b[90m<int>\u001b[39m\u001b[23m \u001b[3m\u001b[90m<int>\u001b[39m\u001b[23m\n",
            "\u001b[90m 1\u001b[39m       103 민병헌       \u001b[4m2\u001b[24m006 두산  0.333     8     6     2     2     0     0\n",
            "\u001b[90m 2\u001b[39m        37 김민수       \u001b[4m2\u001b[24m014 한화  0.217    11    23     2     5     1     0\n",
            "\u001b[90m 3\u001b[39m       274 정의윤       \u001b[4m2\u001b[24m005 LG    0.235    13    34     1     8     1     0\n",
            "\u001b[90m 4\u001b[39m       310 최원준       \u001b[4m2\u001b[24m017 KIA   0.296    11    27     4     8     1     1\n",
            "\u001b[90m 5\u001b[39m        36 김민성       \u001b[4m2\u001b[24m010 넥센  0.150    10    20     1     3     0     0\n",
            "\u001b[90m 6\u001b[39m       265 정범모       \u001b[4m2\u001b[24m012 한화  0.353    11    17     3     6     1     0\n",
            "\u001b[90m 7\u001b[39m       319 최형우       \u001b[4m2\u001b[24m009 삼성  0.263     6    19     3     5     0     0\n",
            "\u001b[90m 8\u001b[39m       308 최영진       \u001b[4m2\u001b[24m016 두산  0.000     3     1     2     0     0     0\n",
            "\u001b[90m 9\u001b[39m       224 이재원       \u001b[4m2\u001b[24m007 SK    0.667     2     3     0     2     0     0\n",
            "\u001b[90m10\u001b[39m       130 박찬도       \u001b[4m2\u001b[24m014 삼성  0.200    10     5     3     1     0     0\n",
            "\u001b[90m# … with 965 more rows, and 18 more variables: HR \u001b[3m\u001b[90m<int>\u001b[90m\u001b[23m, TB \u001b[3m\u001b[90m<int>\u001b[90m\u001b[23m, RBI \u001b[3m\u001b[90m<int>\u001b[90m\u001b[23m,\u001b[39m\n",
            "\u001b[90m#   SB \u001b[3m\u001b[90m<int>\u001b[90m\u001b[23m, CS \u001b[3m\u001b[90m<int>\u001b[90m\u001b[23m, BB \u001b[3m\u001b[90m<int>\u001b[90m\u001b[23m, HBP \u001b[3m\u001b[90m<int>\u001b[90m\u001b[23m, SO \u001b[3m\u001b[90m<int>\u001b[90m\u001b[23m, GDP \u001b[3m\u001b[90m<int>\u001b[90m\u001b[23m, SLG \u001b[3m\u001b[90m<dbl>\u001b[90m\u001b[23m,\u001b[39m\n",
            "\u001b[90m#   OBP \u001b[3m\u001b[90m<dbl>\u001b[90m\u001b[23m, E \u001b[3m\u001b[90m<int>\u001b[90m\u001b[23m, `height/weight` \u001b[3m\u001b[90m<chr>\u001b[90m\u001b[23m, year_born \u001b[3m\u001b[90m<chr>\u001b[90m\u001b[23m, position \u001b[3m\u001b[90m<chr>\u001b[90m\u001b[23m,\u001b[39m\n",
            "\u001b[90m#   career \u001b[3m\u001b[90m<chr>\u001b[90m\u001b[23m, starting_salary \u001b[3m\u001b[90m<chr>\u001b[90m\u001b[23m, OPS \u001b[3m\u001b[90m<dbl>\u001b[90m\u001b[23m\u001b[39m\n"
          ],
          "name": "stdout"
        }
      ]
    },
    {
      "cell_type": "code",
      "metadata": {
        "id": "kW3sUyT_P5dE",
        "outputId": "af5cabc6-dd6f-41e8-e4b0-cc8daa61f9cd",
        "colab": {
          "base_uri": "https://localhost:8080/"
        }
      },
      "source": [
        "train_set <- sample_frac(DF, 1, replace = F) # sample_frac\n",
        "train_set %>% show()"
      ],
      "execution_count": null,
      "outputs": [
        {
          "output_type": "stream",
          "text": [
            "\u001b[90m# A tibble: 1,393 x 29\u001b[39m\n",
            "   batter_id batter_name  year team  avg       G    AB     R     H  `2B`  `3B`\n",
            "       \u001b[3m\u001b[90m<int>\u001b[39m\u001b[23m \u001b[3m\u001b[90m<chr>\u001b[39m\u001b[23m       \u001b[3m\u001b[90m<int>\u001b[39m\u001b[23m \u001b[3m\u001b[90m<chr>\u001b[39m\u001b[23m \u001b[3m\u001b[90m<chr>\u001b[39m\u001b[23m \u001b[3m\u001b[90m<int>\u001b[39m\u001b[23m \u001b[3m\u001b[90m<int>\u001b[39m\u001b[23m \u001b[3m\u001b[90m<int>\u001b[39m\u001b[23m \u001b[3m\u001b[90m<int>\u001b[39m\u001b[23m \u001b[3m\u001b[90m<int>\u001b[39m\u001b[23m \u001b[3m\u001b[90m<int>\u001b[39m\u001b[23m\n",
            "\u001b[90m 1\u001b[39m       307 최승준       \u001b[4m2\u001b[24m014 LG    0.300     6    10     3     3     1     0\n",
            "\u001b[90m 2\u001b[39m       342 황재균       \u001b[4m2\u001b[24m012 롯데  0.154    12    26     2     4     2     0\n",
            "\u001b[90m 3\u001b[39m         5 강백호       \u001b[4m2\u001b[24m018 KT    0.333     6    18     2     6     1     0\n",
            "\u001b[90m 4\u001b[39m       252 장성우       \u001b[4m2\u001b[24m015 KT    0.200    11    20     1     4     2     0\n",
            "\u001b[90m 5\u001b[39m        85 남태혁       \u001b[4m2\u001b[24m017 KT    0.200     8    10     1     2     0     0\n",
            "\u001b[90m 6\u001b[39m       162 신성현       \u001b[4m2\u001b[24m016 한화  0.286    14    35     6    10     1     0\n",
            "\u001b[90m 7\u001b[39m        84 나지완       \u001b[4m2\u001b[24m017 KIA   0.211     9    19     4     4     1     0\n",
            "\u001b[90m 8\u001b[39m       112 박민우       \u001b[4m2\u001b[24m014 NC    0.292    11    24     8     7     1     1\n",
            "\u001b[90m 9\u001b[39m         4 강민호       \u001b[4m2\u001b[24m017 롯데  0.300    10    20     1     6     0     0\n",
            "\u001b[90m10\u001b[39m       123 박정권       \u001b[4m2\u001b[24m007 SK    0.150     9    20     1     3     1     0\n",
            "\u001b[90m# … with 1,383 more rows, and 18 more variables: HR \u001b[3m\u001b[90m<int>\u001b[90m\u001b[23m, TB \u001b[3m\u001b[90m<int>\u001b[90m\u001b[23m, RBI \u001b[3m\u001b[90m<int>\u001b[90m\u001b[23m,\u001b[39m\n",
            "\u001b[90m#   SB \u001b[3m\u001b[90m<int>\u001b[90m\u001b[23m, CS \u001b[3m\u001b[90m<int>\u001b[90m\u001b[23m, BB \u001b[3m\u001b[90m<int>\u001b[90m\u001b[23m, HBP \u001b[3m\u001b[90m<int>\u001b[90m\u001b[23m, SO \u001b[3m\u001b[90m<int>\u001b[90m\u001b[23m, GDP \u001b[3m\u001b[90m<int>\u001b[90m\u001b[23m, SLG \u001b[3m\u001b[90m<dbl>\u001b[90m\u001b[23m,\u001b[39m\n",
            "\u001b[90m#   OBP \u001b[3m\u001b[90m<dbl>\u001b[90m\u001b[23m, E \u001b[3m\u001b[90m<int>\u001b[90m\u001b[23m, `height/weight` \u001b[3m\u001b[90m<chr>\u001b[90m\u001b[23m, year_born \u001b[3m\u001b[90m<chr>\u001b[90m\u001b[23m, position \u001b[3m\u001b[90m<chr>\u001b[90m\u001b[23m,\u001b[39m\n",
            "\u001b[90m#   career \u001b[3m\u001b[90m<chr>\u001b[90m\u001b[23m, starting_salary \u001b[3m\u001b[90m<chr>\u001b[90m\u001b[23m, OPS \u001b[3m\u001b[90m<dbl>\u001b[90m\u001b[23m\u001b[39m\n"
          ],
          "name": "stdout"
        }
      ]
    },
    {
      "cell_type": "code",
      "metadata": {
        "id": "Y4MtZkpIb3C6"
      },
      "source": [
        ""
      ],
      "execution_count": null,
      "outputs": []
    },
    {
      "cell_type": "code",
      "metadata": {
        "id": "8LNkc80O8Gp7",
        "outputId": "017bb469-1724-4cf8-837a-d083b271eef9",
        "colab": {
          "base_uri": "https://localhost:8080/"
        }
      },
      "source": [
        "# setdiff와 sample_frac을 이용한 training/test set 생성\n",
        "train_set <- sample_frac(DF, 0.7, replace = F) \n",
        "train_set %>% show()"
      ],
      "execution_count": null,
      "outputs": [
        {
          "output_type": "stream",
          "text": [
            "\u001b[90m# A tibble: 975 x 29\u001b[39m\n",
            "   batter_id batter_name  year team  avg       G    AB     R     H  `2B`  `3B`\n",
            "       \u001b[3m\u001b[90m<int>\u001b[39m\u001b[23m \u001b[3m\u001b[90m<chr>\u001b[39m\u001b[23m       \u001b[3m\u001b[90m<int>\u001b[39m\u001b[23m \u001b[3m\u001b[90m<chr>\u001b[39m\u001b[23m \u001b[3m\u001b[90m<chr>\u001b[39m\u001b[23m \u001b[3m\u001b[90m<int>\u001b[39m\u001b[23m \u001b[3m\u001b[90m<int>\u001b[39m\u001b[23m \u001b[3m\u001b[90m<int>\u001b[39m\u001b[23m \u001b[3m\u001b[90m<int>\u001b[39m\u001b[23m \u001b[3m\u001b[90m<int>\u001b[39m\u001b[23m \u001b[3m\u001b[90m<int>\u001b[39m\u001b[23m\n",
            "\u001b[90m 1\u001b[39m        41 김상수       \u001b[4m2\u001b[24m009 삼성  0.348    13    46     8    16     1     1\n",
            "\u001b[90m 2\u001b[39m        69 김태완       \u001b[4m2\u001b[24m008 한화  0.375    10    24     3     9     1     0\n",
            "\u001b[90m 3\u001b[39m       238 이택근       \u001b[4m2\u001b[24m007 현대  0.194     9    36     4     7     0     0\n",
            "\u001b[90m 4\u001b[39m       264 정근우       \u001b[4m2\u001b[24m014 한화  0.292     8    24     1     7     2     0\n",
            "\u001b[90m 5\u001b[39m       207 이범호       \u001b[4m2\u001b[24m003 한화  0.297    13    37     7    11     2     1\n",
            "\u001b[90m 6\u001b[39m       148 손시헌       \u001b[4m2\u001b[24m015 NC    0.190    10    21     0     4     1     0\n",
            "\u001b[90m 7\u001b[39m        63 김주형       \u001b[4m2\u001b[24m014 KIA   0.353    12    34     2    12     5     0\n",
            "\u001b[90m 8\u001b[39m       148 손시헌       \u001b[4m2\u001b[24m012 두산  0.333    12    30     2    10     1     0\n",
            "\u001b[90m 9\u001b[39m       187 유강남       \u001b[4m2\u001b[24m012 LG    0.250    10    20     1     5     0     0\n",
            "\u001b[90m10\u001b[39m       201 이대형       \u001b[4m2\u001b[24m010 LG    0.275    11    40     7    11     2     1\n",
            "\u001b[90m# … with 965 more rows, and 18 more variables: HR \u001b[3m\u001b[90m<int>\u001b[90m\u001b[23m, TB \u001b[3m\u001b[90m<int>\u001b[90m\u001b[23m, RBI \u001b[3m\u001b[90m<int>\u001b[90m\u001b[23m,\u001b[39m\n",
            "\u001b[90m#   SB \u001b[3m\u001b[90m<int>\u001b[90m\u001b[23m, CS \u001b[3m\u001b[90m<int>\u001b[90m\u001b[23m, BB \u001b[3m\u001b[90m<int>\u001b[90m\u001b[23m, HBP \u001b[3m\u001b[90m<int>\u001b[90m\u001b[23m, SO \u001b[3m\u001b[90m<int>\u001b[90m\u001b[23m, GDP \u001b[3m\u001b[90m<int>\u001b[90m\u001b[23m, SLG \u001b[3m\u001b[90m<dbl>\u001b[90m\u001b[23m,\u001b[39m\n",
            "\u001b[90m#   OBP \u001b[3m\u001b[90m<dbl>\u001b[90m\u001b[23m, E \u001b[3m\u001b[90m<int>\u001b[90m\u001b[23m, `height/weight` \u001b[3m\u001b[90m<chr>\u001b[90m\u001b[23m, year_born \u001b[3m\u001b[90m<chr>\u001b[90m\u001b[23m, position \u001b[3m\u001b[90m<chr>\u001b[90m\u001b[23m,\u001b[39m\n",
            "\u001b[90m#   career \u001b[3m\u001b[90m<chr>\u001b[90m\u001b[23m, starting_salary \u001b[3m\u001b[90m<chr>\u001b[90m\u001b[23m, OPS \u001b[3m\u001b[90m<dbl>\u001b[90m\u001b[23m\u001b[39m\n"
          ],
          "name": "stdout"
        }
      ]
    },
    {
      "cell_type": "code",
      "metadata": {
        "id": "Qs9aic1jQG3H",
        "outputId": "6c465a0c-27fd-447c-ce01-6dc6a43f71a6",
        "colab": {
          "base_uri": "https://localhost:8080/"
        }
      },
      "source": [
        "test_set <- setdiff(DF, train_set)\n",
        "test_set %>% show()"
      ],
      "execution_count": null,
      "outputs": [
        {
          "output_type": "stream",
          "text": [
            "\u001b[90m# A tibble: 418 x 29\u001b[39m\n",
            "   batter_id batter_name  year team  avg       G    AB     R     H  `2B`  `3B`\n",
            "       \u001b[3m\u001b[90m<int>\u001b[39m\u001b[23m \u001b[3m\u001b[90m<chr>\u001b[39m\u001b[23m       \u001b[3m\u001b[90m<int>\u001b[39m\u001b[23m \u001b[3m\u001b[90m<chr>\u001b[39m\u001b[23m \u001b[3m\u001b[90m<chr>\u001b[39m\u001b[23m \u001b[3m\u001b[90m<int>\u001b[39m\u001b[23m \u001b[3m\u001b[90m<int>\u001b[39m\u001b[23m \u001b[3m\u001b[90m<int>\u001b[39m\u001b[23m \u001b[3m\u001b[90m<int>\u001b[39m\u001b[23m \u001b[3m\u001b[90m<int>\u001b[39m\u001b[23m \u001b[3m\u001b[90m<int>\u001b[39m\u001b[23m\n",
            "\u001b[90m 1\u001b[39m        69 김태완       \u001b[4m2\u001b[24m007 한화  0.318     8    22     4     7     3     0\n",
            "\u001b[90m 2\u001b[39m        69 김태완       \u001b[4m2\u001b[24m013 한화  0.250     9    28     3     7     0     0\n",
            "\u001b[90m 3\u001b[39m        69 김태완       \u001b[4m2\u001b[24m018 넥센  0.375     5     8     2     3     1     0\n",
            "\u001b[90m 4\u001b[39m         3 강민국       \u001b[4m2\u001b[24m015 NC    0.100     9    10     2     1     1     0\n",
            "\u001b[90m 5\u001b[39m         4 강민호       \u001b[4m2\u001b[24m008 롯데  0.200     5    10     0     2     1     0\n",
            "\u001b[90m 6\u001b[39m         4 강민호       \u001b[4m2\u001b[24m010 롯데  0.261    10    23     8     6     1     0\n",
            "\u001b[90m 7\u001b[39m         4 강민호       \u001b[4m2\u001b[24m015 롯데  0.158    10    19     1     3     0     0\n",
            "\u001b[90m 8\u001b[39m         5 강백호       \u001b[4m2\u001b[24m018 KT    0.333     6    18     2     6     1     0\n",
            "\u001b[90m 9\u001b[39m         9 강승호       \u001b[4m2\u001b[24m013 LG    0.250     7    12     2     3     2     0\n",
            "\u001b[90m10\u001b[39m         9 강승호       \u001b[4m2\u001b[24m016 LG    0.250    13    32     1     8     0     2\n",
            "\u001b[90m# … with 408 more rows, and 18 more variables: HR \u001b[3m\u001b[90m<int>\u001b[90m\u001b[23m, TB \u001b[3m\u001b[90m<int>\u001b[90m\u001b[23m, RBI \u001b[3m\u001b[90m<int>\u001b[90m\u001b[23m,\u001b[39m\n",
            "\u001b[90m#   SB \u001b[3m\u001b[90m<int>\u001b[90m\u001b[23m, CS \u001b[3m\u001b[90m<int>\u001b[90m\u001b[23m, BB \u001b[3m\u001b[90m<int>\u001b[90m\u001b[23m, HBP \u001b[3m\u001b[90m<int>\u001b[90m\u001b[23m, SO \u001b[3m\u001b[90m<int>\u001b[90m\u001b[23m, GDP \u001b[3m\u001b[90m<int>\u001b[90m\u001b[23m, SLG \u001b[3m\u001b[90m<dbl>\u001b[90m\u001b[23m,\u001b[39m\n",
            "\u001b[90m#   OBP \u001b[3m\u001b[90m<dbl>\u001b[90m\u001b[23m, E \u001b[3m\u001b[90m<int>\u001b[90m\u001b[23m, `height/weight` \u001b[3m\u001b[90m<chr>\u001b[90m\u001b[23m, year_born \u001b[3m\u001b[90m<chr>\u001b[90m\u001b[23m, position \u001b[3m\u001b[90m<chr>\u001b[90m\u001b[23m,\u001b[39m\n",
            "\u001b[90m#   career \u001b[3m\u001b[90m<chr>\u001b[90m\u001b[23m, starting_salary \u001b[3m\u001b[90m<chr>\u001b[90m\u001b[23m, OPS \u001b[3m\u001b[90m<dbl>\u001b[90m\u001b[23m\u001b[39m\n"
          ],
          "name": "stdout"
        }
      ]
    },
    {
      "cell_type": "code",
      "metadata": {
        "id": "Yhz6_wzqfIm0"
      },
      "source": [
        ""
      ],
      "execution_count": null,
      "outputs": []
    },
    {
      "cell_type": "markdown",
      "metadata": {
        "id": "tw2HO6szheNQ"
      },
      "source": [
        "# **<4주차 과제 - 100점>**\n",
        "\n",
        "### **(1) 각각의 문제 바로 아래에 답을 작성 후, lab4.ipynb 파일을 한림SmartLEAD에 제출할 것**\n",
        "### **(2) 제출 데드라인 : 2020.9.21(월요일) ~ 2020.9.27(일요일) 23:59 까지**\n",
        "### **(3) 부정행위 적발 시, 원본(보여준 사람)과 복사본(베낀 사람) 모두 0점 처리**\n",
        "### **(4) !!해당 문제의 코드와 출력 결과를 반드시 기록할 것(둘 중 하나라도 없으면 해당 문제 0점처리)!!**\n",
        "\n",
        "\n",
        "- - -\n"
      ]
    },
    {
      "cell_type": "markdown",
      "metadata": {
        "id": "QvJeTokHhogT"
      },
      "source": [
        "## 1. 다음의 코드를 ``%>%``를 이용하여 동일한 결과가 출력되도록 작성하시오 ( https://gomguard.tistory.com/243 참고) **(20 점)**\n",
        "\n",
        "```\n",
        "summarise(group_by(mutate(filter(select(iris, Sepal.Length, Species), Sepal.Length >= 5), Petal.Length = 1), Species), n())\n",
        "\n",
        "\n",
        "## 출력 예시\n",
        "\n",
        "A tibble: 3 × 2\n",
        "Species\tn()\n",
        " <fct>\t<int>\n",
        "setosa\t30\n",
        "versicolor\t49\n",
        "virginica\t49\n",
        "```\n",
        "\n"
      ]
    },
    {
      "cell_type": "code",
      "metadata": {
        "id": "wnSGhrEkhjGk",
        "outputId": "22c1b377-4ce7-44a2-9e92-ddd5f32b564d",
        "colab": {
          "base_uri": "https://localhost:8080/",
          "height": 177
        }
      },
      "source": [
        "## 답안 작성\n",
        "#\n",
        "iris %>% filter(Sepal.Length >= 5) %>% group_by(Species) %>% summarise(n=n())\n",
        "\n"
      ],
      "execution_count": 15,
      "outputs": [
        {
          "output_type": "stream",
          "text": [
            "`summarise()` ungrouping output (override with `.groups` argument)\n",
            "\n"
          ],
          "name": "stderr"
        },
        {
          "output_type": "display_data",
          "data": {
            "text/plain": [
              "  Species    n \n",
              "1 setosa     30\n",
              "2 versicolor 49\n",
              "3 virginica  49"
            ],
            "text/latex": "A tibble: 3 × 2\n\\begin{tabular}{ll}\n Species & n\\\\\n <fct> & <int>\\\\\n\\hline\n\t setosa     & 30\\\\\n\t versicolor & 49\\\\\n\t virginica  & 49\\\\\n\\end{tabular}\n",
            "text/markdown": "\nA tibble: 3 × 2\n\n| Species &lt;fct&gt; | n &lt;int&gt; |\n|---|---|\n| setosa     | 30 |\n| versicolor | 49 |\n| virginica  | 49 |\n\n",
            "text/html": [
              "<table>\n",
              "<caption>A tibble: 3 × 2</caption>\n",
              "<thead>\n",
              "\t<tr><th scope=col>Species</th><th scope=col>n</th></tr>\n",
              "\t<tr><th scope=col>&lt;fct&gt;</th><th scope=col>&lt;int&gt;</th></tr>\n",
              "</thead>\n",
              "<tbody>\n",
              "\t<tr><td>setosa    </td><td>30</td></tr>\n",
              "\t<tr><td>versicolor</td><td>49</td></tr>\n",
              "\t<tr><td>virginica </td><td>49</td></tr>\n",
              "</tbody>\n",
              "</table>\n"
            ]
          },
          "metadata": {
            "tags": []
          }
        }
      ]
    },
    {
      "cell_type": "markdown",
      "metadata": {
        "id": "rV6esnV6k_O7"
      },
      "source": [
        "## 2. 주어진 조건을 이용해여 DF에서 새로운 데이터 프레임을 추출하시오(60 점, 문제당 20점)\n",
        "\n",
        "* dplyr 함수 사용(select, filter, groupby, summarise)\n",
        "\n",
        " (1) DF에서 문자형(chr) 열을 제외한 모든 열(column) - select\n",
        "\n",
        " (2) DF에서 team이 \"두산\" 또는 \"한화\"이고 G가 10 이상인 모든 행(row) - filter\n",
        "\n",
        " (3) DF에서 team 별(key) SLG, OPB의 평균과 R의 합 - group_by, summarise\n",
        "\n",
        "\n"
      ]
    },
    {
      "cell_type": "code",
      "metadata": {
        "id": "zUOjP5eooFzF"
      },
      "source": [
        "# 사용 데이터\n",
        "DF <- fread(\"ftp://210.115.229.94/2020_datascience/6th_data/Pre_Season_Batter.csv\", header = T, encoding = \"UTF-8\") %>%\n",
        "  as_tibble()"
      ],
      "execution_count": 19,
      "outputs": []
    },
    {
      "cell_type": "code",
      "metadata": {
        "id": "T9Doa4ExowOT",
        "outputId": "5cff9fbe-e019-4ca3-e127-a431dadd7ef0",
        "colab": {
          "base_uri": "https://localhost:8080/",
          "height": 323
        }
      },
      "source": [
        "DF %>% show()"
      ],
      "execution_count": 36,
      "outputs": [
        {
          "output_type": "stream",
          "text": [
            "\u001b[90m# A tibble: 1,393 x 29\u001b[39m\n",
            "   batter_id batter_name  year team  avg       G    AB     R     H  `2B`  `3B`\n",
            "       \u001b[3m\u001b[90m<int>\u001b[39m\u001b[23m \u001b[3m\u001b[90m<chr>\u001b[39m\u001b[23m       \u001b[3m\u001b[90m<int>\u001b[39m\u001b[23m \u001b[3m\u001b[90m<chr>\u001b[39m\u001b[23m \u001b[3m\u001b[90m<chr>\u001b[39m\u001b[23m \u001b[3m\u001b[90m<int>\u001b[39m\u001b[23m \u001b[3m\u001b[90m<int>\u001b[39m\u001b[23m \u001b[3m\u001b[90m<int>\u001b[39m\u001b[23m \u001b[3m\u001b[90m<int>\u001b[39m\u001b[23m \u001b[3m\u001b[90m<int>\u001b[39m\u001b[23m \u001b[3m\u001b[90m<int>\u001b[39m\u001b[23m\n",
            "\u001b[90m 1\u001b[39m         0 가르시아     \u001b[4m2\u001b[24m018 LG    0.350     7    20     1     7     1     0\n",
            "\u001b[90m 2\u001b[39m         1 강경학       \u001b[4m2\u001b[24m011 한화  0.000     4     2     2     0     0     0\n",
            "\u001b[90m 3\u001b[39m         1 강경학       \u001b[4m2\u001b[24m014 한화  -         4     0     2     0     0     0\n",
            "\u001b[90m 4\u001b[39m         1 강경학       \u001b[4m2\u001b[24m015 한화  0.130    10    23     3     3     0     0\n",
            "\u001b[90m 5\u001b[39m         1 강경학       \u001b[4m2\u001b[24m016 한화  0.188    14    32     4     6     1     1\n",
            "\u001b[90m 6\u001b[39m         1 강경학       \u001b[4m2\u001b[24m017 한화  0.222    11    36    10     8     0     0\n",
            "\u001b[90m 7\u001b[39m         2 강구성       \u001b[4m2\u001b[24m013 NC    0.000     3     4     0     0     0     0\n",
            "\u001b[90m 8\u001b[39m         2 강구성       \u001b[4m2\u001b[24m016 NC    0.000     3     1     0     0     0     0\n",
            "\u001b[90m 9\u001b[39m         2 강구성       \u001b[4m2\u001b[24m017 NC    1.000     2     1     0     1     0     0\n",
            "\u001b[90m10\u001b[39m        69 김태완       \u001b[4m2\u001b[24m006 한화  0.200    10    15     0     3     0     0\n",
            "\u001b[90m# … with 1,383 more rows, and 18 more variables: HR \u001b[3m\u001b[90m<int>\u001b[90m\u001b[23m, TB \u001b[3m\u001b[90m<int>\u001b[90m\u001b[23m, RBI \u001b[3m\u001b[90m<int>\u001b[90m\u001b[23m,\u001b[39m\n",
            "\u001b[90m#   SB \u001b[3m\u001b[90m<int>\u001b[90m\u001b[23m, CS \u001b[3m\u001b[90m<int>\u001b[90m\u001b[23m, BB \u001b[3m\u001b[90m<int>\u001b[90m\u001b[23m, HBP \u001b[3m\u001b[90m<int>\u001b[90m\u001b[23m, SO \u001b[3m\u001b[90m<int>\u001b[90m\u001b[23m, GDP \u001b[3m\u001b[90m<int>\u001b[90m\u001b[23m, SLG \u001b[3m\u001b[90m<dbl>\u001b[90m\u001b[23m,\u001b[39m\n",
            "\u001b[90m#   OBP \u001b[3m\u001b[90m<dbl>\u001b[90m\u001b[23m, E \u001b[3m\u001b[90m<int>\u001b[90m\u001b[23m, `height/weight` \u001b[3m\u001b[90m<chr>\u001b[90m\u001b[23m, year_born \u001b[3m\u001b[90m<chr>\u001b[90m\u001b[23m, position \u001b[3m\u001b[90m<chr>\u001b[90m\u001b[23m,\u001b[39m\n",
            "\u001b[90m#   career \u001b[3m\u001b[90m<chr>\u001b[90m\u001b[23m, starting_salary \u001b[3m\u001b[90m<chr>\u001b[90m\u001b[23m, OPS \u001b[3m\u001b[90m<dbl>\u001b[90m\u001b[23m\u001b[39m\n"
          ],
          "name": "stdout"
        }
      ]
    },
    {
      "cell_type": "markdown",
      "metadata": {
        "id": "8-0JZTpDoOyS"
      },
      "source": [
        "### (1) DF에서 문자형(chr) 열을 제외한 모든 열(column) - select\n",
        "\n",
        "* 참고 : https://wikidocs.net/33942"
      ]
    },
    {
      "cell_type": "code",
      "metadata": {
        "id": "eqWtpXJ9oST2",
        "outputId": "f9d1dcc7-547d-4254-8dd3-a60f9b5a9a2a",
        "colab": {
          "base_uri": "https://localhost:8080/",
          "height": 1000
        }
      },
      "source": [
        "## 답안 작성\n",
        "#\n",
        "DF %>% select(!is.character)"
      ],
      "execution_count": 22,
      "outputs": [
        {
          "output_type": "display_data",
          "data": {
            "text/plain": [
              "     batter_id year G  AB R  H  2B 3B HR TB ⋯ SB CS BB HBP SO GDP SLG   OBP   E\n",
              "1     0        2018  7 20  1  7 1  0  1  11 ⋯ 0  0  2  0    3 1   0.550 0.409 1\n",
              "2     1        2011  4  2  2  0 0  0  0   0 ⋯ 0  1  0  2    1 0   0.000 0.500 0\n",
              "3     1        2014  4  0  2  0 0  0  0   0 ⋯ 0  0  0  0    0 0      NA    NA 0\n",
              "4     1        2015 10 23  3  3 0  0  0   3 ⋯ 3  0  4  1    9 0   0.130 0.286 2\n",
              "5     1        2016 14 32  4  6 1  1  0   9 ⋯ 1  2  0  1   10 0   0.281 0.212 0\n",
              "6     1        2017 11 36 10  8 0  0  2  14 ⋯ 0  0  3  0   10 0   0.389 0.282 1\n",
              "7     2        2013  3  4  0  0 0  0  0   0 ⋯ 0  0  0  0    0 1   0.000 0.000 0\n",
              "8     2        2016  3  1  0  0 0  0  0   0 ⋯ 1  0  1  0    0 1   0.000 0.500 0\n",
              "9     2        2017  2  1  0  1 0  0  0   1 ⋯ 0  0  0  0    0 0   1.000 1.000 0\n",
              "10   69        2006 10 15  0  3 0  0  0   3 ⋯ 0  0  1  1    5 1   0.200 0.278 0\n",
              "11   69        2007  8 22  4  7 3  0  3  19 ⋯ 0  0  4  0    4 0   0.864 0.423 0\n",
              "12   69        2008 10 24  3  9 1  0  1  13 ⋯ 0  0  2  1    2 2   0.542 0.444 0\n",
              "13   69        2009 10 25  5  8 3  0  1  14 ⋯ 0  0  6  0    2 1   0.560 0.452 1\n",
              "14   69        2010  2  5  2  2 0  1  0   4 ⋯ 0  0  0  0    1 0   0.800 0.400 1\n",
              "15   69        2013  9 28  3  7 0  0  0   7 ⋯ 0  0  7  1    5 1   0.250 0.417 0\n",
              "16   69        2014 10 16  1  2 0  0  0   2 ⋯ 0  0  3  0    4 0   0.125 0.263 0\n",
              "17   69        2016  3  3  0  0 0  0  0   0 ⋯ 0  0  1  0    1 1   0.000 0.250 0\n",
              "18   69        2017 12 27  2 10 1  0  1  14 ⋯ 0  0  2  0    8 1   0.519 0.364 1\n",
              "19   69        2018  5  8  2  3 1  0  1   7 ⋯ 0  0  2  0    3 0   0.875 0.500 0\n",
              "20    3        2014  2  1  0  0 0  0  0   0 ⋯ 0  0  0  0    1 0   0.000 0.000 0\n",
              "21    3        2015  9 10  2  1 1  0  0   2 ⋯ 0  0  0  0    4 0   0.200 0.100 0\n",
              "22    3        2016 16 19  2  6 2  1  0  10 ⋯ 0  0  2  0    4 0   0.526 0.381 0\n",
              "23    4        2005 11 20  2  5 4  0  0   9 ⋯ 0  1  0  0    6 0   0.450 0.250 0\n",
              "24    4        2006  9 21  6  8 1  1  2  17 ⋯ 0  0  1  0    5 1   0.810 0.391 0\n",
              "25    4        2007 10 22  2  3 0  0  0   3 ⋯ 0  0  0  1    6 1   0.136 0.174 0\n",
              "26    4        2008  5 10  0  2 1  0  0   3 ⋯ 0  0  0  1    2 0   0.300 0.273 0\n",
              "27    4        2009  2  6  0  1 0  0  0   1 ⋯ 0  0  0  0    1 0   0.167 0.167 0\n",
              "28    4        2010 10 23  8  6 1  0  4  19 ⋯ 0  0  5  1    3 0   0.826 0.414 0\n",
              "29    4        2011 13 34  4 12 3  0  2  21 ⋯ 0  0  4  0    6 3   0.618 0.400 0\n",
              "30    4        2012  5 11  2  3 0  0  0   3 ⋯ 0  1  0  0    2 0   0.273 0.273 0\n",
              "⋮    ⋮         ⋮    ⋮  ⋮  ⋮  ⋮  ⋮  ⋮  ⋮  ⋮  ⋱ ⋮  ⋮  ⋮  ⋮   ⋮  ⋮   ⋮     ⋮     ⋮\n",
              "1364 331       2017 11 32 4   8 0  0  2  14 ⋯ 1  0  2  1   2  2   0.438 0.314 0\n",
              "1365 331       2018  6 15 3   9 3  0  0  12 ⋯ 1  0  4  0   0  0   0.800 0.684 0\n",
              "1366 332       2012  9 15 0   3 0  0  0   3 ⋯ 0  0  0  2   5  0   0.200 0.294 0\n",
              "1367 332       2013  4  8 0   0 0  0  0   0 ⋯ 0  0  0  0   3  0   0.000 0.000 0\n",
              "1368 332       2014 12 20 2   3 0  0  1   6 ⋯ 0  0  2  0   4  2   0.300 0.227 2\n",
              "1369 332       2016  8 12 2   3 2  0  0   5 ⋯ 0  0  1  1   2  1   0.417 0.333 0\n",
              "1370 332       2017  7  8 1   3 2  0  0   5 ⋯ 0  0  0  0   2  0   0.625 0.375 1\n",
              "1371 332       2018  4  4 0   0 0  0  0   0 ⋯ 0  0  0  0   1  1   0.000 0.000 0\n",
              "1372 334       2018  6 16 3   4 0  2  1  11 ⋯ 0  0  1  0   0  0   0.688 0.278 0\n",
              "1373 337       2011  8  9 1   1 0  0  0   1 ⋯ 0  0  0  0   0  0   0.111 0.111 0\n",
              "1374 337       2012 12 24 3   6 0  0  1   9 ⋯ 1  0  2  0   4  0   0.375 0.308 0\n",
              "1375 337       2013 11 16 5   7 1  1  0  10 ⋯ 0  0  2  0   1  1   0.625 0.500 1\n",
              "1376 337       2017 11 13 3   3 0  1  0   5 ⋯ 0  0  1  0   2  0   0.385 0.286 0\n",
              "1377 337       2018  1  3 0   1 0  0  0   1 ⋯ 0  0  0  0   0  0   0.333 0.333 0\n",
              "1378 338       2016  5  5 0   1 1  0  0   2 ⋯ 1  0  2  0   1  0   0.400 0.429 1\n",
              "1379 341       2015  2  0 0   0 0  0  0   0 ⋯ 0  0  0  0   0  0      NA    NA 0\n",
              "1380 341       2016  2  1 0   0 0  0  0   0 ⋯ 0  0  0  0   0  0   0.000 0.000 1\n",
              "1381 341       2017  8  3 2   0 0  0  0   0 ⋯ 0  0  0  0   0  0   0.000 0.000 0\n",
              "1382 341       2018  5  2 1   0 0  0  0   0 ⋯ 0  0  0  0   0  0   0.000 0.000 0\n",
              "1383 342       2008 11 28 0   5 1  0  0   6 ⋯ 1  1  0  0   4  0   0.214 0.179 2\n",
              "1384 342       2009 11 31 4   6 2  0  0   8 ⋯ 1  1  2  0   5  0   0.258 0.242 1\n",
              "1385 342       2010 12 46 4   8 1  1  1  14 ⋯ 2  0  3  0   9  2   0.304 0.224 2\n",
              "1386 342       2011 13 33 2   5 1  1  0   8 ⋯ 2  1  3  0   9  1   0.242 0.222 3\n",
              "1387 342       2012 12 26 2   4 2  0  1   9 ⋯ 0  0  3  1   4  0   0.346 0.258 1\n",
              "1388 342       2013 10 30 2   6 0  0  1   9 ⋯ 2  1  3  2   2  1   0.300 0.306 3\n",
              "1389 342       2014 10 27 3  11 2  0  1  16 ⋯ 1  0  2  0   5  0   0.593 0.448 1\n",
              "1390 342       2015 11 30 8  10 3  0  0  13 ⋯ 0  0  4  0   3  0   0.433 0.389 0\n",
              "1391 342       2016 16 42 8  13 3  1  0  18 ⋯ 3  1  4  0   4  0   0.429 0.370 1\n",
              "1392 342       2018  6 16 3   4 1  0  1   8 ⋯ 0  0  2  0   6  0   0.500 0.333 3\n",
              "1393 344       2014  1  1 1   0 0  0  0   0 ⋯ 0  0  0  0   1  0   0.000 0.000 0\n",
              "     OPS  \n",
              "1    0.959\n",
              "2    0.500\n",
              "3       NA\n",
              "4    0.416\n",
              "5    0.493\n",
              "6    0.671\n",
              "7    0.000\n",
              "8    0.500\n",
              "9    2.000\n",
              "10   0.478\n",
              "11   1.287\n",
              "12   0.986\n",
              "13   1.012\n",
              "14   1.200\n",
              "15   0.667\n",
              "16   0.388\n",
              "17   0.250\n",
              "18   0.883\n",
              "19   1.375\n",
              "20   0.000\n",
              "21   0.300\n",
              "22   0.907\n",
              "23   0.700\n",
              "24   1.201\n",
              "25   0.310\n",
              "26   0.573\n",
              "27   0.334\n",
              "28   1.240\n",
              "29   1.018\n",
              "30   0.546\n",
              "⋮    ⋮    \n",
              "1364 0.752\n",
              "1365 1.484\n",
              "1366 0.494\n",
              "1367 0.000\n",
              "1368 0.527\n",
              "1369 0.750\n",
              "1370 1.000\n",
              "1371 0.000\n",
              "1372 0.966\n",
              "1373 0.222\n",
              "1374 0.683\n",
              "1375 1.125\n",
              "1376 0.671\n",
              "1377 0.666\n",
              "1378 0.829\n",
              "1379    NA\n",
              "1380 0.000\n",
              "1381 0.000\n",
              "1382 0.000\n",
              "1383 0.393\n",
              "1384 0.500\n",
              "1385 0.528\n",
              "1386 0.464\n",
              "1387 0.604\n",
              "1388 0.606\n",
              "1389 1.041\n",
              "1390 0.822\n",
              "1391 0.799\n",
              "1392 0.833\n",
              "1393 0.000"
            ],
            "text/latex": "A tibble: 1393 × 21\n\\begin{tabular}{lllllllllllllllllllll}\n batter\\_id & year & G & AB & R & H & 2B & 3B & HR & TB & ⋯ & SB & CS & BB & HBP & SO & GDP & SLG & OBP & E & OPS\\\\\n <int> & <int> & <int> & <int> & <int> & <int> & <int> & <int> & <int> & <int> & ⋯ & <int> & <int> & <int> & <int> & <int> & <int> & <dbl> & <dbl> & <int> & <dbl>\\\\\n\\hline\n\t  0 & 2018 &  7 & 20 &  1 &  7 & 1 & 0 & 1 & 11 & ⋯ & 0 & 0 & 2 & 0 &  3 & 1 & 0.550 & 0.409 & 1 & 0.959\\\\\n\t  1 & 2011 &  4 &  2 &  2 &  0 & 0 & 0 & 0 &  0 & ⋯ & 0 & 1 & 0 & 2 &  1 & 0 & 0.000 & 0.500 & 0 & 0.500\\\\\n\t  1 & 2014 &  4 &  0 &  2 &  0 & 0 & 0 & 0 &  0 & ⋯ & 0 & 0 & 0 & 0 &  0 & 0 &    NA &    NA & 0 &    NA\\\\\n\t  1 & 2015 & 10 & 23 &  3 &  3 & 0 & 0 & 0 &  3 & ⋯ & 3 & 0 & 4 & 1 &  9 & 0 & 0.130 & 0.286 & 2 & 0.416\\\\\n\t  1 & 2016 & 14 & 32 &  4 &  6 & 1 & 1 & 0 &  9 & ⋯ & 1 & 2 & 0 & 1 & 10 & 0 & 0.281 & 0.212 & 0 & 0.493\\\\\n\t  1 & 2017 & 11 & 36 & 10 &  8 & 0 & 0 & 2 & 14 & ⋯ & 0 & 0 & 3 & 0 & 10 & 0 & 0.389 & 0.282 & 1 & 0.671\\\\\n\t  2 & 2013 &  3 &  4 &  0 &  0 & 0 & 0 & 0 &  0 & ⋯ & 0 & 0 & 0 & 0 &  0 & 1 & 0.000 & 0.000 & 0 & 0.000\\\\\n\t  2 & 2016 &  3 &  1 &  0 &  0 & 0 & 0 & 0 &  0 & ⋯ & 1 & 0 & 1 & 0 &  0 & 1 & 0.000 & 0.500 & 0 & 0.500\\\\\n\t  2 & 2017 &  2 &  1 &  0 &  1 & 0 & 0 & 0 &  1 & ⋯ & 0 & 0 & 0 & 0 &  0 & 0 & 1.000 & 1.000 & 0 & 2.000\\\\\n\t 69 & 2006 & 10 & 15 &  0 &  3 & 0 & 0 & 0 &  3 & ⋯ & 0 & 0 & 1 & 1 &  5 & 1 & 0.200 & 0.278 & 0 & 0.478\\\\\n\t 69 & 2007 &  8 & 22 &  4 &  7 & 3 & 0 & 3 & 19 & ⋯ & 0 & 0 & 4 & 0 &  4 & 0 & 0.864 & 0.423 & 0 & 1.287\\\\\n\t 69 & 2008 & 10 & 24 &  3 &  9 & 1 & 0 & 1 & 13 & ⋯ & 0 & 0 & 2 & 1 &  2 & 2 & 0.542 & 0.444 & 0 & 0.986\\\\\n\t 69 & 2009 & 10 & 25 &  5 &  8 & 3 & 0 & 1 & 14 & ⋯ & 0 & 0 & 6 & 0 &  2 & 1 & 0.560 & 0.452 & 1 & 1.012\\\\\n\t 69 & 2010 &  2 &  5 &  2 &  2 & 0 & 1 & 0 &  4 & ⋯ & 0 & 0 & 0 & 0 &  1 & 0 & 0.800 & 0.400 & 1 & 1.200\\\\\n\t 69 & 2013 &  9 & 28 &  3 &  7 & 0 & 0 & 0 &  7 & ⋯ & 0 & 0 & 7 & 1 &  5 & 1 & 0.250 & 0.417 & 0 & 0.667\\\\\n\t 69 & 2014 & 10 & 16 &  1 &  2 & 0 & 0 & 0 &  2 & ⋯ & 0 & 0 & 3 & 0 &  4 & 0 & 0.125 & 0.263 & 0 & 0.388\\\\\n\t 69 & 2016 &  3 &  3 &  0 &  0 & 0 & 0 & 0 &  0 & ⋯ & 0 & 0 & 1 & 0 &  1 & 1 & 0.000 & 0.250 & 0 & 0.250\\\\\n\t 69 & 2017 & 12 & 27 &  2 & 10 & 1 & 0 & 1 & 14 & ⋯ & 0 & 0 & 2 & 0 &  8 & 1 & 0.519 & 0.364 & 1 & 0.883\\\\\n\t 69 & 2018 &  5 &  8 &  2 &  3 & 1 & 0 & 1 &  7 & ⋯ & 0 & 0 & 2 & 0 &  3 & 0 & 0.875 & 0.500 & 0 & 1.375\\\\\n\t  3 & 2014 &  2 &  1 &  0 &  0 & 0 & 0 & 0 &  0 & ⋯ & 0 & 0 & 0 & 0 &  1 & 0 & 0.000 & 0.000 & 0 & 0.000\\\\\n\t  3 & 2015 &  9 & 10 &  2 &  1 & 1 & 0 & 0 &  2 & ⋯ & 0 & 0 & 0 & 0 &  4 & 0 & 0.200 & 0.100 & 0 & 0.300\\\\\n\t  3 & 2016 & 16 & 19 &  2 &  6 & 2 & 1 & 0 & 10 & ⋯ & 0 & 0 & 2 & 0 &  4 & 0 & 0.526 & 0.381 & 0 & 0.907\\\\\n\t  4 & 2005 & 11 & 20 &  2 &  5 & 4 & 0 & 0 &  9 & ⋯ & 0 & 1 & 0 & 0 &  6 & 0 & 0.450 & 0.250 & 0 & 0.700\\\\\n\t  4 & 2006 &  9 & 21 &  6 &  8 & 1 & 1 & 2 & 17 & ⋯ & 0 & 0 & 1 & 0 &  5 & 1 & 0.810 & 0.391 & 0 & 1.201\\\\\n\t  4 & 2007 & 10 & 22 &  2 &  3 & 0 & 0 & 0 &  3 & ⋯ & 0 & 0 & 0 & 1 &  6 & 1 & 0.136 & 0.174 & 0 & 0.310\\\\\n\t  4 & 2008 &  5 & 10 &  0 &  2 & 1 & 0 & 0 &  3 & ⋯ & 0 & 0 & 0 & 1 &  2 & 0 & 0.300 & 0.273 & 0 & 0.573\\\\\n\t  4 & 2009 &  2 &  6 &  0 &  1 & 0 & 0 & 0 &  1 & ⋯ & 0 & 0 & 0 & 0 &  1 & 0 & 0.167 & 0.167 & 0 & 0.334\\\\\n\t  4 & 2010 & 10 & 23 &  8 &  6 & 1 & 0 & 4 & 19 & ⋯ & 0 & 0 & 5 & 1 &  3 & 0 & 0.826 & 0.414 & 0 & 1.240\\\\\n\t  4 & 2011 & 13 & 34 &  4 & 12 & 3 & 0 & 2 & 21 & ⋯ & 0 & 0 & 4 & 0 &  6 & 3 & 0.618 & 0.400 & 0 & 1.018\\\\\n\t  4 & 2012 &  5 & 11 &  2 &  3 & 0 & 0 & 0 &  3 & ⋯ & 0 & 1 & 0 & 0 &  2 & 0 & 0.273 & 0.273 & 0 & 0.546\\\\\n\t ⋮ & ⋮ & ⋮ & ⋮ & ⋮ & ⋮ & ⋮ & ⋮ & ⋮ & ⋮ & ⋱ & ⋮ & ⋮ & ⋮ & ⋮ & ⋮ & ⋮ & ⋮ & ⋮ & ⋮ & ⋮\\\\\n\t 331 & 2017 & 11 & 32 & 4 &  8 & 0 & 0 & 2 & 14 & ⋯ & 1 & 0 & 2 & 1 & 2 & 2 & 0.438 & 0.314 & 0 & 0.752\\\\\n\t 331 & 2018 &  6 & 15 & 3 &  9 & 3 & 0 & 0 & 12 & ⋯ & 1 & 0 & 4 & 0 & 0 & 0 & 0.800 & 0.684 & 0 & 1.484\\\\\n\t 332 & 2012 &  9 & 15 & 0 &  3 & 0 & 0 & 0 &  3 & ⋯ & 0 & 0 & 0 & 2 & 5 & 0 & 0.200 & 0.294 & 0 & 0.494\\\\\n\t 332 & 2013 &  4 &  8 & 0 &  0 & 0 & 0 & 0 &  0 & ⋯ & 0 & 0 & 0 & 0 & 3 & 0 & 0.000 & 0.000 & 0 & 0.000\\\\\n\t 332 & 2014 & 12 & 20 & 2 &  3 & 0 & 0 & 1 &  6 & ⋯ & 0 & 0 & 2 & 0 & 4 & 2 & 0.300 & 0.227 & 2 & 0.527\\\\\n\t 332 & 2016 &  8 & 12 & 2 &  3 & 2 & 0 & 0 &  5 & ⋯ & 0 & 0 & 1 & 1 & 2 & 1 & 0.417 & 0.333 & 0 & 0.750\\\\\n\t 332 & 2017 &  7 &  8 & 1 &  3 & 2 & 0 & 0 &  5 & ⋯ & 0 & 0 & 0 & 0 & 2 & 0 & 0.625 & 0.375 & 1 & 1.000\\\\\n\t 332 & 2018 &  4 &  4 & 0 &  0 & 0 & 0 & 0 &  0 & ⋯ & 0 & 0 & 0 & 0 & 1 & 1 & 0.000 & 0.000 & 0 & 0.000\\\\\n\t 334 & 2018 &  6 & 16 & 3 &  4 & 0 & 2 & 1 & 11 & ⋯ & 0 & 0 & 1 & 0 & 0 & 0 & 0.688 & 0.278 & 0 & 0.966\\\\\n\t 337 & 2011 &  8 &  9 & 1 &  1 & 0 & 0 & 0 &  1 & ⋯ & 0 & 0 & 0 & 0 & 0 & 0 & 0.111 & 0.111 & 0 & 0.222\\\\\n\t 337 & 2012 & 12 & 24 & 3 &  6 & 0 & 0 & 1 &  9 & ⋯ & 1 & 0 & 2 & 0 & 4 & 0 & 0.375 & 0.308 & 0 & 0.683\\\\\n\t 337 & 2013 & 11 & 16 & 5 &  7 & 1 & 1 & 0 & 10 & ⋯ & 0 & 0 & 2 & 0 & 1 & 1 & 0.625 & 0.500 & 1 & 1.125\\\\\n\t 337 & 2017 & 11 & 13 & 3 &  3 & 0 & 1 & 0 &  5 & ⋯ & 0 & 0 & 1 & 0 & 2 & 0 & 0.385 & 0.286 & 0 & 0.671\\\\\n\t 337 & 2018 &  1 &  3 & 0 &  1 & 0 & 0 & 0 &  1 & ⋯ & 0 & 0 & 0 & 0 & 0 & 0 & 0.333 & 0.333 & 0 & 0.666\\\\\n\t 338 & 2016 &  5 &  5 & 0 &  1 & 1 & 0 & 0 &  2 & ⋯ & 1 & 0 & 2 & 0 & 1 & 0 & 0.400 & 0.429 & 1 & 0.829\\\\\n\t 341 & 2015 &  2 &  0 & 0 &  0 & 0 & 0 & 0 &  0 & ⋯ & 0 & 0 & 0 & 0 & 0 & 0 &    NA &    NA & 0 &    NA\\\\\n\t 341 & 2016 &  2 &  1 & 0 &  0 & 0 & 0 & 0 &  0 & ⋯ & 0 & 0 & 0 & 0 & 0 & 0 & 0.000 & 0.000 & 1 & 0.000\\\\\n\t 341 & 2017 &  8 &  3 & 2 &  0 & 0 & 0 & 0 &  0 & ⋯ & 0 & 0 & 0 & 0 & 0 & 0 & 0.000 & 0.000 & 0 & 0.000\\\\\n\t 341 & 2018 &  5 &  2 & 1 &  0 & 0 & 0 & 0 &  0 & ⋯ & 0 & 0 & 0 & 0 & 0 & 0 & 0.000 & 0.000 & 0 & 0.000\\\\\n\t 342 & 2008 & 11 & 28 & 0 &  5 & 1 & 0 & 0 &  6 & ⋯ & 1 & 1 & 0 & 0 & 4 & 0 & 0.214 & 0.179 & 2 & 0.393\\\\\n\t 342 & 2009 & 11 & 31 & 4 &  6 & 2 & 0 & 0 &  8 & ⋯ & 1 & 1 & 2 & 0 & 5 & 0 & 0.258 & 0.242 & 1 & 0.500\\\\\n\t 342 & 2010 & 12 & 46 & 4 &  8 & 1 & 1 & 1 & 14 & ⋯ & 2 & 0 & 3 & 0 & 9 & 2 & 0.304 & 0.224 & 2 & 0.528\\\\\n\t 342 & 2011 & 13 & 33 & 2 &  5 & 1 & 1 & 0 &  8 & ⋯ & 2 & 1 & 3 & 0 & 9 & 1 & 0.242 & 0.222 & 3 & 0.464\\\\\n\t 342 & 2012 & 12 & 26 & 2 &  4 & 2 & 0 & 1 &  9 & ⋯ & 0 & 0 & 3 & 1 & 4 & 0 & 0.346 & 0.258 & 1 & 0.604\\\\\n\t 342 & 2013 & 10 & 30 & 2 &  6 & 0 & 0 & 1 &  9 & ⋯ & 2 & 1 & 3 & 2 & 2 & 1 & 0.300 & 0.306 & 3 & 0.606\\\\\n\t 342 & 2014 & 10 & 27 & 3 & 11 & 2 & 0 & 1 & 16 & ⋯ & 1 & 0 & 2 & 0 & 5 & 0 & 0.593 & 0.448 & 1 & 1.041\\\\\n\t 342 & 2015 & 11 & 30 & 8 & 10 & 3 & 0 & 0 & 13 & ⋯ & 0 & 0 & 4 & 0 & 3 & 0 & 0.433 & 0.389 & 0 & 0.822\\\\\n\t 342 & 2016 & 16 & 42 & 8 & 13 & 3 & 1 & 0 & 18 & ⋯ & 3 & 1 & 4 & 0 & 4 & 0 & 0.429 & 0.370 & 1 & 0.799\\\\\n\t 342 & 2018 &  6 & 16 & 3 &  4 & 1 & 0 & 1 &  8 & ⋯ & 0 & 0 & 2 & 0 & 6 & 0 & 0.500 & 0.333 & 3 & 0.833\\\\\n\t 344 & 2014 &  1 &  1 & 1 &  0 & 0 & 0 & 0 &  0 & ⋯ & 0 & 0 & 0 & 0 & 1 & 0 & 0.000 & 0.000 & 0 & 0.000\\\\\n\\end{tabular}\n",
            "text/markdown": "\nA tibble: 1393 × 21\n\n| batter_id &lt;int&gt; | year &lt;int&gt; | G &lt;int&gt; | AB &lt;int&gt; | R &lt;int&gt; | H &lt;int&gt; | 2B &lt;int&gt; | 3B &lt;int&gt; | HR &lt;int&gt; | TB &lt;int&gt; | ⋯ ⋯ | SB &lt;int&gt; | CS &lt;int&gt; | BB &lt;int&gt; | HBP &lt;int&gt; | SO &lt;int&gt; | GDP &lt;int&gt; | SLG &lt;dbl&gt; | OBP &lt;dbl&gt; | E &lt;int&gt; | OPS &lt;dbl&gt; |\n|---|---|---|---|---|---|---|---|---|---|---|---|---|---|---|---|---|---|---|---|---|\n|  0 | 2018 |  7 | 20 |  1 |  7 | 1 | 0 | 1 | 11 | ⋯ | 0 | 0 | 2 | 0 |  3 | 1 | 0.550 | 0.409 | 1 | 0.959 |\n|  1 | 2011 |  4 |  2 |  2 |  0 | 0 | 0 | 0 |  0 | ⋯ | 0 | 1 | 0 | 2 |  1 | 0 | 0.000 | 0.500 | 0 | 0.500 |\n|  1 | 2014 |  4 |  0 |  2 |  0 | 0 | 0 | 0 |  0 | ⋯ | 0 | 0 | 0 | 0 |  0 | 0 |    NA |    NA | 0 |    NA |\n|  1 | 2015 | 10 | 23 |  3 |  3 | 0 | 0 | 0 |  3 | ⋯ | 3 | 0 | 4 | 1 |  9 | 0 | 0.130 | 0.286 | 2 | 0.416 |\n|  1 | 2016 | 14 | 32 |  4 |  6 | 1 | 1 | 0 |  9 | ⋯ | 1 | 2 | 0 | 1 | 10 | 0 | 0.281 | 0.212 | 0 | 0.493 |\n|  1 | 2017 | 11 | 36 | 10 |  8 | 0 | 0 | 2 | 14 | ⋯ | 0 | 0 | 3 | 0 | 10 | 0 | 0.389 | 0.282 | 1 | 0.671 |\n|  2 | 2013 |  3 |  4 |  0 |  0 | 0 | 0 | 0 |  0 | ⋯ | 0 | 0 | 0 | 0 |  0 | 1 | 0.000 | 0.000 | 0 | 0.000 |\n|  2 | 2016 |  3 |  1 |  0 |  0 | 0 | 0 | 0 |  0 | ⋯ | 1 | 0 | 1 | 0 |  0 | 1 | 0.000 | 0.500 | 0 | 0.500 |\n|  2 | 2017 |  2 |  1 |  0 |  1 | 0 | 0 | 0 |  1 | ⋯ | 0 | 0 | 0 | 0 |  0 | 0 | 1.000 | 1.000 | 0 | 2.000 |\n| 69 | 2006 | 10 | 15 |  0 |  3 | 0 | 0 | 0 |  3 | ⋯ | 0 | 0 | 1 | 1 |  5 | 1 | 0.200 | 0.278 | 0 | 0.478 |\n| 69 | 2007 |  8 | 22 |  4 |  7 | 3 | 0 | 3 | 19 | ⋯ | 0 | 0 | 4 | 0 |  4 | 0 | 0.864 | 0.423 | 0 | 1.287 |\n| 69 | 2008 | 10 | 24 |  3 |  9 | 1 | 0 | 1 | 13 | ⋯ | 0 | 0 | 2 | 1 |  2 | 2 | 0.542 | 0.444 | 0 | 0.986 |\n| 69 | 2009 | 10 | 25 |  5 |  8 | 3 | 0 | 1 | 14 | ⋯ | 0 | 0 | 6 | 0 |  2 | 1 | 0.560 | 0.452 | 1 | 1.012 |\n| 69 | 2010 |  2 |  5 |  2 |  2 | 0 | 1 | 0 |  4 | ⋯ | 0 | 0 | 0 | 0 |  1 | 0 | 0.800 | 0.400 | 1 | 1.200 |\n| 69 | 2013 |  9 | 28 |  3 |  7 | 0 | 0 | 0 |  7 | ⋯ | 0 | 0 | 7 | 1 |  5 | 1 | 0.250 | 0.417 | 0 | 0.667 |\n| 69 | 2014 | 10 | 16 |  1 |  2 | 0 | 0 | 0 |  2 | ⋯ | 0 | 0 | 3 | 0 |  4 | 0 | 0.125 | 0.263 | 0 | 0.388 |\n| 69 | 2016 |  3 |  3 |  0 |  0 | 0 | 0 | 0 |  0 | ⋯ | 0 | 0 | 1 | 0 |  1 | 1 | 0.000 | 0.250 | 0 | 0.250 |\n| 69 | 2017 | 12 | 27 |  2 | 10 | 1 | 0 | 1 | 14 | ⋯ | 0 | 0 | 2 | 0 |  8 | 1 | 0.519 | 0.364 | 1 | 0.883 |\n| 69 | 2018 |  5 |  8 |  2 |  3 | 1 | 0 | 1 |  7 | ⋯ | 0 | 0 | 2 | 0 |  3 | 0 | 0.875 | 0.500 | 0 | 1.375 |\n|  3 | 2014 |  2 |  1 |  0 |  0 | 0 | 0 | 0 |  0 | ⋯ | 0 | 0 | 0 | 0 |  1 | 0 | 0.000 | 0.000 | 0 | 0.000 |\n|  3 | 2015 |  9 | 10 |  2 |  1 | 1 | 0 | 0 |  2 | ⋯ | 0 | 0 | 0 | 0 |  4 | 0 | 0.200 | 0.100 | 0 | 0.300 |\n|  3 | 2016 | 16 | 19 |  2 |  6 | 2 | 1 | 0 | 10 | ⋯ | 0 | 0 | 2 | 0 |  4 | 0 | 0.526 | 0.381 | 0 | 0.907 |\n|  4 | 2005 | 11 | 20 |  2 |  5 | 4 | 0 | 0 |  9 | ⋯ | 0 | 1 | 0 | 0 |  6 | 0 | 0.450 | 0.250 | 0 | 0.700 |\n|  4 | 2006 |  9 | 21 |  6 |  8 | 1 | 1 | 2 | 17 | ⋯ | 0 | 0 | 1 | 0 |  5 | 1 | 0.810 | 0.391 | 0 | 1.201 |\n|  4 | 2007 | 10 | 22 |  2 |  3 | 0 | 0 | 0 |  3 | ⋯ | 0 | 0 | 0 | 1 |  6 | 1 | 0.136 | 0.174 | 0 | 0.310 |\n|  4 | 2008 |  5 | 10 |  0 |  2 | 1 | 0 | 0 |  3 | ⋯ | 0 | 0 | 0 | 1 |  2 | 0 | 0.300 | 0.273 | 0 | 0.573 |\n|  4 | 2009 |  2 |  6 |  0 |  1 | 0 | 0 | 0 |  1 | ⋯ | 0 | 0 | 0 | 0 |  1 | 0 | 0.167 | 0.167 | 0 | 0.334 |\n|  4 | 2010 | 10 | 23 |  8 |  6 | 1 | 0 | 4 | 19 | ⋯ | 0 | 0 | 5 | 1 |  3 | 0 | 0.826 | 0.414 | 0 | 1.240 |\n|  4 | 2011 | 13 | 34 |  4 | 12 | 3 | 0 | 2 | 21 | ⋯ | 0 | 0 | 4 | 0 |  6 | 3 | 0.618 | 0.400 | 0 | 1.018 |\n|  4 | 2012 |  5 | 11 |  2 |  3 | 0 | 0 | 0 |  3 | ⋯ | 0 | 1 | 0 | 0 |  2 | 0 | 0.273 | 0.273 | 0 | 0.546 |\n| ⋮ | ⋮ | ⋮ | ⋮ | ⋮ | ⋮ | ⋮ | ⋮ | ⋮ | ⋮ | ⋱ | ⋮ | ⋮ | ⋮ | ⋮ | ⋮ | ⋮ | ⋮ | ⋮ | ⋮ | ⋮ |\n| 331 | 2017 | 11 | 32 | 4 |  8 | 0 | 0 | 2 | 14 | ⋯ | 1 | 0 | 2 | 1 | 2 | 2 | 0.438 | 0.314 | 0 | 0.752 |\n| 331 | 2018 |  6 | 15 | 3 |  9 | 3 | 0 | 0 | 12 | ⋯ | 1 | 0 | 4 | 0 | 0 | 0 | 0.800 | 0.684 | 0 | 1.484 |\n| 332 | 2012 |  9 | 15 | 0 |  3 | 0 | 0 | 0 |  3 | ⋯ | 0 | 0 | 0 | 2 | 5 | 0 | 0.200 | 0.294 | 0 | 0.494 |\n| 332 | 2013 |  4 |  8 | 0 |  0 | 0 | 0 | 0 |  0 | ⋯ | 0 | 0 | 0 | 0 | 3 | 0 | 0.000 | 0.000 | 0 | 0.000 |\n| 332 | 2014 | 12 | 20 | 2 |  3 | 0 | 0 | 1 |  6 | ⋯ | 0 | 0 | 2 | 0 | 4 | 2 | 0.300 | 0.227 | 2 | 0.527 |\n| 332 | 2016 |  8 | 12 | 2 |  3 | 2 | 0 | 0 |  5 | ⋯ | 0 | 0 | 1 | 1 | 2 | 1 | 0.417 | 0.333 | 0 | 0.750 |\n| 332 | 2017 |  7 |  8 | 1 |  3 | 2 | 0 | 0 |  5 | ⋯ | 0 | 0 | 0 | 0 | 2 | 0 | 0.625 | 0.375 | 1 | 1.000 |\n| 332 | 2018 |  4 |  4 | 0 |  0 | 0 | 0 | 0 |  0 | ⋯ | 0 | 0 | 0 | 0 | 1 | 1 | 0.000 | 0.000 | 0 | 0.000 |\n| 334 | 2018 |  6 | 16 | 3 |  4 | 0 | 2 | 1 | 11 | ⋯ | 0 | 0 | 1 | 0 | 0 | 0 | 0.688 | 0.278 | 0 | 0.966 |\n| 337 | 2011 |  8 |  9 | 1 |  1 | 0 | 0 | 0 |  1 | ⋯ | 0 | 0 | 0 | 0 | 0 | 0 | 0.111 | 0.111 | 0 | 0.222 |\n| 337 | 2012 | 12 | 24 | 3 |  6 | 0 | 0 | 1 |  9 | ⋯ | 1 | 0 | 2 | 0 | 4 | 0 | 0.375 | 0.308 | 0 | 0.683 |\n| 337 | 2013 | 11 | 16 | 5 |  7 | 1 | 1 | 0 | 10 | ⋯ | 0 | 0 | 2 | 0 | 1 | 1 | 0.625 | 0.500 | 1 | 1.125 |\n| 337 | 2017 | 11 | 13 | 3 |  3 | 0 | 1 | 0 |  5 | ⋯ | 0 | 0 | 1 | 0 | 2 | 0 | 0.385 | 0.286 | 0 | 0.671 |\n| 337 | 2018 |  1 |  3 | 0 |  1 | 0 | 0 | 0 |  1 | ⋯ | 0 | 0 | 0 | 0 | 0 | 0 | 0.333 | 0.333 | 0 | 0.666 |\n| 338 | 2016 |  5 |  5 | 0 |  1 | 1 | 0 | 0 |  2 | ⋯ | 1 | 0 | 2 | 0 | 1 | 0 | 0.400 | 0.429 | 1 | 0.829 |\n| 341 | 2015 |  2 |  0 | 0 |  0 | 0 | 0 | 0 |  0 | ⋯ | 0 | 0 | 0 | 0 | 0 | 0 |    NA |    NA | 0 |    NA |\n| 341 | 2016 |  2 |  1 | 0 |  0 | 0 | 0 | 0 |  0 | ⋯ | 0 | 0 | 0 | 0 | 0 | 0 | 0.000 | 0.000 | 1 | 0.000 |\n| 341 | 2017 |  8 |  3 | 2 |  0 | 0 | 0 | 0 |  0 | ⋯ | 0 | 0 | 0 | 0 | 0 | 0 | 0.000 | 0.000 | 0 | 0.000 |\n| 341 | 2018 |  5 |  2 | 1 |  0 | 0 | 0 | 0 |  0 | ⋯ | 0 | 0 | 0 | 0 | 0 | 0 | 0.000 | 0.000 | 0 | 0.000 |\n| 342 | 2008 | 11 | 28 | 0 |  5 | 1 | 0 | 0 |  6 | ⋯ | 1 | 1 | 0 | 0 | 4 | 0 | 0.214 | 0.179 | 2 | 0.393 |\n| 342 | 2009 | 11 | 31 | 4 |  6 | 2 | 0 | 0 |  8 | ⋯ | 1 | 1 | 2 | 0 | 5 | 0 | 0.258 | 0.242 | 1 | 0.500 |\n| 342 | 2010 | 12 | 46 | 4 |  8 | 1 | 1 | 1 | 14 | ⋯ | 2 | 0 | 3 | 0 | 9 | 2 | 0.304 | 0.224 | 2 | 0.528 |\n| 342 | 2011 | 13 | 33 | 2 |  5 | 1 | 1 | 0 |  8 | ⋯ | 2 | 1 | 3 | 0 | 9 | 1 | 0.242 | 0.222 | 3 | 0.464 |\n| 342 | 2012 | 12 | 26 | 2 |  4 | 2 | 0 | 1 |  9 | ⋯ | 0 | 0 | 3 | 1 | 4 | 0 | 0.346 | 0.258 | 1 | 0.604 |\n| 342 | 2013 | 10 | 30 | 2 |  6 | 0 | 0 | 1 |  9 | ⋯ | 2 | 1 | 3 | 2 | 2 | 1 | 0.300 | 0.306 | 3 | 0.606 |\n| 342 | 2014 | 10 | 27 | 3 | 11 | 2 | 0 | 1 | 16 | ⋯ | 1 | 0 | 2 | 0 | 5 | 0 | 0.593 | 0.448 | 1 | 1.041 |\n| 342 | 2015 | 11 | 30 | 8 | 10 | 3 | 0 | 0 | 13 | ⋯ | 0 | 0 | 4 | 0 | 3 | 0 | 0.433 | 0.389 | 0 | 0.822 |\n| 342 | 2016 | 16 | 42 | 8 | 13 | 3 | 1 | 0 | 18 | ⋯ | 3 | 1 | 4 | 0 | 4 | 0 | 0.429 | 0.370 | 1 | 0.799 |\n| 342 | 2018 |  6 | 16 | 3 |  4 | 1 | 0 | 1 |  8 | ⋯ | 0 | 0 | 2 | 0 | 6 | 0 | 0.500 | 0.333 | 3 | 0.833 |\n| 344 | 2014 |  1 |  1 | 1 |  0 | 0 | 0 | 0 |  0 | ⋯ | 0 | 0 | 0 | 0 | 1 | 0 | 0.000 | 0.000 | 0 | 0.000 |\n\n",
            "text/html": [
              "<table>\n",
              "<caption>A tibble: 1393 × 21</caption>\n",
              "<thead>\n",
              "\t<tr><th scope=col>batter_id</th><th scope=col>year</th><th scope=col>G</th><th scope=col>AB</th><th scope=col>R</th><th scope=col>H</th><th scope=col>2B</th><th scope=col>3B</th><th scope=col>HR</th><th scope=col>TB</th><th scope=col>⋯</th><th scope=col>SB</th><th scope=col>CS</th><th scope=col>BB</th><th scope=col>HBP</th><th scope=col>SO</th><th scope=col>GDP</th><th scope=col>SLG</th><th scope=col>OBP</th><th scope=col>E</th><th scope=col>OPS</th></tr>\n",
              "\t<tr><th scope=col>&lt;int&gt;</th><th scope=col>&lt;int&gt;</th><th scope=col>&lt;int&gt;</th><th scope=col>&lt;int&gt;</th><th scope=col>&lt;int&gt;</th><th scope=col>&lt;int&gt;</th><th scope=col>&lt;int&gt;</th><th scope=col>&lt;int&gt;</th><th scope=col>&lt;int&gt;</th><th scope=col>&lt;int&gt;</th><th scope=col>⋯</th><th scope=col>&lt;int&gt;</th><th scope=col>&lt;int&gt;</th><th scope=col>&lt;int&gt;</th><th scope=col>&lt;int&gt;</th><th scope=col>&lt;int&gt;</th><th scope=col>&lt;int&gt;</th><th scope=col>&lt;dbl&gt;</th><th scope=col>&lt;dbl&gt;</th><th scope=col>&lt;int&gt;</th><th scope=col>&lt;dbl&gt;</th></tr>\n",
              "</thead>\n",
              "<tbody>\n",
              "\t<tr><td> 0</td><td>2018</td><td> 7</td><td>20</td><td> 1</td><td> 7</td><td>1</td><td>0</td><td>1</td><td>11</td><td>⋯</td><td>0</td><td>0</td><td>2</td><td>0</td><td> 3</td><td>1</td><td>0.550</td><td>0.409</td><td>1</td><td>0.959</td></tr>\n",
              "\t<tr><td> 1</td><td>2011</td><td> 4</td><td> 2</td><td> 2</td><td> 0</td><td>0</td><td>0</td><td>0</td><td> 0</td><td>⋯</td><td>0</td><td>1</td><td>0</td><td>2</td><td> 1</td><td>0</td><td>0.000</td><td>0.500</td><td>0</td><td>0.500</td></tr>\n",
              "\t<tr><td> 1</td><td>2014</td><td> 4</td><td> 0</td><td> 2</td><td> 0</td><td>0</td><td>0</td><td>0</td><td> 0</td><td>⋯</td><td>0</td><td>0</td><td>0</td><td>0</td><td> 0</td><td>0</td><td>   NA</td><td>   NA</td><td>0</td><td>   NA</td></tr>\n",
              "\t<tr><td> 1</td><td>2015</td><td>10</td><td>23</td><td> 3</td><td> 3</td><td>0</td><td>0</td><td>0</td><td> 3</td><td>⋯</td><td>3</td><td>0</td><td>4</td><td>1</td><td> 9</td><td>0</td><td>0.130</td><td>0.286</td><td>2</td><td>0.416</td></tr>\n",
              "\t<tr><td> 1</td><td>2016</td><td>14</td><td>32</td><td> 4</td><td> 6</td><td>1</td><td>1</td><td>0</td><td> 9</td><td>⋯</td><td>1</td><td>2</td><td>0</td><td>1</td><td>10</td><td>0</td><td>0.281</td><td>0.212</td><td>0</td><td>0.493</td></tr>\n",
              "\t<tr><td> 1</td><td>2017</td><td>11</td><td>36</td><td>10</td><td> 8</td><td>0</td><td>0</td><td>2</td><td>14</td><td>⋯</td><td>0</td><td>0</td><td>3</td><td>0</td><td>10</td><td>0</td><td>0.389</td><td>0.282</td><td>1</td><td>0.671</td></tr>\n",
              "\t<tr><td> 2</td><td>2013</td><td> 3</td><td> 4</td><td> 0</td><td> 0</td><td>0</td><td>0</td><td>0</td><td> 0</td><td>⋯</td><td>0</td><td>0</td><td>0</td><td>0</td><td> 0</td><td>1</td><td>0.000</td><td>0.000</td><td>0</td><td>0.000</td></tr>\n",
              "\t<tr><td> 2</td><td>2016</td><td> 3</td><td> 1</td><td> 0</td><td> 0</td><td>0</td><td>0</td><td>0</td><td> 0</td><td>⋯</td><td>1</td><td>0</td><td>1</td><td>0</td><td> 0</td><td>1</td><td>0.000</td><td>0.500</td><td>0</td><td>0.500</td></tr>\n",
              "\t<tr><td> 2</td><td>2017</td><td> 2</td><td> 1</td><td> 0</td><td> 1</td><td>0</td><td>0</td><td>0</td><td> 1</td><td>⋯</td><td>0</td><td>0</td><td>0</td><td>0</td><td> 0</td><td>0</td><td>1.000</td><td>1.000</td><td>0</td><td>2.000</td></tr>\n",
              "\t<tr><td>69</td><td>2006</td><td>10</td><td>15</td><td> 0</td><td> 3</td><td>0</td><td>0</td><td>0</td><td> 3</td><td>⋯</td><td>0</td><td>0</td><td>1</td><td>1</td><td> 5</td><td>1</td><td>0.200</td><td>0.278</td><td>0</td><td>0.478</td></tr>\n",
              "\t<tr><td>69</td><td>2007</td><td> 8</td><td>22</td><td> 4</td><td> 7</td><td>3</td><td>0</td><td>3</td><td>19</td><td>⋯</td><td>0</td><td>0</td><td>4</td><td>0</td><td> 4</td><td>0</td><td>0.864</td><td>0.423</td><td>0</td><td>1.287</td></tr>\n",
              "\t<tr><td>69</td><td>2008</td><td>10</td><td>24</td><td> 3</td><td> 9</td><td>1</td><td>0</td><td>1</td><td>13</td><td>⋯</td><td>0</td><td>0</td><td>2</td><td>1</td><td> 2</td><td>2</td><td>0.542</td><td>0.444</td><td>0</td><td>0.986</td></tr>\n",
              "\t<tr><td>69</td><td>2009</td><td>10</td><td>25</td><td> 5</td><td> 8</td><td>3</td><td>0</td><td>1</td><td>14</td><td>⋯</td><td>0</td><td>0</td><td>6</td><td>0</td><td> 2</td><td>1</td><td>0.560</td><td>0.452</td><td>1</td><td>1.012</td></tr>\n",
              "\t<tr><td>69</td><td>2010</td><td> 2</td><td> 5</td><td> 2</td><td> 2</td><td>0</td><td>1</td><td>0</td><td> 4</td><td>⋯</td><td>0</td><td>0</td><td>0</td><td>0</td><td> 1</td><td>0</td><td>0.800</td><td>0.400</td><td>1</td><td>1.200</td></tr>\n",
              "\t<tr><td>69</td><td>2013</td><td> 9</td><td>28</td><td> 3</td><td> 7</td><td>0</td><td>0</td><td>0</td><td> 7</td><td>⋯</td><td>0</td><td>0</td><td>7</td><td>1</td><td> 5</td><td>1</td><td>0.250</td><td>0.417</td><td>0</td><td>0.667</td></tr>\n",
              "\t<tr><td>69</td><td>2014</td><td>10</td><td>16</td><td> 1</td><td> 2</td><td>0</td><td>0</td><td>0</td><td> 2</td><td>⋯</td><td>0</td><td>0</td><td>3</td><td>0</td><td> 4</td><td>0</td><td>0.125</td><td>0.263</td><td>0</td><td>0.388</td></tr>\n",
              "\t<tr><td>69</td><td>2016</td><td> 3</td><td> 3</td><td> 0</td><td> 0</td><td>0</td><td>0</td><td>0</td><td> 0</td><td>⋯</td><td>0</td><td>0</td><td>1</td><td>0</td><td> 1</td><td>1</td><td>0.000</td><td>0.250</td><td>0</td><td>0.250</td></tr>\n",
              "\t<tr><td>69</td><td>2017</td><td>12</td><td>27</td><td> 2</td><td>10</td><td>1</td><td>0</td><td>1</td><td>14</td><td>⋯</td><td>0</td><td>0</td><td>2</td><td>0</td><td> 8</td><td>1</td><td>0.519</td><td>0.364</td><td>1</td><td>0.883</td></tr>\n",
              "\t<tr><td>69</td><td>2018</td><td> 5</td><td> 8</td><td> 2</td><td> 3</td><td>1</td><td>0</td><td>1</td><td> 7</td><td>⋯</td><td>0</td><td>0</td><td>2</td><td>0</td><td> 3</td><td>0</td><td>0.875</td><td>0.500</td><td>0</td><td>1.375</td></tr>\n",
              "\t<tr><td> 3</td><td>2014</td><td> 2</td><td> 1</td><td> 0</td><td> 0</td><td>0</td><td>0</td><td>0</td><td> 0</td><td>⋯</td><td>0</td><td>0</td><td>0</td><td>0</td><td> 1</td><td>0</td><td>0.000</td><td>0.000</td><td>0</td><td>0.000</td></tr>\n",
              "\t<tr><td> 3</td><td>2015</td><td> 9</td><td>10</td><td> 2</td><td> 1</td><td>1</td><td>0</td><td>0</td><td> 2</td><td>⋯</td><td>0</td><td>0</td><td>0</td><td>0</td><td> 4</td><td>0</td><td>0.200</td><td>0.100</td><td>0</td><td>0.300</td></tr>\n",
              "\t<tr><td> 3</td><td>2016</td><td>16</td><td>19</td><td> 2</td><td> 6</td><td>2</td><td>1</td><td>0</td><td>10</td><td>⋯</td><td>0</td><td>0</td><td>2</td><td>0</td><td> 4</td><td>0</td><td>0.526</td><td>0.381</td><td>0</td><td>0.907</td></tr>\n",
              "\t<tr><td> 4</td><td>2005</td><td>11</td><td>20</td><td> 2</td><td> 5</td><td>4</td><td>0</td><td>0</td><td> 9</td><td>⋯</td><td>0</td><td>1</td><td>0</td><td>0</td><td> 6</td><td>0</td><td>0.450</td><td>0.250</td><td>0</td><td>0.700</td></tr>\n",
              "\t<tr><td> 4</td><td>2006</td><td> 9</td><td>21</td><td> 6</td><td> 8</td><td>1</td><td>1</td><td>2</td><td>17</td><td>⋯</td><td>0</td><td>0</td><td>1</td><td>0</td><td> 5</td><td>1</td><td>0.810</td><td>0.391</td><td>0</td><td>1.201</td></tr>\n",
              "\t<tr><td> 4</td><td>2007</td><td>10</td><td>22</td><td> 2</td><td> 3</td><td>0</td><td>0</td><td>0</td><td> 3</td><td>⋯</td><td>0</td><td>0</td><td>0</td><td>1</td><td> 6</td><td>1</td><td>0.136</td><td>0.174</td><td>0</td><td>0.310</td></tr>\n",
              "\t<tr><td> 4</td><td>2008</td><td> 5</td><td>10</td><td> 0</td><td> 2</td><td>1</td><td>0</td><td>0</td><td> 3</td><td>⋯</td><td>0</td><td>0</td><td>0</td><td>1</td><td> 2</td><td>0</td><td>0.300</td><td>0.273</td><td>0</td><td>0.573</td></tr>\n",
              "\t<tr><td> 4</td><td>2009</td><td> 2</td><td> 6</td><td> 0</td><td> 1</td><td>0</td><td>0</td><td>0</td><td> 1</td><td>⋯</td><td>0</td><td>0</td><td>0</td><td>0</td><td> 1</td><td>0</td><td>0.167</td><td>0.167</td><td>0</td><td>0.334</td></tr>\n",
              "\t<tr><td> 4</td><td>2010</td><td>10</td><td>23</td><td> 8</td><td> 6</td><td>1</td><td>0</td><td>4</td><td>19</td><td>⋯</td><td>0</td><td>0</td><td>5</td><td>1</td><td> 3</td><td>0</td><td>0.826</td><td>0.414</td><td>0</td><td>1.240</td></tr>\n",
              "\t<tr><td> 4</td><td>2011</td><td>13</td><td>34</td><td> 4</td><td>12</td><td>3</td><td>0</td><td>2</td><td>21</td><td>⋯</td><td>0</td><td>0</td><td>4</td><td>0</td><td> 6</td><td>3</td><td>0.618</td><td>0.400</td><td>0</td><td>1.018</td></tr>\n",
              "\t<tr><td> 4</td><td>2012</td><td> 5</td><td>11</td><td> 2</td><td> 3</td><td>0</td><td>0</td><td>0</td><td> 3</td><td>⋯</td><td>0</td><td>1</td><td>0</td><td>0</td><td> 2</td><td>0</td><td>0.273</td><td>0.273</td><td>0</td><td>0.546</td></tr>\n",
              "\t<tr><td>⋮</td><td>⋮</td><td>⋮</td><td>⋮</td><td>⋮</td><td>⋮</td><td>⋮</td><td>⋮</td><td>⋮</td><td>⋮</td><td>⋱</td><td>⋮</td><td>⋮</td><td>⋮</td><td>⋮</td><td>⋮</td><td>⋮</td><td>⋮</td><td>⋮</td><td>⋮</td><td>⋮</td></tr>\n",
              "\t<tr><td>331</td><td>2017</td><td>11</td><td>32</td><td>4</td><td> 8</td><td>0</td><td>0</td><td>2</td><td>14</td><td>⋯</td><td>1</td><td>0</td><td>2</td><td>1</td><td>2</td><td>2</td><td>0.438</td><td>0.314</td><td>0</td><td>0.752</td></tr>\n",
              "\t<tr><td>331</td><td>2018</td><td> 6</td><td>15</td><td>3</td><td> 9</td><td>3</td><td>0</td><td>0</td><td>12</td><td>⋯</td><td>1</td><td>0</td><td>4</td><td>0</td><td>0</td><td>0</td><td>0.800</td><td>0.684</td><td>0</td><td>1.484</td></tr>\n",
              "\t<tr><td>332</td><td>2012</td><td> 9</td><td>15</td><td>0</td><td> 3</td><td>0</td><td>0</td><td>0</td><td> 3</td><td>⋯</td><td>0</td><td>0</td><td>0</td><td>2</td><td>5</td><td>0</td><td>0.200</td><td>0.294</td><td>0</td><td>0.494</td></tr>\n",
              "\t<tr><td>332</td><td>2013</td><td> 4</td><td> 8</td><td>0</td><td> 0</td><td>0</td><td>0</td><td>0</td><td> 0</td><td>⋯</td><td>0</td><td>0</td><td>0</td><td>0</td><td>3</td><td>0</td><td>0.000</td><td>0.000</td><td>0</td><td>0.000</td></tr>\n",
              "\t<tr><td>332</td><td>2014</td><td>12</td><td>20</td><td>2</td><td> 3</td><td>0</td><td>0</td><td>1</td><td> 6</td><td>⋯</td><td>0</td><td>0</td><td>2</td><td>0</td><td>4</td><td>2</td><td>0.300</td><td>0.227</td><td>2</td><td>0.527</td></tr>\n",
              "\t<tr><td>332</td><td>2016</td><td> 8</td><td>12</td><td>2</td><td> 3</td><td>2</td><td>0</td><td>0</td><td> 5</td><td>⋯</td><td>0</td><td>0</td><td>1</td><td>1</td><td>2</td><td>1</td><td>0.417</td><td>0.333</td><td>0</td><td>0.750</td></tr>\n",
              "\t<tr><td>332</td><td>2017</td><td> 7</td><td> 8</td><td>1</td><td> 3</td><td>2</td><td>0</td><td>0</td><td> 5</td><td>⋯</td><td>0</td><td>0</td><td>0</td><td>0</td><td>2</td><td>0</td><td>0.625</td><td>0.375</td><td>1</td><td>1.000</td></tr>\n",
              "\t<tr><td>332</td><td>2018</td><td> 4</td><td> 4</td><td>0</td><td> 0</td><td>0</td><td>0</td><td>0</td><td> 0</td><td>⋯</td><td>0</td><td>0</td><td>0</td><td>0</td><td>1</td><td>1</td><td>0.000</td><td>0.000</td><td>0</td><td>0.000</td></tr>\n",
              "\t<tr><td>334</td><td>2018</td><td> 6</td><td>16</td><td>3</td><td> 4</td><td>0</td><td>2</td><td>1</td><td>11</td><td>⋯</td><td>0</td><td>0</td><td>1</td><td>0</td><td>0</td><td>0</td><td>0.688</td><td>0.278</td><td>0</td><td>0.966</td></tr>\n",
              "\t<tr><td>337</td><td>2011</td><td> 8</td><td> 9</td><td>1</td><td> 1</td><td>0</td><td>0</td><td>0</td><td> 1</td><td>⋯</td><td>0</td><td>0</td><td>0</td><td>0</td><td>0</td><td>0</td><td>0.111</td><td>0.111</td><td>0</td><td>0.222</td></tr>\n",
              "\t<tr><td>337</td><td>2012</td><td>12</td><td>24</td><td>3</td><td> 6</td><td>0</td><td>0</td><td>1</td><td> 9</td><td>⋯</td><td>1</td><td>0</td><td>2</td><td>0</td><td>4</td><td>0</td><td>0.375</td><td>0.308</td><td>0</td><td>0.683</td></tr>\n",
              "\t<tr><td>337</td><td>2013</td><td>11</td><td>16</td><td>5</td><td> 7</td><td>1</td><td>1</td><td>0</td><td>10</td><td>⋯</td><td>0</td><td>0</td><td>2</td><td>0</td><td>1</td><td>1</td><td>0.625</td><td>0.500</td><td>1</td><td>1.125</td></tr>\n",
              "\t<tr><td>337</td><td>2017</td><td>11</td><td>13</td><td>3</td><td> 3</td><td>0</td><td>1</td><td>0</td><td> 5</td><td>⋯</td><td>0</td><td>0</td><td>1</td><td>0</td><td>2</td><td>0</td><td>0.385</td><td>0.286</td><td>0</td><td>0.671</td></tr>\n",
              "\t<tr><td>337</td><td>2018</td><td> 1</td><td> 3</td><td>0</td><td> 1</td><td>0</td><td>0</td><td>0</td><td> 1</td><td>⋯</td><td>0</td><td>0</td><td>0</td><td>0</td><td>0</td><td>0</td><td>0.333</td><td>0.333</td><td>0</td><td>0.666</td></tr>\n",
              "\t<tr><td>338</td><td>2016</td><td> 5</td><td> 5</td><td>0</td><td> 1</td><td>1</td><td>0</td><td>0</td><td> 2</td><td>⋯</td><td>1</td><td>0</td><td>2</td><td>0</td><td>1</td><td>0</td><td>0.400</td><td>0.429</td><td>1</td><td>0.829</td></tr>\n",
              "\t<tr><td>341</td><td>2015</td><td> 2</td><td> 0</td><td>0</td><td> 0</td><td>0</td><td>0</td><td>0</td><td> 0</td><td>⋯</td><td>0</td><td>0</td><td>0</td><td>0</td><td>0</td><td>0</td><td>   NA</td><td>   NA</td><td>0</td><td>   NA</td></tr>\n",
              "\t<tr><td>341</td><td>2016</td><td> 2</td><td> 1</td><td>0</td><td> 0</td><td>0</td><td>0</td><td>0</td><td> 0</td><td>⋯</td><td>0</td><td>0</td><td>0</td><td>0</td><td>0</td><td>0</td><td>0.000</td><td>0.000</td><td>1</td><td>0.000</td></tr>\n",
              "\t<tr><td>341</td><td>2017</td><td> 8</td><td> 3</td><td>2</td><td> 0</td><td>0</td><td>0</td><td>0</td><td> 0</td><td>⋯</td><td>0</td><td>0</td><td>0</td><td>0</td><td>0</td><td>0</td><td>0.000</td><td>0.000</td><td>0</td><td>0.000</td></tr>\n",
              "\t<tr><td>341</td><td>2018</td><td> 5</td><td> 2</td><td>1</td><td> 0</td><td>0</td><td>0</td><td>0</td><td> 0</td><td>⋯</td><td>0</td><td>0</td><td>0</td><td>0</td><td>0</td><td>0</td><td>0.000</td><td>0.000</td><td>0</td><td>0.000</td></tr>\n",
              "\t<tr><td>342</td><td>2008</td><td>11</td><td>28</td><td>0</td><td> 5</td><td>1</td><td>0</td><td>0</td><td> 6</td><td>⋯</td><td>1</td><td>1</td><td>0</td><td>0</td><td>4</td><td>0</td><td>0.214</td><td>0.179</td><td>2</td><td>0.393</td></tr>\n",
              "\t<tr><td>342</td><td>2009</td><td>11</td><td>31</td><td>4</td><td> 6</td><td>2</td><td>0</td><td>0</td><td> 8</td><td>⋯</td><td>1</td><td>1</td><td>2</td><td>0</td><td>5</td><td>0</td><td>0.258</td><td>0.242</td><td>1</td><td>0.500</td></tr>\n",
              "\t<tr><td>342</td><td>2010</td><td>12</td><td>46</td><td>4</td><td> 8</td><td>1</td><td>1</td><td>1</td><td>14</td><td>⋯</td><td>2</td><td>0</td><td>3</td><td>0</td><td>9</td><td>2</td><td>0.304</td><td>0.224</td><td>2</td><td>0.528</td></tr>\n",
              "\t<tr><td>342</td><td>2011</td><td>13</td><td>33</td><td>2</td><td> 5</td><td>1</td><td>1</td><td>0</td><td> 8</td><td>⋯</td><td>2</td><td>1</td><td>3</td><td>0</td><td>9</td><td>1</td><td>0.242</td><td>0.222</td><td>3</td><td>0.464</td></tr>\n",
              "\t<tr><td>342</td><td>2012</td><td>12</td><td>26</td><td>2</td><td> 4</td><td>2</td><td>0</td><td>1</td><td> 9</td><td>⋯</td><td>0</td><td>0</td><td>3</td><td>1</td><td>4</td><td>0</td><td>0.346</td><td>0.258</td><td>1</td><td>0.604</td></tr>\n",
              "\t<tr><td>342</td><td>2013</td><td>10</td><td>30</td><td>2</td><td> 6</td><td>0</td><td>0</td><td>1</td><td> 9</td><td>⋯</td><td>2</td><td>1</td><td>3</td><td>2</td><td>2</td><td>1</td><td>0.300</td><td>0.306</td><td>3</td><td>0.606</td></tr>\n",
              "\t<tr><td>342</td><td>2014</td><td>10</td><td>27</td><td>3</td><td>11</td><td>2</td><td>0</td><td>1</td><td>16</td><td>⋯</td><td>1</td><td>0</td><td>2</td><td>0</td><td>5</td><td>0</td><td>0.593</td><td>0.448</td><td>1</td><td>1.041</td></tr>\n",
              "\t<tr><td>342</td><td>2015</td><td>11</td><td>30</td><td>8</td><td>10</td><td>3</td><td>0</td><td>0</td><td>13</td><td>⋯</td><td>0</td><td>0</td><td>4</td><td>0</td><td>3</td><td>0</td><td>0.433</td><td>0.389</td><td>0</td><td>0.822</td></tr>\n",
              "\t<tr><td>342</td><td>2016</td><td>16</td><td>42</td><td>8</td><td>13</td><td>3</td><td>1</td><td>0</td><td>18</td><td>⋯</td><td>3</td><td>1</td><td>4</td><td>0</td><td>4</td><td>0</td><td>0.429</td><td>0.370</td><td>1</td><td>0.799</td></tr>\n",
              "\t<tr><td>342</td><td>2018</td><td> 6</td><td>16</td><td>3</td><td> 4</td><td>1</td><td>0</td><td>1</td><td> 8</td><td>⋯</td><td>0</td><td>0</td><td>2</td><td>0</td><td>6</td><td>0</td><td>0.500</td><td>0.333</td><td>3</td><td>0.833</td></tr>\n",
              "\t<tr><td>344</td><td>2014</td><td> 1</td><td> 1</td><td>1</td><td> 0</td><td>0</td><td>0</td><td>0</td><td> 0</td><td>⋯</td><td>0</td><td>0</td><td>0</td><td>0</td><td>1</td><td>0</td><td>0.000</td><td>0.000</td><td>0</td><td>0.000</td></tr>\n",
              "</tbody>\n",
              "</table>\n"
            ]
          },
          "metadata": {
            "tags": []
          }
        }
      ]
    },
    {
      "cell_type": "markdown",
      "metadata": {
        "id": "eJjFdm5ipcVq"
      },
      "source": [
        "### (2) DF에서 team이 \"두산\" 또는 \"한화\"이고 G가 10 이상인 모든 행(row) - filter\n"
      ]
    },
    {
      "cell_type": "code",
      "metadata": {
        "id": "-pbOl13rpkPx",
        "outputId": "afde3ad7-bc60-4e94-eb05-de173965700b",
        "colab": {
          "base_uri": "https://localhost:8080/",
          "height": 1000
        }
      },
      "source": [
        "## 답안 작성\n",
        "#\n",
        "DF %>% filter((team == '두산' | team == '한화') & G >= 10)"
      ],
      "execution_count": 29,
      "outputs": [
        {
          "output_type": "display_data",
          "data": {
            "text/plain": [
              "    batter_id batter_name year team avg   G   AB  R  H  2B ⋯ GDP SLG   OBP   E\n",
              "1     1       강경학      2015 한화 0.130 10   23  3  3  0 ⋯ 0   0.130 0.286 2\n",
              "2     1       강경학      2016 한화 0.188 14   32  4  6  1 ⋯ 0   0.281 0.212 0\n",
              "3     1       강경학      2017 한화 0.222 11   36 10  8  0 ⋯ 0   0.389 0.282 1\n",
              "4    69       김태완      2006 한화 0.200 10   15  0  3  0 ⋯ 1   0.200 0.278 0\n",
              "5    69       김태완      2008 한화 0.375 10   24  3  9  1 ⋯ 2   0.542 0.444 0\n",
              "6    69       김태완      2009 한화 0.320 10   25  5  8  3 ⋯ 1   0.560 0.452 1\n",
              "7    69       김태완      2014 한화 0.125 10   16  1  2  0 ⋯ 0   0.125 0.263 0\n",
              "8     8       강상원      2017 한화 0.000 10    1  4  0  0 ⋯ 0   0.000 0.500 0\n",
              "9   162       신성현      2016 한화 0.286 14   35  6 10  1 ⋯ 0   0.314 0.342 1\n",
              "10  162       신성현      2017 두산 0.324 10   34  7 11  2 ⋯ 0   0.471 0.395 0\n",
              "11   20       국해성      2015 두산 0.200 11   20  6  4  1 ⋯ 2   0.400 0.280 0\n",
              "12   20       국해성      2016 두산 0.278 58  151 28 42 11 ⋯ 1   0.430 0.368 1\n",
              "13   20       국해성      2017 두산 0.209 57   86 15 18  3 ⋯ 2   0.349 0.281 0\n",
              "14   20       국해성      2018 두산 0.333 14   24  4  8  3 ⋯ 1   0.458 0.429 0\n",
              "15   37       김민수      2014 한화 0.217 11   23  2  5  1 ⋯ 0   0.261 0.280 1\n",
              "16   57       김재호      2004 두산 0.286 13   21  2  6  0 ⋯ 0   0.286 0.286 1\n",
              "17   57       김재호      2005 두산 0.048 13   21  2  1  0 ⋯ 0   0.048 0.167 1\n",
              "18   57       김재호      2008 두산 0.207 10   29  3  6  1 ⋯ 2   0.241 0.303 1\n",
              "19   57       김재호      2009 두산 0.226 12   31  2  7  1 ⋯ 1   0.387 0.242 4\n",
              "20   57       김재호      2010 두산 0.300 11   10  2  3  2 ⋯ 0   0.500 0.429 0\n",
              "21   57       김재호      2011 두산 0.190 12   21  0  4  0 ⋯ 1   0.190 0.261 1\n",
              "22   57       김재호      2012 두산 0.000 10   12  0  0  0 ⋯ 0   0.000 0.077 0\n",
              "23   57       김재호      2014 두산 0.250 10   20  4  5  1 ⋯ 2   0.300 0.400 1\n",
              "24   57       김재호      2015 두산 0.259 11   27  3  7  1 ⋯ 1   0.296 0.355 1\n",
              "25   57       김재호      2016 두산 0.226 12   31  3  7  0 ⋯ 1   0.226 0.351 0\n",
              "26   58       김재환      2011 두산 0.222 11   27  4  6  2 ⋯ 1   0.407 0.267 0\n",
              "27   58       김재환      2015 두산 0.308 11   26  3  8  1 ⋯ 0   0.346 0.438 2\n",
              "28   58       김재환      2017 두산 0.217 11   23  3  5  1 ⋯ 0   0.391 0.387 0\n",
              "29   67       김태균      2002 한화 0.235 11   34  7  8  5 ⋯ 0   0.471 0.333 2\n",
              "30   67       김태균      2003 한화 0.115 10   26  2  3  1 ⋯ 0   0.154 0.303 1\n",
              "⋮   ⋮         ⋮           ⋮    ⋮    ⋮     ⋮   ⋮   ⋮  ⋮  ⋮  ⋱ ⋮   ⋮     ⋮     ⋮\n",
              "131 286       조수행      2016 두산 0.276  66  29 16  8 0  ⋯ 0   0.276 0.276 1\n",
              "132 286       조수행      2017 두산 0.277  80  47 17 13 2  ⋯ 0   0.319 0.346 1\n",
              "133 286       조수행      2018 두산 0.279 119 183 35 51 6  ⋯ 4   0.372 0.311 1\n",
              "134 295       지성준      2015 한화 0.192  12  26  3  5 0  ⋯ 1   0.192 0.364 1\n",
              "135 311       최윤석      2017 한화 0.059  10  17  1  1 0  ⋯ 2   0.059 0.105 3\n",
              "136 312       최재훈      2013 두산 0.250  10   8  1  2 0  ⋯ 0   0.250 0.400 0\n",
              "137 312       최재훈      2015 두산 0.182  12  11  1  2 1  ⋯ 1   0.273 0.412 0\n",
              "138 312       최재훈      2017 한화 0.400  11  20  6  8 0  ⋯ 1   0.400 0.538 0\n",
              "139 315       최주환      2012 두산 0.241  10  29  2  7 2  ⋯ 0   0.379 0.353 1\n",
              "140 315       최주환      2014 두산 0.353  10  17  3  6 1  ⋯ 2   0.529 0.421 0\n",
              "141 315       최주환      2015 두산 0.136  12  22  3  3 0  ⋯ 1   0.136 0.240 0\n",
              "142 315       최주환      2016 두산 0.378  15  45  5 17 4  ⋯ 2   0.467 0.378 2\n",
              "143 315       최주환      2017 두산 0.281  11  32  7  9 2  ⋯ 0   0.438 0.361 0\n",
              "144 316       최준석      2007 두산 0.242  10  33  4  8 1  ⋯ 2   0.455 0.359 0\n",
              "145 316       최준석      2011 두산 0.233  12  30  1  7 2  ⋯ 2   0.300 0.281 1\n",
              "146 317       최진행      2004 한화 0.333  10  12  1  4 1  ⋯ 0   0.417 0.385 2\n",
              "147 317       최진행      2009 한화 0.160  11  25  3  4 1  ⋯ 0   0.320 0.276 0\n",
              "148 317       최진행      2010 한화 0.242  10  33  4  8 3  ⋯ 1   0.424 0.419 0\n",
              "149 317       최진행      2013 한화 0.273  12  44  4 12 2  ⋯ 2   0.500 0.340 0\n",
              "150 317       최진행      2014 한화 0.292  10  24  1  7 0  ⋯ 1   0.292 0.514 0\n",
              "151 317       최진행      2015 한화 0.250  11  36  1  9 1  ⋯ 4   0.278 0.289 0\n",
              "152 317       최진행      2016 한화 0.146  15  41  7  6 0  ⋯ 0   0.366 0.286 0\n",
              "153 324       하주석      2012 한화 0.217  11  23  2  5 1  ⋯ 0   0.261 0.250 0\n",
              "154 329       한승택      2013 한화 0.267  10  15  0  4 1  ⋯ 0   0.333 0.421 1\n",
              "155 331       허경민      2012 두산 0.083  12  12  3  1 0  ⋯ 0   0.083 0.083 0\n",
              "156 331       허경민      2013 두산 0.423  11  26  3 11 3  ⋯ 0   0.538 0.414 0\n",
              "157 331       허경민      2014 두산 0.263  11  19  4  5 2  ⋯ 1   0.368 0.364 1\n",
              "158 331       허경민      2015 두산 0.250  12  16  2  4 1  ⋯ 0   0.313 0.250 1\n",
              "159 331       허경민      2016 두산 0.390  13  41  2 16 1  ⋯ 1   0.463 0.395 0\n",
              "160 331       허경민      2017 두산 0.250  11  32  4  8 0  ⋯ 2   0.438 0.314 0\n",
              "    height/weight year_born        position        \n",
              "1   180cm/72kg    1992년 08월 11일 내야수(우투좌타)\n",
              "2   180cm/72kg    1992년 08월 11일 내야수(우투좌타)\n",
              "3   180cm/72kg    1992년 08월 11일 내야수(우투좌타)\n",
              "4   189cm/105kg   1984년 01월 27일 내야수(우투우타)\n",
              "5   189cm/105kg   1984년 01월 27일 내야수(우투우타)\n",
              "6   189cm/105kg   1984년 01월 27일 내야수(우투우타)\n",
              "7   189cm/105kg   1984년 01월 27일 내야수(우투우타)\n",
              "8   172cm/64kg    1997년 05월 05일 외야수(우투좌타)\n",
              "9   183cm/92kg    1990년 10월 19일 내야수(우투우타)\n",
              "10  183cm/92kg    1990년 10월 19일 내야수(우투우타)\n",
              "11  180cm/94kg    1989년 10월 08일 외야수(우투양타)\n",
              "12  180cm/94kg    1989년 10월 08일 외야수(우투양타)\n",
              "13  180cm/94kg    1989년 10월 08일 외야수(우투양타)\n",
              "14  180cm/94kg    1989년 10월 08일 외야수(우투양타)\n",
              "15  177cm/80kg    1991년 03월 02일 포수(우투우타)  \n",
              "16  181cm/75kg    1985년 03월 21일 내야수(우투우타)\n",
              "17  181cm/75kg    1985년 03월 21일 내야수(우투우타)\n",
              "18  181cm/75kg    1985년 03월 21일 내야수(우투우타)\n",
              "19  181cm/75kg    1985년 03월 21일 내야수(우투우타)\n",
              "20  181cm/75kg    1985년 03월 21일 내야수(우투우타)\n",
              "21  181cm/75kg    1985년 03월 21일 내야수(우투우타)\n",
              "22  181cm/75kg    1985년 03월 21일 내야수(우투우타)\n",
              "23  181cm/75kg    1985년 03월 21일 내야수(우투우타)\n",
              "24  181cm/75kg    1985년 03월 21일 내야수(우투우타)\n",
              "25  181cm/75kg    1985년 03월 21일 내야수(우투우타)\n",
              "26  183cm/90kg    1988년 09월 22일 외야수(우투좌타)\n",
              "27  183cm/90kg    1988년 09월 22일 외야수(우투좌타)\n",
              "28  183cm/90kg    1988년 09월 22일 외야수(우투좌타)\n",
              "29  185cm/110kg   1982년 05월 29일 내야수(우투우타)\n",
              "30  185cm/110kg   1982년 05월 29일 내야수(우투우타)\n",
              "⋮   ⋮             ⋮                ⋮               \n",
              "131 178cm/73kg    1993년 08월 30일 외야수(우투좌타)\n",
              "132 178cm/73kg    1993년 08월 30일 외야수(우투좌타)\n",
              "133 178cm/73kg    1993년 08월 30일 외야수(우투좌타)\n",
              "134 180cm/92kg    1994년 04월 10일 포수(우투우타)  \n",
              "135 175cm/75kg    1987년 03월 28일 내야수(우투우타)\n",
              "136 178cm/76kg    1989년 08월 27일 포수(우투우타)  \n",
              "137 178cm/76kg    1989년 08월 27일 포수(우투우타)  \n",
              "138 178cm/76kg    1989년 08월 27일 포수(우투우타)  \n",
              "139 178cm/73kg    1988년 02월 28일 내야수(우투좌타)\n",
              "140 178cm/73kg    1988년 02월 28일 내야수(우투좌타)\n",
              "141 178cm/73kg    1988년 02월 28일 내야수(우투좌타)\n",
              "142 178cm/73kg    1988년 02월 28일 내야수(우투좌타)\n",
              "143 178cm/73kg    1988년 02월 28일 내야수(우투좌타)\n",
              "144 187cm/130kg   1983년 02월 15일 내야수(우투우타)\n",
              "145 187cm/130kg   1983년 02월 15일 내야수(우투우타)\n",
              "146 188cm/100kg   1985년 08월 17일 외야수(우투우타)\n",
              "147 188cm/100kg   1985년 08월 17일 외야수(우투우타)\n",
              "148 188cm/100kg   1985년 08월 17일 외야수(우투우타)\n",
              "149 188cm/100kg   1985년 08월 17일 외야수(우투우타)\n",
              "150 188cm/100kg   1985년 08월 17일 외야수(우투우타)\n",
              "151 188cm/100kg   1985년 08월 17일 외야수(우투우타)\n",
              "152 188cm/100kg   1985년 08월 17일 외야수(우투우타)\n",
              "153 184cm/84kg    1994년 02월 25일 내야수(우투좌타)\n",
              "154 174cm/83kg    1994년 06월 21일 포수(우투우타)  \n",
              "155 176cm/69kg    1990년 08월 26일 내야수(우투우타)\n",
              "156 176cm/69kg    1990년 08월 26일 내야수(우투우타)\n",
              "157 176cm/69kg    1990년 08월 26일 내야수(우투우타)\n",
              "158 176cm/69kg    1990년 08월 26일 내야수(우투우타)\n",
              "159 176cm/69kg    1990년 08월 26일 내야수(우투우타)\n",
              "160 176cm/69kg    1990년 08월 26일 내야수(우투우타)\n",
              "    career                                               starting_salary OPS  \n",
              "1   광주대성초-광주동성중-광주동성고                     10000만원       0.416\n",
              "2   광주대성초-광주동성중-광주동성고                     10000만원       0.493\n",
              "3   광주대성초-광주동성중-광주동성고                     10000만원       0.671\n",
              "4   양목초-신월중-중앙고-성균관대-한화                   11000만원       0.478\n",
              "5   양목초-신월중-중앙고-성균관대-한화                   11000만원       0.986\n",
              "6   양목초-신월중-중앙고-성균관대-한화                   11000만원       1.012\n",
              "7   양목초-신월중-중앙고-성균관대-한화                   11000만원       0.388\n",
              "8   온양온천초-온양중-북일고                             3000만원        0.500\n",
              "9   가동초-덕수중-일본 교토고쿠사이고-히로시마-한화                      0.656\n",
              "10  가동초-덕수중-일본 교토고쿠사이고-히로시마-한화                      0.866\n",
              "11  군산중앙초-동인천중-인천고                                           0.680\n",
              "12  군산중앙초-동인천중-인천고                                           0.798\n",
              "13  군산중앙초-동인천중-인천고                                           0.630\n",
              "14  군산중앙초-동인천중-인천고                                           0.887\n",
              "15  대구옥산초-경복중-대구상원고-영남대-한화-삼성-상무   11000만원       0.541\n",
              "16  남정초-중앙중-중앙고-두산-상무                       20000만원       0.572\n",
              "17  남정초-중앙중-중앙고-두산-상무                       20000만원       0.215\n",
              "18  남정초-중앙중-중앙고-두산-상무                       20000만원       0.544\n",
              "19  남정초-중앙중-중앙고-두산-상무                       20000만원       0.629\n",
              "20  남정초-중앙중-중앙고-두산-상무                       20000만원       0.929\n",
              "21  남정초-중앙중-중앙고-두산-상무                       20000만원       0.451\n",
              "22  남정초-중앙중-중앙고-두산-상무                       20000만원       0.077\n",
              "23  남정초-중앙중-중앙고-두산-상무                       20000만원       0.700\n",
              "24  남정초-중앙중-중앙고-두산-상무                       20000만원       0.651\n",
              "25  남정초-중앙중-중앙고-두산-상무                       20000만원       0.577\n",
              "26  영랑초-상인천중-인천고-두산-상무                     15000만원       0.674\n",
              "27  영랑초-상인천중-인천고-두산-상무                     15000만원       0.784\n",
              "28  영랑초-상인천중-인천고-두산-상무                     15000만원       0.778\n",
              "29  천안남산초-천안북중-북일고-(대전대)                  16000만원       0.804\n",
              "30  천안남산초-천안북중-북일고-(대전대)                  16000만원       0.457\n",
              "⋮   ⋮                                                    ⋮               ⋮    \n",
              "131 노암초-경포중-강릉고-건국대                          14000만원       0.552\n",
              "132 노암초-경포중-강릉고-건국대                          14000만원       0.665\n",
              "133 노암초-경포중-강릉고-건국대                          14000만원       0.683\n",
              "134 청주우암초-청주중-청주고                                             0.556\n",
              "135 화곡초-덕수중-성남고-홍익대-SK-한화-경찰             6000만원        0.164\n",
              "136 화곡초-덕수중-덕수고-(방송통신대)-두산-경찰-두산                     0.650\n",
              "137 화곡초-덕수중-덕수고-(방송통신대)-두산-경찰-두산                     0.685\n",
              "138 화곡초-덕수중-덕수고-(방송통신대)-두산-경찰-두산                     0.938\n",
              "139 학강초-광주동성중-광주동성고-두산-상무               6000만원        0.732\n",
              "140 학강초-광주동성중-광주동성고-두산-상무               6000만원        0.950\n",
              "141 학강초-광주동성중-광주동성고-두산-상무               6000만원        0.376\n",
              "142 학강초-광주동성중-광주동성고-두산-상무               6000만원        0.845\n",
              "143 학강초-광주동성중-광주동성고-두산-상무               6000만원        0.799\n",
              "144 칠성초-포철중-포철공고-(영남사이버대)-롯데-두산-롯데 3000만원        0.814\n",
              "145 칠성초-포철중-포철공고-(영남사이버대)-롯데-두산-롯데 3000만원        0.581\n",
              "146 서울동원초-청량중-덕수정보고-(우송대)-한화-경찰      10000만원       0.802\n",
              "147 서울동원초-청량중-덕수정보고-(우송대)-한화-경찰      10000만원       0.596\n",
              "148 서울동원초-청량중-덕수정보고-(우송대)-한화-경찰      10000만원       0.843\n",
              "149 서울동원초-청량중-덕수정보고-(우송대)-한화-경찰      10000만원       0.840\n",
              "150 서울동원초-청량중-덕수정보고-(우송대)-한화-경찰      10000만원       0.806\n",
              "151 서울동원초-청량중-덕수정보고-(우송대)-한화-경찰      10000만원       0.567\n",
              "152 서울동원초-청량중-덕수정보고-(우송대)-한화-경찰      10000만원       0.652\n",
              "153 강남초-덕수중-신일고-한화-상무                       30000만원       0.511\n",
              "154 잠전초(남양주리틀)-잠신중-덕수고-한화-경찰           9000만원        0.754\n",
              "155 송정동초-충장중-광주제일고-두산-경찰                 13000만원       0.166\n",
              "156 송정동초-충장중-광주제일고-두산-경찰                 13000만원       0.952\n",
              "157 송정동초-충장중-광주제일고-두산-경찰                 13000만원       0.732\n",
              "158 송정동초-충장중-광주제일고-두산-경찰                 13000만원       0.563\n",
              "159 송정동초-충장중-광주제일고-두산-경찰                 13000만원       0.858\n",
              "160 송정동초-충장중-광주제일고-두산-경찰                 13000만원       0.752"
            ],
            "text/latex": "A tibble: 160 × 29\n\\begin{tabular}{lllllllllllllllllllll}\n batter\\_id & batter\\_name & year & team & avg & G & AB & R & H & 2B & ⋯ & GDP & SLG & OBP & E & height/weight & year\\_born & position & career & starting\\_salary & OPS\\\\\n <int> & <chr> & <int> & <chr> & <chr> & <int> & <int> & <int> & <int> & <int> & ⋯ & <int> & <dbl> & <dbl> & <int> & <chr> & <chr> & <chr> & <chr> & <chr> & <dbl>\\\\\n\\hline\n\t   1 & 강경학 & 2015 & 한화 & 0.130 & 10 &  23 &  3 &  3 &  0 & ⋯ & 0 & 0.130 & 0.286 & 2 & 180cm/72kg  & 1992년 08월 11일 & 내야수(우투좌타) & 광주대성초-광주동성중-광주동성고                   & 10000만원 & 0.416\\\\\n\t   1 & 강경학 & 2016 & 한화 & 0.188 & 14 &  32 &  4 &  6 &  1 & ⋯ & 0 & 0.281 & 0.212 & 0 & 180cm/72kg  & 1992년 08월 11일 & 내야수(우투좌타) & 광주대성초-광주동성중-광주동성고                   & 10000만원 & 0.493\\\\\n\t   1 & 강경학 & 2017 & 한화 & 0.222 & 11 &  36 & 10 &  8 &  0 & ⋯ & 0 & 0.389 & 0.282 & 1 & 180cm/72kg  & 1992년 08월 11일 & 내야수(우투좌타) & 광주대성초-광주동성중-광주동성고                   & 10000만원 & 0.671\\\\\n\t  69 & 김태완 & 2006 & 한화 & 0.200 & 10 &  15 &  0 &  3 &  0 & ⋯ & 1 & 0.200 & 0.278 & 0 & 189cm/105kg & 1984년 01월 27일 & 내야수(우투우타) & 양목초-신월중-중앙고-성균관대-한화                 & 11000만원 & 0.478\\\\\n\t  69 & 김태완 & 2008 & 한화 & 0.375 & 10 &  24 &  3 &  9 &  1 & ⋯ & 2 & 0.542 & 0.444 & 0 & 189cm/105kg & 1984년 01월 27일 & 내야수(우투우타) & 양목초-신월중-중앙고-성균관대-한화                 & 11000만원 & 0.986\\\\\n\t  69 & 김태완 & 2009 & 한화 & 0.320 & 10 &  25 &  5 &  8 &  3 & ⋯ & 1 & 0.560 & 0.452 & 1 & 189cm/105kg & 1984년 01월 27일 & 내야수(우투우타) & 양목초-신월중-중앙고-성균관대-한화                 & 11000만원 & 1.012\\\\\n\t  69 & 김태완 & 2014 & 한화 & 0.125 & 10 &  16 &  1 &  2 &  0 & ⋯ & 0 & 0.125 & 0.263 & 0 & 189cm/105kg & 1984년 01월 27일 & 내야수(우투우타) & 양목초-신월중-중앙고-성균관대-한화                 & 11000만원 & 0.388\\\\\n\t   8 & 강상원 & 2017 & 한화 & 0.000 & 10 &   1 &  4 &  0 &  0 & ⋯ & 0 & 0.000 & 0.500 & 0 & 172cm/64kg  & 1997년 05월 05일 & 외야수(우투좌타) & 온양온천초-온양중-북일고                           & 3000만원  & 0.500\\\\\n\t 162 & 신성현 & 2016 & 한화 & 0.286 & 14 &  35 &  6 & 10 &  1 & ⋯ & 0 & 0.314 & 0.342 & 1 & 183cm/92kg  & 1990년 10월 19일 & 내야수(우투우타) & 가동초-덕수중-일본 교토고쿠사이고-히로시마-한화    &           & 0.656\\\\\n\t 162 & 신성현 & 2017 & 두산 & 0.324 & 10 &  34 &  7 & 11 &  2 & ⋯ & 0 & 0.471 & 0.395 & 0 & 183cm/92kg  & 1990년 10월 19일 & 내야수(우투우타) & 가동초-덕수중-일본 교토고쿠사이고-히로시마-한화    &           & 0.866\\\\\n\t  20 & 국해성 & 2015 & 두산 & 0.200 & 11 &  20 &  6 &  4 &  1 & ⋯ & 2 & 0.400 & 0.280 & 0 & 180cm/94kg  & 1989년 10월 08일 & 외야수(우투양타) & 군산중앙초-동인천중-인천고                         &           & 0.680\\\\\n\t  20 & 국해성 & 2016 & 두산 & 0.278 & 58 & 151 & 28 & 42 & 11 & ⋯ & 1 & 0.430 & 0.368 & 1 & 180cm/94kg  & 1989년 10월 08일 & 외야수(우투양타) & 군산중앙초-동인천중-인천고                         &           & 0.798\\\\\n\t  20 & 국해성 & 2017 & 두산 & 0.209 & 57 &  86 & 15 & 18 &  3 & ⋯ & 2 & 0.349 & 0.281 & 0 & 180cm/94kg  & 1989년 10월 08일 & 외야수(우투양타) & 군산중앙초-동인천중-인천고                         &           & 0.630\\\\\n\t  20 & 국해성 & 2018 & 두산 & 0.333 & 14 &  24 &  4 &  8 &  3 & ⋯ & 1 & 0.458 & 0.429 & 0 & 180cm/94kg  & 1989년 10월 08일 & 외야수(우투양타) & 군산중앙초-동인천중-인천고                         &           & 0.887\\\\\n\t  37 & 김민수 & 2014 & 한화 & 0.217 & 11 &  23 &  2 &  5 &  1 & ⋯ & 0 & 0.261 & 0.280 & 1 & 177cm/80kg  & 1991년 03월 02일 & 포수(우투우타)   & 대구옥산초-경복중-대구상원고-영남대-한화-삼성-상무 & 11000만원 & 0.541\\\\\n\t  57 & 김재호 & 2004 & 두산 & 0.286 & 13 &  21 &  2 &  6 &  0 & ⋯ & 0 & 0.286 & 0.286 & 1 & 181cm/75kg  & 1985년 03월 21일 & 내야수(우투우타) & 남정초-중앙중-중앙고-두산-상무                     & 20000만원 & 0.572\\\\\n\t  57 & 김재호 & 2005 & 두산 & 0.048 & 13 &  21 &  2 &  1 &  0 & ⋯ & 0 & 0.048 & 0.167 & 1 & 181cm/75kg  & 1985년 03월 21일 & 내야수(우투우타) & 남정초-중앙중-중앙고-두산-상무                     & 20000만원 & 0.215\\\\\n\t  57 & 김재호 & 2008 & 두산 & 0.207 & 10 &  29 &  3 &  6 &  1 & ⋯ & 2 & 0.241 & 0.303 & 1 & 181cm/75kg  & 1985년 03월 21일 & 내야수(우투우타) & 남정초-중앙중-중앙고-두산-상무                     & 20000만원 & 0.544\\\\\n\t  57 & 김재호 & 2009 & 두산 & 0.226 & 12 &  31 &  2 &  7 &  1 & ⋯ & 1 & 0.387 & 0.242 & 4 & 181cm/75kg  & 1985년 03월 21일 & 내야수(우투우타) & 남정초-중앙중-중앙고-두산-상무                     & 20000만원 & 0.629\\\\\n\t  57 & 김재호 & 2010 & 두산 & 0.300 & 11 &  10 &  2 &  3 &  2 & ⋯ & 0 & 0.500 & 0.429 & 0 & 181cm/75kg  & 1985년 03월 21일 & 내야수(우투우타) & 남정초-중앙중-중앙고-두산-상무                     & 20000만원 & 0.929\\\\\n\t  57 & 김재호 & 2011 & 두산 & 0.190 & 12 &  21 &  0 &  4 &  0 & ⋯ & 1 & 0.190 & 0.261 & 1 & 181cm/75kg  & 1985년 03월 21일 & 내야수(우투우타) & 남정초-중앙중-중앙고-두산-상무                     & 20000만원 & 0.451\\\\\n\t  57 & 김재호 & 2012 & 두산 & 0.000 & 10 &  12 &  0 &  0 &  0 & ⋯ & 0 & 0.000 & 0.077 & 0 & 181cm/75kg  & 1985년 03월 21일 & 내야수(우투우타) & 남정초-중앙중-중앙고-두산-상무                     & 20000만원 & 0.077\\\\\n\t  57 & 김재호 & 2014 & 두산 & 0.250 & 10 &  20 &  4 &  5 &  1 & ⋯ & 2 & 0.300 & 0.400 & 1 & 181cm/75kg  & 1985년 03월 21일 & 내야수(우투우타) & 남정초-중앙중-중앙고-두산-상무                     & 20000만원 & 0.700\\\\\n\t  57 & 김재호 & 2015 & 두산 & 0.259 & 11 &  27 &  3 &  7 &  1 & ⋯ & 1 & 0.296 & 0.355 & 1 & 181cm/75kg  & 1985년 03월 21일 & 내야수(우투우타) & 남정초-중앙중-중앙고-두산-상무                     & 20000만원 & 0.651\\\\\n\t  57 & 김재호 & 2016 & 두산 & 0.226 & 12 &  31 &  3 &  7 &  0 & ⋯ & 1 & 0.226 & 0.351 & 0 & 181cm/75kg  & 1985년 03월 21일 & 내야수(우투우타) & 남정초-중앙중-중앙고-두산-상무                     & 20000만원 & 0.577\\\\\n\t  58 & 김재환 & 2011 & 두산 & 0.222 & 11 &  27 &  4 &  6 &  2 & ⋯ & 1 & 0.407 & 0.267 & 0 & 183cm/90kg  & 1988년 09월 22일 & 외야수(우투좌타) & 영랑초-상인천중-인천고-두산-상무                   & 15000만원 & 0.674\\\\\n\t  58 & 김재환 & 2015 & 두산 & 0.308 & 11 &  26 &  3 &  8 &  1 & ⋯ & 0 & 0.346 & 0.438 & 2 & 183cm/90kg  & 1988년 09월 22일 & 외야수(우투좌타) & 영랑초-상인천중-인천고-두산-상무                   & 15000만원 & 0.784\\\\\n\t  58 & 김재환 & 2017 & 두산 & 0.217 & 11 &  23 &  3 &  5 &  1 & ⋯ & 0 & 0.391 & 0.387 & 0 & 183cm/90kg  & 1988년 09월 22일 & 외야수(우투좌타) & 영랑초-상인천중-인천고-두산-상무                   & 15000만원 & 0.778\\\\\n\t  67 & 김태균 & 2002 & 한화 & 0.235 & 11 &  34 &  7 &  8 &  5 & ⋯ & 0 & 0.471 & 0.333 & 2 & 185cm/110kg & 1982년 05월 29일 & 내야수(우투우타) & 천안남산초-천안북중-북일고-(대전대)                & 16000만원 & 0.804\\\\\n\t  67 & 김태균 & 2003 & 한화 & 0.115 & 10 &  26 &  2 &  3 &  1 & ⋯ & 0 & 0.154 & 0.303 & 1 & 185cm/110kg & 1982년 05월 29일 & 내야수(우투우타) & 천안남산초-천안북중-북일고-(대전대)                & 16000만원 & 0.457\\\\\n\t ⋮ & ⋮ & ⋮ & ⋮ & ⋮ & ⋮ & ⋮ & ⋮ & ⋮ & ⋮ & ⋱ & ⋮ & ⋮ & ⋮ & ⋮ & ⋮ & ⋮ & ⋮ & ⋮ & ⋮ & ⋮\\\\\n\t 286 & 조수행 & 2016 & 두산 & 0.276 &  66 &  29 & 16 &  8 & 0 & ⋯ & 0 & 0.276 & 0.276 & 1 & 178cm/73kg  & 1993년 08월 30일 & 외야수(우투좌타) & 노암초-경포중-강릉고-건국대                          & 14000만원 & 0.552\\\\\n\t 286 & 조수행 & 2017 & 두산 & 0.277 &  80 &  47 & 17 & 13 & 2 & ⋯ & 0 & 0.319 & 0.346 & 1 & 178cm/73kg  & 1993년 08월 30일 & 외야수(우투좌타) & 노암초-경포중-강릉고-건국대                          & 14000만원 & 0.665\\\\\n\t 286 & 조수행 & 2018 & 두산 & 0.279 & 119 & 183 & 35 & 51 & 6 & ⋯ & 4 & 0.372 & 0.311 & 1 & 178cm/73kg  & 1993년 08월 30일 & 외야수(우투좌타) & 노암초-경포중-강릉고-건국대                          & 14000만원 & 0.683\\\\\n\t 295 & 지성준 & 2015 & 한화 & 0.192 &  12 &  26 &  3 &  5 & 0 & ⋯ & 1 & 0.192 & 0.364 & 1 & 180cm/92kg  & 1994년 04월 10일 & 포수(우투우타)   & 청주우암초-청주중-청주고                             &           & 0.556\\\\\n\t 311 & 최윤석 & 2017 & 한화 & 0.059 &  10 &  17 &  1 &  1 & 0 & ⋯ & 2 & 0.059 & 0.105 & 3 & 175cm/75kg  & 1987년 03월 28일 & 내야수(우투우타) & 화곡초-덕수중-성남고-홍익대-SK-한화-경찰             & 6000만원  & 0.164\\\\\n\t 312 & 최재훈 & 2013 & 두산 & 0.250 &  10 &   8 &  1 &  2 & 0 & ⋯ & 0 & 0.250 & 0.400 & 0 & 178cm/76kg  & 1989년 08월 27일 & 포수(우투우타)   & 화곡초-덕수중-덕수고-(방송통신대)-두산-경찰-두산     &           & 0.650\\\\\n\t 312 & 최재훈 & 2015 & 두산 & 0.182 &  12 &  11 &  1 &  2 & 1 & ⋯ & 1 & 0.273 & 0.412 & 0 & 178cm/76kg  & 1989년 08월 27일 & 포수(우투우타)   & 화곡초-덕수중-덕수고-(방송통신대)-두산-경찰-두산     &           & 0.685\\\\\n\t 312 & 최재훈 & 2017 & 한화 & 0.400 &  11 &  20 &  6 &  8 & 0 & ⋯ & 1 & 0.400 & 0.538 & 0 & 178cm/76kg  & 1989년 08월 27일 & 포수(우투우타)   & 화곡초-덕수중-덕수고-(방송통신대)-두산-경찰-두산     &           & 0.938\\\\\n\t 315 & 최주환 & 2012 & 두산 & 0.241 &  10 &  29 &  2 &  7 & 2 & ⋯ & 0 & 0.379 & 0.353 & 1 & 178cm/73kg  & 1988년 02월 28일 & 내야수(우투좌타) & 학강초-광주동성중-광주동성고-두산-상무               & 6000만원  & 0.732\\\\\n\t 315 & 최주환 & 2014 & 두산 & 0.353 &  10 &  17 &  3 &  6 & 1 & ⋯ & 2 & 0.529 & 0.421 & 0 & 178cm/73kg  & 1988년 02월 28일 & 내야수(우투좌타) & 학강초-광주동성중-광주동성고-두산-상무               & 6000만원  & 0.950\\\\\n\t 315 & 최주환 & 2015 & 두산 & 0.136 &  12 &  22 &  3 &  3 & 0 & ⋯ & 1 & 0.136 & 0.240 & 0 & 178cm/73kg  & 1988년 02월 28일 & 내야수(우투좌타) & 학강초-광주동성중-광주동성고-두산-상무               & 6000만원  & 0.376\\\\\n\t 315 & 최주환 & 2016 & 두산 & 0.378 &  15 &  45 &  5 & 17 & 4 & ⋯ & 2 & 0.467 & 0.378 & 2 & 178cm/73kg  & 1988년 02월 28일 & 내야수(우투좌타) & 학강초-광주동성중-광주동성고-두산-상무               & 6000만원  & 0.845\\\\\n\t 315 & 최주환 & 2017 & 두산 & 0.281 &  11 &  32 &  7 &  9 & 2 & ⋯ & 0 & 0.438 & 0.361 & 0 & 178cm/73kg  & 1988년 02월 28일 & 내야수(우투좌타) & 학강초-광주동성중-광주동성고-두산-상무               & 6000만원  & 0.799\\\\\n\t 316 & 최준석 & 2007 & 두산 & 0.242 &  10 &  33 &  4 &  8 & 1 & ⋯ & 2 & 0.455 & 0.359 & 0 & 187cm/130kg & 1983년 02월 15일 & 내야수(우투우타) & 칠성초-포철중-포철공고-(영남사이버대)-롯데-두산-롯데 & 3000만원  & 0.814\\\\\n\t 316 & 최준석 & 2011 & 두산 & 0.233 &  12 &  30 &  1 &  7 & 2 & ⋯ & 2 & 0.300 & 0.281 & 1 & 187cm/130kg & 1983년 02월 15일 & 내야수(우투우타) & 칠성초-포철중-포철공고-(영남사이버대)-롯데-두산-롯데 & 3000만원  & 0.581\\\\\n\t 317 & 최진행 & 2004 & 한화 & 0.333 &  10 &  12 &  1 &  4 & 1 & ⋯ & 0 & 0.417 & 0.385 & 2 & 188cm/100kg & 1985년 08월 17일 & 외야수(우투우타) & 서울동원초-청량중-덕수정보고-(우송대)-한화-경찰      & 10000만원 & 0.802\\\\\n\t 317 & 최진행 & 2009 & 한화 & 0.160 &  11 &  25 &  3 &  4 & 1 & ⋯ & 0 & 0.320 & 0.276 & 0 & 188cm/100kg & 1985년 08월 17일 & 외야수(우투우타) & 서울동원초-청량중-덕수정보고-(우송대)-한화-경찰      & 10000만원 & 0.596\\\\\n\t 317 & 최진행 & 2010 & 한화 & 0.242 &  10 &  33 &  4 &  8 & 3 & ⋯ & 1 & 0.424 & 0.419 & 0 & 188cm/100kg & 1985년 08월 17일 & 외야수(우투우타) & 서울동원초-청량중-덕수정보고-(우송대)-한화-경찰      & 10000만원 & 0.843\\\\\n\t 317 & 최진행 & 2013 & 한화 & 0.273 &  12 &  44 &  4 & 12 & 2 & ⋯ & 2 & 0.500 & 0.340 & 0 & 188cm/100kg & 1985년 08월 17일 & 외야수(우투우타) & 서울동원초-청량중-덕수정보고-(우송대)-한화-경찰      & 10000만원 & 0.840\\\\\n\t 317 & 최진행 & 2014 & 한화 & 0.292 &  10 &  24 &  1 &  7 & 0 & ⋯ & 1 & 0.292 & 0.514 & 0 & 188cm/100kg & 1985년 08월 17일 & 외야수(우투우타) & 서울동원초-청량중-덕수정보고-(우송대)-한화-경찰      & 10000만원 & 0.806\\\\\n\t 317 & 최진행 & 2015 & 한화 & 0.250 &  11 &  36 &  1 &  9 & 1 & ⋯ & 4 & 0.278 & 0.289 & 0 & 188cm/100kg & 1985년 08월 17일 & 외야수(우투우타) & 서울동원초-청량중-덕수정보고-(우송대)-한화-경찰      & 10000만원 & 0.567\\\\\n\t 317 & 최진행 & 2016 & 한화 & 0.146 &  15 &  41 &  7 &  6 & 0 & ⋯ & 0 & 0.366 & 0.286 & 0 & 188cm/100kg & 1985년 08월 17일 & 외야수(우투우타) & 서울동원초-청량중-덕수정보고-(우송대)-한화-경찰      & 10000만원 & 0.652\\\\\n\t 324 & 하주석 & 2012 & 한화 & 0.217 &  11 &  23 &  2 &  5 & 1 & ⋯ & 0 & 0.261 & 0.250 & 0 & 184cm/84kg  & 1994년 02월 25일 & 내야수(우투좌타) & 강남초-덕수중-신일고-한화-상무                       & 30000만원 & 0.511\\\\\n\t 329 & 한승택 & 2013 & 한화 & 0.267 &  10 &  15 &  0 &  4 & 1 & ⋯ & 0 & 0.333 & 0.421 & 1 & 174cm/83kg  & 1994년 06월 21일 & 포수(우투우타)   & 잠전초(남양주리틀)-잠신중-덕수고-한화-경찰           & 9000만원  & 0.754\\\\\n\t 331 & 허경민 & 2012 & 두산 & 0.083 &  12 &  12 &  3 &  1 & 0 & ⋯ & 0 & 0.083 & 0.083 & 0 & 176cm/69kg  & 1990년 08월 26일 & 내야수(우투우타) & 송정동초-충장중-광주제일고-두산-경찰                 & 13000만원 & 0.166\\\\\n\t 331 & 허경민 & 2013 & 두산 & 0.423 &  11 &  26 &  3 & 11 & 3 & ⋯ & 0 & 0.538 & 0.414 & 0 & 176cm/69kg  & 1990년 08월 26일 & 내야수(우투우타) & 송정동초-충장중-광주제일고-두산-경찰                 & 13000만원 & 0.952\\\\\n\t 331 & 허경민 & 2014 & 두산 & 0.263 &  11 &  19 &  4 &  5 & 2 & ⋯ & 1 & 0.368 & 0.364 & 1 & 176cm/69kg  & 1990년 08월 26일 & 내야수(우투우타) & 송정동초-충장중-광주제일고-두산-경찰                 & 13000만원 & 0.732\\\\\n\t 331 & 허경민 & 2015 & 두산 & 0.250 &  12 &  16 &  2 &  4 & 1 & ⋯ & 0 & 0.313 & 0.250 & 1 & 176cm/69kg  & 1990년 08월 26일 & 내야수(우투우타) & 송정동초-충장중-광주제일고-두산-경찰                 & 13000만원 & 0.563\\\\\n\t 331 & 허경민 & 2016 & 두산 & 0.390 &  13 &  41 &  2 & 16 & 1 & ⋯ & 1 & 0.463 & 0.395 & 0 & 176cm/69kg  & 1990년 08월 26일 & 내야수(우투우타) & 송정동초-충장중-광주제일고-두산-경찰                 & 13000만원 & 0.858\\\\\n\t 331 & 허경민 & 2017 & 두산 & 0.250 &  11 &  32 &  4 &  8 & 0 & ⋯ & 2 & 0.438 & 0.314 & 0 & 176cm/69kg  & 1990년 08월 26일 & 내야수(우투우타) & 송정동초-충장중-광주제일고-두산-경찰                 & 13000만원 & 0.752\\\\\n\\end{tabular}\n",
            "text/markdown": "\nA tibble: 160 × 29\n\n| batter_id &lt;int&gt; | batter_name &lt;chr&gt; | year &lt;int&gt; | team &lt;chr&gt; | avg &lt;chr&gt; | G &lt;int&gt; | AB &lt;int&gt; | R &lt;int&gt; | H &lt;int&gt; | 2B &lt;int&gt; | ⋯ ⋯ | GDP &lt;int&gt; | SLG &lt;dbl&gt; | OBP &lt;dbl&gt; | E &lt;int&gt; | height/weight &lt;chr&gt; | year_born &lt;chr&gt; | position &lt;chr&gt; | career &lt;chr&gt; | starting_salary &lt;chr&gt; | OPS &lt;dbl&gt; |\n|---|---|---|---|---|---|---|---|---|---|---|---|---|---|---|---|---|---|---|---|---|\n|   1 | 강경학 | 2015 | 한화 | 0.130 | 10 |  23 |  3 |  3 |  0 | ⋯ | 0 | 0.130 | 0.286 | 2 | 180cm/72kg  | 1992년 08월 11일 | 내야수(우투좌타) | 광주대성초-광주동성중-광주동성고                   | 10000만원 | 0.416 |\n|   1 | 강경학 | 2016 | 한화 | 0.188 | 14 |  32 |  4 |  6 |  1 | ⋯ | 0 | 0.281 | 0.212 | 0 | 180cm/72kg  | 1992년 08월 11일 | 내야수(우투좌타) | 광주대성초-광주동성중-광주동성고                   | 10000만원 | 0.493 |\n|   1 | 강경학 | 2017 | 한화 | 0.222 | 11 |  36 | 10 |  8 |  0 | ⋯ | 0 | 0.389 | 0.282 | 1 | 180cm/72kg  | 1992년 08월 11일 | 내야수(우투좌타) | 광주대성초-광주동성중-광주동성고                   | 10000만원 | 0.671 |\n|  69 | 김태완 | 2006 | 한화 | 0.200 | 10 |  15 |  0 |  3 |  0 | ⋯ | 1 | 0.200 | 0.278 | 0 | 189cm/105kg | 1984년 01월 27일 | 내야수(우투우타) | 양목초-신월중-중앙고-성균관대-한화                 | 11000만원 | 0.478 |\n|  69 | 김태완 | 2008 | 한화 | 0.375 | 10 |  24 |  3 |  9 |  1 | ⋯ | 2 | 0.542 | 0.444 | 0 | 189cm/105kg | 1984년 01월 27일 | 내야수(우투우타) | 양목초-신월중-중앙고-성균관대-한화                 | 11000만원 | 0.986 |\n|  69 | 김태완 | 2009 | 한화 | 0.320 | 10 |  25 |  5 |  8 |  3 | ⋯ | 1 | 0.560 | 0.452 | 1 | 189cm/105kg | 1984년 01월 27일 | 내야수(우투우타) | 양목초-신월중-중앙고-성균관대-한화                 | 11000만원 | 1.012 |\n|  69 | 김태완 | 2014 | 한화 | 0.125 | 10 |  16 |  1 |  2 |  0 | ⋯ | 0 | 0.125 | 0.263 | 0 | 189cm/105kg | 1984년 01월 27일 | 내야수(우투우타) | 양목초-신월중-중앙고-성균관대-한화                 | 11000만원 | 0.388 |\n|   8 | 강상원 | 2017 | 한화 | 0.000 | 10 |   1 |  4 |  0 |  0 | ⋯ | 0 | 0.000 | 0.500 | 0 | 172cm/64kg  | 1997년 05월 05일 | 외야수(우투좌타) | 온양온천초-온양중-북일고                           | 3000만원  | 0.500 |\n| 162 | 신성현 | 2016 | 한화 | 0.286 | 14 |  35 |  6 | 10 |  1 | ⋯ | 0 | 0.314 | 0.342 | 1 | 183cm/92kg  | 1990년 10월 19일 | 내야수(우투우타) | 가동초-덕수중-일본 교토고쿠사이고-히로시마-한화    | <!----> | 0.656 |\n| 162 | 신성현 | 2017 | 두산 | 0.324 | 10 |  34 |  7 | 11 |  2 | ⋯ | 0 | 0.471 | 0.395 | 0 | 183cm/92kg  | 1990년 10월 19일 | 내야수(우투우타) | 가동초-덕수중-일본 교토고쿠사이고-히로시마-한화    | <!----> | 0.866 |\n|  20 | 국해성 | 2015 | 두산 | 0.200 | 11 |  20 |  6 |  4 |  1 | ⋯ | 2 | 0.400 | 0.280 | 0 | 180cm/94kg  | 1989년 10월 08일 | 외야수(우투양타) | 군산중앙초-동인천중-인천고                         | <!----> | 0.680 |\n|  20 | 국해성 | 2016 | 두산 | 0.278 | 58 | 151 | 28 | 42 | 11 | ⋯ | 1 | 0.430 | 0.368 | 1 | 180cm/94kg  | 1989년 10월 08일 | 외야수(우투양타) | 군산중앙초-동인천중-인천고                         | <!----> | 0.798 |\n|  20 | 국해성 | 2017 | 두산 | 0.209 | 57 |  86 | 15 | 18 |  3 | ⋯ | 2 | 0.349 | 0.281 | 0 | 180cm/94kg  | 1989년 10월 08일 | 외야수(우투양타) | 군산중앙초-동인천중-인천고                         | <!----> | 0.630 |\n|  20 | 국해성 | 2018 | 두산 | 0.333 | 14 |  24 |  4 |  8 |  3 | ⋯ | 1 | 0.458 | 0.429 | 0 | 180cm/94kg  | 1989년 10월 08일 | 외야수(우투양타) | 군산중앙초-동인천중-인천고                         | <!----> | 0.887 |\n|  37 | 김민수 | 2014 | 한화 | 0.217 | 11 |  23 |  2 |  5 |  1 | ⋯ | 0 | 0.261 | 0.280 | 1 | 177cm/80kg  | 1991년 03월 02일 | 포수(우투우타)   | 대구옥산초-경복중-대구상원고-영남대-한화-삼성-상무 | 11000만원 | 0.541 |\n|  57 | 김재호 | 2004 | 두산 | 0.286 | 13 |  21 |  2 |  6 |  0 | ⋯ | 0 | 0.286 | 0.286 | 1 | 181cm/75kg  | 1985년 03월 21일 | 내야수(우투우타) | 남정초-중앙중-중앙고-두산-상무                     | 20000만원 | 0.572 |\n|  57 | 김재호 | 2005 | 두산 | 0.048 | 13 |  21 |  2 |  1 |  0 | ⋯ | 0 | 0.048 | 0.167 | 1 | 181cm/75kg  | 1985년 03월 21일 | 내야수(우투우타) | 남정초-중앙중-중앙고-두산-상무                     | 20000만원 | 0.215 |\n|  57 | 김재호 | 2008 | 두산 | 0.207 | 10 |  29 |  3 |  6 |  1 | ⋯ | 2 | 0.241 | 0.303 | 1 | 181cm/75kg  | 1985년 03월 21일 | 내야수(우투우타) | 남정초-중앙중-중앙고-두산-상무                     | 20000만원 | 0.544 |\n|  57 | 김재호 | 2009 | 두산 | 0.226 | 12 |  31 |  2 |  7 |  1 | ⋯ | 1 | 0.387 | 0.242 | 4 | 181cm/75kg  | 1985년 03월 21일 | 내야수(우투우타) | 남정초-중앙중-중앙고-두산-상무                     | 20000만원 | 0.629 |\n|  57 | 김재호 | 2010 | 두산 | 0.300 | 11 |  10 |  2 |  3 |  2 | ⋯ | 0 | 0.500 | 0.429 | 0 | 181cm/75kg  | 1985년 03월 21일 | 내야수(우투우타) | 남정초-중앙중-중앙고-두산-상무                     | 20000만원 | 0.929 |\n|  57 | 김재호 | 2011 | 두산 | 0.190 | 12 |  21 |  0 |  4 |  0 | ⋯ | 1 | 0.190 | 0.261 | 1 | 181cm/75kg  | 1985년 03월 21일 | 내야수(우투우타) | 남정초-중앙중-중앙고-두산-상무                     | 20000만원 | 0.451 |\n|  57 | 김재호 | 2012 | 두산 | 0.000 | 10 |  12 |  0 |  0 |  0 | ⋯ | 0 | 0.000 | 0.077 | 0 | 181cm/75kg  | 1985년 03월 21일 | 내야수(우투우타) | 남정초-중앙중-중앙고-두산-상무                     | 20000만원 | 0.077 |\n|  57 | 김재호 | 2014 | 두산 | 0.250 | 10 |  20 |  4 |  5 |  1 | ⋯ | 2 | 0.300 | 0.400 | 1 | 181cm/75kg  | 1985년 03월 21일 | 내야수(우투우타) | 남정초-중앙중-중앙고-두산-상무                     | 20000만원 | 0.700 |\n|  57 | 김재호 | 2015 | 두산 | 0.259 | 11 |  27 |  3 |  7 |  1 | ⋯ | 1 | 0.296 | 0.355 | 1 | 181cm/75kg  | 1985년 03월 21일 | 내야수(우투우타) | 남정초-중앙중-중앙고-두산-상무                     | 20000만원 | 0.651 |\n|  57 | 김재호 | 2016 | 두산 | 0.226 | 12 |  31 |  3 |  7 |  0 | ⋯ | 1 | 0.226 | 0.351 | 0 | 181cm/75kg  | 1985년 03월 21일 | 내야수(우투우타) | 남정초-중앙중-중앙고-두산-상무                     | 20000만원 | 0.577 |\n|  58 | 김재환 | 2011 | 두산 | 0.222 | 11 |  27 |  4 |  6 |  2 | ⋯ | 1 | 0.407 | 0.267 | 0 | 183cm/90kg  | 1988년 09월 22일 | 외야수(우투좌타) | 영랑초-상인천중-인천고-두산-상무                   | 15000만원 | 0.674 |\n|  58 | 김재환 | 2015 | 두산 | 0.308 | 11 |  26 |  3 |  8 |  1 | ⋯ | 0 | 0.346 | 0.438 | 2 | 183cm/90kg  | 1988년 09월 22일 | 외야수(우투좌타) | 영랑초-상인천중-인천고-두산-상무                   | 15000만원 | 0.784 |\n|  58 | 김재환 | 2017 | 두산 | 0.217 | 11 |  23 |  3 |  5 |  1 | ⋯ | 0 | 0.391 | 0.387 | 0 | 183cm/90kg  | 1988년 09월 22일 | 외야수(우투좌타) | 영랑초-상인천중-인천고-두산-상무                   | 15000만원 | 0.778 |\n|  67 | 김태균 | 2002 | 한화 | 0.235 | 11 |  34 |  7 |  8 |  5 | ⋯ | 0 | 0.471 | 0.333 | 2 | 185cm/110kg | 1982년 05월 29일 | 내야수(우투우타) | 천안남산초-천안북중-북일고-(대전대)                | 16000만원 | 0.804 |\n|  67 | 김태균 | 2003 | 한화 | 0.115 | 10 |  26 |  2 |  3 |  1 | ⋯ | 0 | 0.154 | 0.303 | 1 | 185cm/110kg | 1982년 05월 29일 | 내야수(우투우타) | 천안남산초-천안북중-북일고-(대전대)                | 16000만원 | 0.457 |\n| ⋮ | ⋮ | ⋮ | ⋮ | ⋮ | ⋮ | ⋮ | ⋮ | ⋮ | ⋮ | ⋱ | ⋮ | ⋮ | ⋮ | ⋮ | ⋮ | ⋮ | ⋮ | ⋮ | ⋮ | ⋮ |\n| 286 | 조수행 | 2016 | 두산 | 0.276 |  66 |  29 | 16 |  8 | 0 | ⋯ | 0 | 0.276 | 0.276 | 1 | 178cm/73kg  | 1993년 08월 30일 | 외야수(우투좌타) | 노암초-경포중-강릉고-건국대                          | 14000만원 | 0.552 |\n| 286 | 조수행 | 2017 | 두산 | 0.277 |  80 |  47 | 17 | 13 | 2 | ⋯ | 0 | 0.319 | 0.346 | 1 | 178cm/73kg  | 1993년 08월 30일 | 외야수(우투좌타) | 노암초-경포중-강릉고-건국대                          | 14000만원 | 0.665 |\n| 286 | 조수행 | 2018 | 두산 | 0.279 | 119 | 183 | 35 | 51 | 6 | ⋯ | 4 | 0.372 | 0.311 | 1 | 178cm/73kg  | 1993년 08월 30일 | 외야수(우투좌타) | 노암초-경포중-강릉고-건국대                          | 14000만원 | 0.683 |\n| 295 | 지성준 | 2015 | 한화 | 0.192 |  12 |  26 |  3 |  5 | 0 | ⋯ | 1 | 0.192 | 0.364 | 1 | 180cm/92kg  | 1994년 04월 10일 | 포수(우투우타)   | 청주우암초-청주중-청주고                             | <!----> | 0.556 |\n| 311 | 최윤석 | 2017 | 한화 | 0.059 |  10 |  17 |  1 |  1 | 0 | ⋯ | 2 | 0.059 | 0.105 | 3 | 175cm/75kg  | 1987년 03월 28일 | 내야수(우투우타) | 화곡초-덕수중-성남고-홍익대-SK-한화-경찰             | 6000만원  | 0.164 |\n| 312 | 최재훈 | 2013 | 두산 | 0.250 |  10 |   8 |  1 |  2 | 0 | ⋯ | 0 | 0.250 | 0.400 | 0 | 178cm/76kg  | 1989년 08월 27일 | 포수(우투우타)   | 화곡초-덕수중-덕수고-(방송통신대)-두산-경찰-두산     | <!----> | 0.650 |\n| 312 | 최재훈 | 2015 | 두산 | 0.182 |  12 |  11 |  1 |  2 | 1 | ⋯ | 1 | 0.273 | 0.412 | 0 | 178cm/76kg  | 1989년 08월 27일 | 포수(우투우타)   | 화곡초-덕수중-덕수고-(방송통신대)-두산-경찰-두산     | <!----> | 0.685 |\n| 312 | 최재훈 | 2017 | 한화 | 0.400 |  11 |  20 |  6 |  8 | 0 | ⋯ | 1 | 0.400 | 0.538 | 0 | 178cm/76kg  | 1989년 08월 27일 | 포수(우투우타)   | 화곡초-덕수중-덕수고-(방송통신대)-두산-경찰-두산     | <!----> | 0.938 |\n| 315 | 최주환 | 2012 | 두산 | 0.241 |  10 |  29 |  2 |  7 | 2 | ⋯ | 0 | 0.379 | 0.353 | 1 | 178cm/73kg  | 1988년 02월 28일 | 내야수(우투좌타) | 학강초-광주동성중-광주동성고-두산-상무               | 6000만원  | 0.732 |\n| 315 | 최주환 | 2014 | 두산 | 0.353 |  10 |  17 |  3 |  6 | 1 | ⋯ | 2 | 0.529 | 0.421 | 0 | 178cm/73kg  | 1988년 02월 28일 | 내야수(우투좌타) | 학강초-광주동성중-광주동성고-두산-상무               | 6000만원  | 0.950 |\n| 315 | 최주환 | 2015 | 두산 | 0.136 |  12 |  22 |  3 |  3 | 0 | ⋯ | 1 | 0.136 | 0.240 | 0 | 178cm/73kg  | 1988년 02월 28일 | 내야수(우투좌타) | 학강초-광주동성중-광주동성고-두산-상무               | 6000만원  | 0.376 |\n| 315 | 최주환 | 2016 | 두산 | 0.378 |  15 |  45 |  5 | 17 | 4 | ⋯ | 2 | 0.467 | 0.378 | 2 | 178cm/73kg  | 1988년 02월 28일 | 내야수(우투좌타) | 학강초-광주동성중-광주동성고-두산-상무               | 6000만원  | 0.845 |\n| 315 | 최주환 | 2017 | 두산 | 0.281 |  11 |  32 |  7 |  9 | 2 | ⋯ | 0 | 0.438 | 0.361 | 0 | 178cm/73kg  | 1988년 02월 28일 | 내야수(우투좌타) | 학강초-광주동성중-광주동성고-두산-상무               | 6000만원  | 0.799 |\n| 316 | 최준석 | 2007 | 두산 | 0.242 |  10 |  33 |  4 |  8 | 1 | ⋯ | 2 | 0.455 | 0.359 | 0 | 187cm/130kg | 1983년 02월 15일 | 내야수(우투우타) | 칠성초-포철중-포철공고-(영남사이버대)-롯데-두산-롯데 | 3000만원  | 0.814 |\n| 316 | 최준석 | 2011 | 두산 | 0.233 |  12 |  30 |  1 |  7 | 2 | ⋯ | 2 | 0.300 | 0.281 | 1 | 187cm/130kg | 1983년 02월 15일 | 내야수(우투우타) | 칠성초-포철중-포철공고-(영남사이버대)-롯데-두산-롯데 | 3000만원  | 0.581 |\n| 317 | 최진행 | 2004 | 한화 | 0.333 |  10 |  12 |  1 |  4 | 1 | ⋯ | 0 | 0.417 | 0.385 | 2 | 188cm/100kg | 1985년 08월 17일 | 외야수(우투우타) | 서울동원초-청량중-덕수정보고-(우송대)-한화-경찰      | 10000만원 | 0.802 |\n| 317 | 최진행 | 2009 | 한화 | 0.160 |  11 |  25 |  3 |  4 | 1 | ⋯ | 0 | 0.320 | 0.276 | 0 | 188cm/100kg | 1985년 08월 17일 | 외야수(우투우타) | 서울동원초-청량중-덕수정보고-(우송대)-한화-경찰      | 10000만원 | 0.596 |\n| 317 | 최진행 | 2010 | 한화 | 0.242 |  10 |  33 |  4 |  8 | 3 | ⋯ | 1 | 0.424 | 0.419 | 0 | 188cm/100kg | 1985년 08월 17일 | 외야수(우투우타) | 서울동원초-청량중-덕수정보고-(우송대)-한화-경찰      | 10000만원 | 0.843 |\n| 317 | 최진행 | 2013 | 한화 | 0.273 |  12 |  44 |  4 | 12 | 2 | ⋯ | 2 | 0.500 | 0.340 | 0 | 188cm/100kg | 1985년 08월 17일 | 외야수(우투우타) | 서울동원초-청량중-덕수정보고-(우송대)-한화-경찰      | 10000만원 | 0.840 |\n| 317 | 최진행 | 2014 | 한화 | 0.292 |  10 |  24 |  1 |  7 | 0 | ⋯ | 1 | 0.292 | 0.514 | 0 | 188cm/100kg | 1985년 08월 17일 | 외야수(우투우타) | 서울동원초-청량중-덕수정보고-(우송대)-한화-경찰      | 10000만원 | 0.806 |\n| 317 | 최진행 | 2015 | 한화 | 0.250 |  11 |  36 |  1 |  9 | 1 | ⋯ | 4 | 0.278 | 0.289 | 0 | 188cm/100kg | 1985년 08월 17일 | 외야수(우투우타) | 서울동원초-청량중-덕수정보고-(우송대)-한화-경찰      | 10000만원 | 0.567 |\n| 317 | 최진행 | 2016 | 한화 | 0.146 |  15 |  41 |  7 |  6 | 0 | ⋯ | 0 | 0.366 | 0.286 | 0 | 188cm/100kg | 1985년 08월 17일 | 외야수(우투우타) | 서울동원초-청량중-덕수정보고-(우송대)-한화-경찰      | 10000만원 | 0.652 |\n| 324 | 하주석 | 2012 | 한화 | 0.217 |  11 |  23 |  2 |  5 | 1 | ⋯ | 0 | 0.261 | 0.250 | 0 | 184cm/84kg  | 1994년 02월 25일 | 내야수(우투좌타) | 강남초-덕수중-신일고-한화-상무                       | 30000만원 | 0.511 |\n| 329 | 한승택 | 2013 | 한화 | 0.267 |  10 |  15 |  0 |  4 | 1 | ⋯ | 0 | 0.333 | 0.421 | 1 | 174cm/83kg  | 1994년 06월 21일 | 포수(우투우타)   | 잠전초(남양주리틀)-잠신중-덕수고-한화-경찰           | 9000만원  | 0.754 |\n| 331 | 허경민 | 2012 | 두산 | 0.083 |  12 |  12 |  3 |  1 | 0 | ⋯ | 0 | 0.083 | 0.083 | 0 | 176cm/69kg  | 1990년 08월 26일 | 내야수(우투우타) | 송정동초-충장중-광주제일고-두산-경찰                 | 13000만원 | 0.166 |\n| 331 | 허경민 | 2013 | 두산 | 0.423 |  11 |  26 |  3 | 11 | 3 | ⋯ | 0 | 0.538 | 0.414 | 0 | 176cm/69kg  | 1990년 08월 26일 | 내야수(우투우타) | 송정동초-충장중-광주제일고-두산-경찰                 | 13000만원 | 0.952 |\n| 331 | 허경민 | 2014 | 두산 | 0.263 |  11 |  19 |  4 |  5 | 2 | ⋯ | 1 | 0.368 | 0.364 | 1 | 176cm/69kg  | 1990년 08월 26일 | 내야수(우투우타) | 송정동초-충장중-광주제일고-두산-경찰                 | 13000만원 | 0.732 |\n| 331 | 허경민 | 2015 | 두산 | 0.250 |  12 |  16 |  2 |  4 | 1 | ⋯ | 0 | 0.313 | 0.250 | 1 | 176cm/69kg  | 1990년 08월 26일 | 내야수(우투우타) | 송정동초-충장중-광주제일고-두산-경찰                 | 13000만원 | 0.563 |\n| 331 | 허경민 | 2016 | 두산 | 0.390 |  13 |  41 |  2 | 16 | 1 | ⋯ | 1 | 0.463 | 0.395 | 0 | 176cm/69kg  | 1990년 08월 26일 | 내야수(우투우타) | 송정동초-충장중-광주제일고-두산-경찰                 | 13000만원 | 0.858 |\n| 331 | 허경민 | 2017 | 두산 | 0.250 |  11 |  32 |  4 |  8 | 0 | ⋯ | 2 | 0.438 | 0.314 | 0 | 176cm/69kg  | 1990년 08월 26일 | 내야수(우투우타) | 송정동초-충장중-광주제일고-두산-경찰                 | 13000만원 | 0.752 |\n\n",
            "text/html": [
              "<table>\n",
              "<caption>A tibble: 160 × 29</caption>\n",
              "<thead>\n",
              "\t<tr><th scope=col>batter_id</th><th scope=col>batter_name</th><th scope=col>year</th><th scope=col>team</th><th scope=col>avg</th><th scope=col>G</th><th scope=col>AB</th><th scope=col>R</th><th scope=col>H</th><th scope=col>2B</th><th scope=col>⋯</th><th scope=col>GDP</th><th scope=col>SLG</th><th scope=col>OBP</th><th scope=col>E</th><th scope=col>height/weight</th><th scope=col>year_born</th><th scope=col>position</th><th scope=col>career</th><th scope=col>starting_salary</th><th scope=col>OPS</th></tr>\n",
              "\t<tr><th scope=col>&lt;int&gt;</th><th scope=col>&lt;chr&gt;</th><th scope=col>&lt;int&gt;</th><th scope=col>&lt;chr&gt;</th><th scope=col>&lt;chr&gt;</th><th scope=col>&lt;int&gt;</th><th scope=col>&lt;int&gt;</th><th scope=col>&lt;int&gt;</th><th scope=col>&lt;int&gt;</th><th scope=col>&lt;int&gt;</th><th scope=col>⋯</th><th scope=col>&lt;int&gt;</th><th scope=col>&lt;dbl&gt;</th><th scope=col>&lt;dbl&gt;</th><th scope=col>&lt;int&gt;</th><th scope=col>&lt;chr&gt;</th><th scope=col>&lt;chr&gt;</th><th scope=col>&lt;chr&gt;</th><th scope=col>&lt;chr&gt;</th><th scope=col>&lt;chr&gt;</th><th scope=col>&lt;dbl&gt;</th></tr>\n",
              "</thead>\n",
              "<tbody>\n",
              "\t<tr><td>  1</td><td>강경학</td><td>2015</td><td>한화</td><td>0.130</td><td>10</td><td> 23</td><td> 3</td><td> 3</td><td> 0</td><td>⋯</td><td>0</td><td>0.130</td><td>0.286</td><td>2</td><td>180cm/72kg </td><td>1992년 08월 11일</td><td>내야수(우투좌타)</td><td>광주대성초-광주동성중-광주동성고                  </td><td>10000만원</td><td>0.416</td></tr>\n",
              "\t<tr><td>  1</td><td>강경학</td><td>2016</td><td>한화</td><td>0.188</td><td>14</td><td> 32</td><td> 4</td><td> 6</td><td> 1</td><td>⋯</td><td>0</td><td>0.281</td><td>0.212</td><td>0</td><td>180cm/72kg </td><td>1992년 08월 11일</td><td>내야수(우투좌타)</td><td>광주대성초-광주동성중-광주동성고                  </td><td>10000만원</td><td>0.493</td></tr>\n",
              "\t<tr><td>  1</td><td>강경학</td><td>2017</td><td>한화</td><td>0.222</td><td>11</td><td> 36</td><td>10</td><td> 8</td><td> 0</td><td>⋯</td><td>0</td><td>0.389</td><td>0.282</td><td>1</td><td>180cm/72kg </td><td>1992년 08월 11일</td><td>내야수(우투좌타)</td><td>광주대성초-광주동성중-광주동성고                  </td><td>10000만원</td><td>0.671</td></tr>\n",
              "\t<tr><td> 69</td><td>김태완</td><td>2006</td><td>한화</td><td>0.200</td><td>10</td><td> 15</td><td> 0</td><td> 3</td><td> 0</td><td>⋯</td><td>1</td><td>0.200</td><td>0.278</td><td>0</td><td>189cm/105kg</td><td>1984년 01월 27일</td><td>내야수(우투우타)</td><td>양목초-신월중-중앙고-성균관대-한화                </td><td>11000만원</td><td>0.478</td></tr>\n",
              "\t<tr><td> 69</td><td>김태완</td><td>2008</td><td>한화</td><td>0.375</td><td>10</td><td> 24</td><td> 3</td><td> 9</td><td> 1</td><td>⋯</td><td>2</td><td>0.542</td><td>0.444</td><td>0</td><td>189cm/105kg</td><td>1984년 01월 27일</td><td>내야수(우투우타)</td><td>양목초-신월중-중앙고-성균관대-한화                </td><td>11000만원</td><td>0.986</td></tr>\n",
              "\t<tr><td> 69</td><td>김태완</td><td>2009</td><td>한화</td><td>0.320</td><td>10</td><td> 25</td><td> 5</td><td> 8</td><td> 3</td><td>⋯</td><td>1</td><td>0.560</td><td>0.452</td><td>1</td><td>189cm/105kg</td><td>1984년 01월 27일</td><td>내야수(우투우타)</td><td>양목초-신월중-중앙고-성균관대-한화                </td><td>11000만원</td><td>1.012</td></tr>\n",
              "\t<tr><td> 69</td><td>김태완</td><td>2014</td><td>한화</td><td>0.125</td><td>10</td><td> 16</td><td> 1</td><td> 2</td><td> 0</td><td>⋯</td><td>0</td><td>0.125</td><td>0.263</td><td>0</td><td>189cm/105kg</td><td>1984년 01월 27일</td><td>내야수(우투우타)</td><td>양목초-신월중-중앙고-성균관대-한화                </td><td>11000만원</td><td>0.388</td></tr>\n",
              "\t<tr><td>  8</td><td>강상원</td><td>2017</td><td>한화</td><td>0.000</td><td>10</td><td>  1</td><td> 4</td><td> 0</td><td> 0</td><td>⋯</td><td>0</td><td>0.000</td><td>0.500</td><td>0</td><td>172cm/64kg </td><td>1997년 05월 05일</td><td>외야수(우투좌타)</td><td>온양온천초-온양중-북일고                          </td><td>3000만원 </td><td>0.500</td></tr>\n",
              "\t<tr><td>162</td><td>신성현</td><td>2016</td><td>한화</td><td>0.286</td><td>14</td><td> 35</td><td> 6</td><td>10</td><td> 1</td><td>⋯</td><td>0</td><td>0.314</td><td>0.342</td><td>1</td><td>183cm/92kg </td><td>1990년 10월 19일</td><td>내야수(우투우타)</td><td>가동초-덕수중-일본 교토고쿠사이고-히로시마-한화   </td><td>         </td><td>0.656</td></tr>\n",
              "\t<tr><td>162</td><td>신성현</td><td>2017</td><td>두산</td><td>0.324</td><td>10</td><td> 34</td><td> 7</td><td>11</td><td> 2</td><td>⋯</td><td>0</td><td>0.471</td><td>0.395</td><td>0</td><td>183cm/92kg </td><td>1990년 10월 19일</td><td>내야수(우투우타)</td><td>가동초-덕수중-일본 교토고쿠사이고-히로시마-한화   </td><td>         </td><td>0.866</td></tr>\n",
              "\t<tr><td> 20</td><td>국해성</td><td>2015</td><td>두산</td><td>0.200</td><td>11</td><td> 20</td><td> 6</td><td> 4</td><td> 1</td><td>⋯</td><td>2</td><td>0.400</td><td>0.280</td><td>0</td><td>180cm/94kg </td><td>1989년 10월 08일</td><td>외야수(우투양타)</td><td>군산중앙초-동인천중-인천고                        </td><td>         </td><td>0.680</td></tr>\n",
              "\t<tr><td> 20</td><td>국해성</td><td>2016</td><td>두산</td><td>0.278</td><td>58</td><td>151</td><td>28</td><td>42</td><td>11</td><td>⋯</td><td>1</td><td>0.430</td><td>0.368</td><td>1</td><td>180cm/94kg </td><td>1989년 10월 08일</td><td>외야수(우투양타)</td><td>군산중앙초-동인천중-인천고                        </td><td>         </td><td>0.798</td></tr>\n",
              "\t<tr><td> 20</td><td>국해성</td><td>2017</td><td>두산</td><td>0.209</td><td>57</td><td> 86</td><td>15</td><td>18</td><td> 3</td><td>⋯</td><td>2</td><td>0.349</td><td>0.281</td><td>0</td><td>180cm/94kg </td><td>1989년 10월 08일</td><td>외야수(우투양타)</td><td>군산중앙초-동인천중-인천고                        </td><td>         </td><td>0.630</td></tr>\n",
              "\t<tr><td> 20</td><td>국해성</td><td>2018</td><td>두산</td><td>0.333</td><td>14</td><td> 24</td><td> 4</td><td> 8</td><td> 3</td><td>⋯</td><td>1</td><td>0.458</td><td>0.429</td><td>0</td><td>180cm/94kg </td><td>1989년 10월 08일</td><td>외야수(우투양타)</td><td>군산중앙초-동인천중-인천고                        </td><td>         </td><td>0.887</td></tr>\n",
              "\t<tr><td> 37</td><td>김민수</td><td>2014</td><td>한화</td><td>0.217</td><td>11</td><td> 23</td><td> 2</td><td> 5</td><td> 1</td><td>⋯</td><td>0</td><td>0.261</td><td>0.280</td><td>1</td><td>177cm/80kg </td><td>1991년 03월 02일</td><td>포수(우투우타)  </td><td>대구옥산초-경복중-대구상원고-영남대-한화-삼성-상무</td><td>11000만원</td><td>0.541</td></tr>\n",
              "\t<tr><td> 57</td><td>김재호</td><td>2004</td><td>두산</td><td>0.286</td><td>13</td><td> 21</td><td> 2</td><td> 6</td><td> 0</td><td>⋯</td><td>0</td><td>0.286</td><td>0.286</td><td>1</td><td>181cm/75kg </td><td>1985년 03월 21일</td><td>내야수(우투우타)</td><td>남정초-중앙중-중앙고-두산-상무                    </td><td>20000만원</td><td>0.572</td></tr>\n",
              "\t<tr><td> 57</td><td>김재호</td><td>2005</td><td>두산</td><td>0.048</td><td>13</td><td> 21</td><td> 2</td><td> 1</td><td> 0</td><td>⋯</td><td>0</td><td>0.048</td><td>0.167</td><td>1</td><td>181cm/75kg </td><td>1985년 03월 21일</td><td>내야수(우투우타)</td><td>남정초-중앙중-중앙고-두산-상무                    </td><td>20000만원</td><td>0.215</td></tr>\n",
              "\t<tr><td> 57</td><td>김재호</td><td>2008</td><td>두산</td><td>0.207</td><td>10</td><td> 29</td><td> 3</td><td> 6</td><td> 1</td><td>⋯</td><td>2</td><td>0.241</td><td>0.303</td><td>1</td><td>181cm/75kg </td><td>1985년 03월 21일</td><td>내야수(우투우타)</td><td>남정초-중앙중-중앙고-두산-상무                    </td><td>20000만원</td><td>0.544</td></tr>\n",
              "\t<tr><td> 57</td><td>김재호</td><td>2009</td><td>두산</td><td>0.226</td><td>12</td><td> 31</td><td> 2</td><td> 7</td><td> 1</td><td>⋯</td><td>1</td><td>0.387</td><td>0.242</td><td>4</td><td>181cm/75kg </td><td>1985년 03월 21일</td><td>내야수(우투우타)</td><td>남정초-중앙중-중앙고-두산-상무                    </td><td>20000만원</td><td>0.629</td></tr>\n",
              "\t<tr><td> 57</td><td>김재호</td><td>2010</td><td>두산</td><td>0.300</td><td>11</td><td> 10</td><td> 2</td><td> 3</td><td> 2</td><td>⋯</td><td>0</td><td>0.500</td><td>0.429</td><td>0</td><td>181cm/75kg </td><td>1985년 03월 21일</td><td>내야수(우투우타)</td><td>남정초-중앙중-중앙고-두산-상무                    </td><td>20000만원</td><td>0.929</td></tr>\n",
              "\t<tr><td> 57</td><td>김재호</td><td>2011</td><td>두산</td><td>0.190</td><td>12</td><td> 21</td><td> 0</td><td> 4</td><td> 0</td><td>⋯</td><td>1</td><td>0.190</td><td>0.261</td><td>1</td><td>181cm/75kg </td><td>1985년 03월 21일</td><td>내야수(우투우타)</td><td>남정초-중앙중-중앙고-두산-상무                    </td><td>20000만원</td><td>0.451</td></tr>\n",
              "\t<tr><td> 57</td><td>김재호</td><td>2012</td><td>두산</td><td>0.000</td><td>10</td><td> 12</td><td> 0</td><td> 0</td><td> 0</td><td>⋯</td><td>0</td><td>0.000</td><td>0.077</td><td>0</td><td>181cm/75kg </td><td>1985년 03월 21일</td><td>내야수(우투우타)</td><td>남정초-중앙중-중앙고-두산-상무                    </td><td>20000만원</td><td>0.077</td></tr>\n",
              "\t<tr><td> 57</td><td>김재호</td><td>2014</td><td>두산</td><td>0.250</td><td>10</td><td> 20</td><td> 4</td><td> 5</td><td> 1</td><td>⋯</td><td>2</td><td>0.300</td><td>0.400</td><td>1</td><td>181cm/75kg </td><td>1985년 03월 21일</td><td>내야수(우투우타)</td><td>남정초-중앙중-중앙고-두산-상무                    </td><td>20000만원</td><td>0.700</td></tr>\n",
              "\t<tr><td> 57</td><td>김재호</td><td>2015</td><td>두산</td><td>0.259</td><td>11</td><td> 27</td><td> 3</td><td> 7</td><td> 1</td><td>⋯</td><td>1</td><td>0.296</td><td>0.355</td><td>1</td><td>181cm/75kg </td><td>1985년 03월 21일</td><td>내야수(우투우타)</td><td>남정초-중앙중-중앙고-두산-상무                    </td><td>20000만원</td><td>0.651</td></tr>\n",
              "\t<tr><td> 57</td><td>김재호</td><td>2016</td><td>두산</td><td>0.226</td><td>12</td><td> 31</td><td> 3</td><td> 7</td><td> 0</td><td>⋯</td><td>1</td><td>0.226</td><td>0.351</td><td>0</td><td>181cm/75kg </td><td>1985년 03월 21일</td><td>내야수(우투우타)</td><td>남정초-중앙중-중앙고-두산-상무                    </td><td>20000만원</td><td>0.577</td></tr>\n",
              "\t<tr><td> 58</td><td>김재환</td><td>2011</td><td>두산</td><td>0.222</td><td>11</td><td> 27</td><td> 4</td><td> 6</td><td> 2</td><td>⋯</td><td>1</td><td>0.407</td><td>0.267</td><td>0</td><td>183cm/90kg </td><td>1988년 09월 22일</td><td>외야수(우투좌타)</td><td>영랑초-상인천중-인천고-두산-상무                  </td><td>15000만원</td><td>0.674</td></tr>\n",
              "\t<tr><td> 58</td><td>김재환</td><td>2015</td><td>두산</td><td>0.308</td><td>11</td><td> 26</td><td> 3</td><td> 8</td><td> 1</td><td>⋯</td><td>0</td><td>0.346</td><td>0.438</td><td>2</td><td>183cm/90kg </td><td>1988년 09월 22일</td><td>외야수(우투좌타)</td><td>영랑초-상인천중-인천고-두산-상무                  </td><td>15000만원</td><td>0.784</td></tr>\n",
              "\t<tr><td> 58</td><td>김재환</td><td>2017</td><td>두산</td><td>0.217</td><td>11</td><td> 23</td><td> 3</td><td> 5</td><td> 1</td><td>⋯</td><td>0</td><td>0.391</td><td>0.387</td><td>0</td><td>183cm/90kg </td><td>1988년 09월 22일</td><td>외야수(우투좌타)</td><td>영랑초-상인천중-인천고-두산-상무                  </td><td>15000만원</td><td>0.778</td></tr>\n",
              "\t<tr><td> 67</td><td>김태균</td><td>2002</td><td>한화</td><td>0.235</td><td>11</td><td> 34</td><td> 7</td><td> 8</td><td> 5</td><td>⋯</td><td>0</td><td>0.471</td><td>0.333</td><td>2</td><td>185cm/110kg</td><td>1982년 05월 29일</td><td>내야수(우투우타)</td><td>천안남산초-천안북중-북일고-(대전대)               </td><td>16000만원</td><td>0.804</td></tr>\n",
              "\t<tr><td> 67</td><td>김태균</td><td>2003</td><td>한화</td><td>0.115</td><td>10</td><td> 26</td><td> 2</td><td> 3</td><td> 1</td><td>⋯</td><td>0</td><td>0.154</td><td>0.303</td><td>1</td><td>185cm/110kg</td><td>1982년 05월 29일</td><td>내야수(우투우타)</td><td>천안남산초-천안북중-북일고-(대전대)               </td><td>16000만원</td><td>0.457</td></tr>\n",
              "\t<tr><td>⋮</td><td>⋮</td><td>⋮</td><td>⋮</td><td>⋮</td><td>⋮</td><td>⋮</td><td>⋮</td><td>⋮</td><td>⋮</td><td>⋱</td><td>⋮</td><td>⋮</td><td>⋮</td><td>⋮</td><td>⋮</td><td>⋮</td><td>⋮</td><td>⋮</td><td>⋮</td><td>⋮</td></tr>\n",
              "\t<tr><td>286</td><td>조수행</td><td>2016</td><td>두산</td><td>0.276</td><td> 66</td><td> 29</td><td>16</td><td> 8</td><td>0</td><td>⋯</td><td>0</td><td>0.276</td><td>0.276</td><td>1</td><td>178cm/73kg </td><td>1993년 08월 30일</td><td>외야수(우투좌타)</td><td>노암초-경포중-강릉고-건국대                         </td><td>14000만원</td><td>0.552</td></tr>\n",
              "\t<tr><td>286</td><td>조수행</td><td>2017</td><td>두산</td><td>0.277</td><td> 80</td><td> 47</td><td>17</td><td>13</td><td>2</td><td>⋯</td><td>0</td><td>0.319</td><td>0.346</td><td>1</td><td>178cm/73kg </td><td>1993년 08월 30일</td><td>외야수(우투좌타)</td><td>노암초-경포중-강릉고-건국대                         </td><td>14000만원</td><td>0.665</td></tr>\n",
              "\t<tr><td>286</td><td>조수행</td><td>2018</td><td>두산</td><td>0.279</td><td>119</td><td>183</td><td>35</td><td>51</td><td>6</td><td>⋯</td><td>4</td><td>0.372</td><td>0.311</td><td>1</td><td>178cm/73kg </td><td>1993년 08월 30일</td><td>외야수(우투좌타)</td><td>노암초-경포중-강릉고-건국대                         </td><td>14000만원</td><td>0.683</td></tr>\n",
              "\t<tr><td>295</td><td>지성준</td><td>2015</td><td>한화</td><td>0.192</td><td> 12</td><td> 26</td><td> 3</td><td> 5</td><td>0</td><td>⋯</td><td>1</td><td>0.192</td><td>0.364</td><td>1</td><td>180cm/92kg </td><td>1994년 04월 10일</td><td>포수(우투우타)  </td><td>청주우암초-청주중-청주고                            </td><td>         </td><td>0.556</td></tr>\n",
              "\t<tr><td>311</td><td>최윤석</td><td>2017</td><td>한화</td><td>0.059</td><td> 10</td><td> 17</td><td> 1</td><td> 1</td><td>0</td><td>⋯</td><td>2</td><td>0.059</td><td>0.105</td><td>3</td><td>175cm/75kg </td><td>1987년 03월 28일</td><td>내야수(우투우타)</td><td>화곡초-덕수중-성남고-홍익대-SK-한화-경찰            </td><td>6000만원 </td><td>0.164</td></tr>\n",
              "\t<tr><td>312</td><td>최재훈</td><td>2013</td><td>두산</td><td>0.250</td><td> 10</td><td>  8</td><td> 1</td><td> 2</td><td>0</td><td>⋯</td><td>0</td><td>0.250</td><td>0.400</td><td>0</td><td>178cm/76kg </td><td>1989년 08월 27일</td><td>포수(우투우타)  </td><td>화곡초-덕수중-덕수고-(방송통신대)-두산-경찰-두산    </td><td>         </td><td>0.650</td></tr>\n",
              "\t<tr><td>312</td><td>최재훈</td><td>2015</td><td>두산</td><td>0.182</td><td> 12</td><td> 11</td><td> 1</td><td> 2</td><td>1</td><td>⋯</td><td>1</td><td>0.273</td><td>0.412</td><td>0</td><td>178cm/76kg </td><td>1989년 08월 27일</td><td>포수(우투우타)  </td><td>화곡초-덕수중-덕수고-(방송통신대)-두산-경찰-두산    </td><td>         </td><td>0.685</td></tr>\n",
              "\t<tr><td>312</td><td>최재훈</td><td>2017</td><td>한화</td><td>0.400</td><td> 11</td><td> 20</td><td> 6</td><td> 8</td><td>0</td><td>⋯</td><td>1</td><td>0.400</td><td>0.538</td><td>0</td><td>178cm/76kg </td><td>1989년 08월 27일</td><td>포수(우투우타)  </td><td>화곡초-덕수중-덕수고-(방송통신대)-두산-경찰-두산    </td><td>         </td><td>0.938</td></tr>\n",
              "\t<tr><td>315</td><td>최주환</td><td>2012</td><td>두산</td><td>0.241</td><td> 10</td><td> 29</td><td> 2</td><td> 7</td><td>2</td><td>⋯</td><td>0</td><td>0.379</td><td>0.353</td><td>1</td><td>178cm/73kg </td><td>1988년 02월 28일</td><td>내야수(우투좌타)</td><td>학강초-광주동성중-광주동성고-두산-상무              </td><td>6000만원 </td><td>0.732</td></tr>\n",
              "\t<tr><td>315</td><td>최주환</td><td>2014</td><td>두산</td><td>0.353</td><td> 10</td><td> 17</td><td> 3</td><td> 6</td><td>1</td><td>⋯</td><td>2</td><td>0.529</td><td>0.421</td><td>0</td><td>178cm/73kg </td><td>1988년 02월 28일</td><td>내야수(우투좌타)</td><td>학강초-광주동성중-광주동성고-두산-상무              </td><td>6000만원 </td><td>0.950</td></tr>\n",
              "\t<tr><td>315</td><td>최주환</td><td>2015</td><td>두산</td><td>0.136</td><td> 12</td><td> 22</td><td> 3</td><td> 3</td><td>0</td><td>⋯</td><td>1</td><td>0.136</td><td>0.240</td><td>0</td><td>178cm/73kg </td><td>1988년 02월 28일</td><td>내야수(우투좌타)</td><td>학강초-광주동성중-광주동성고-두산-상무              </td><td>6000만원 </td><td>0.376</td></tr>\n",
              "\t<tr><td>315</td><td>최주환</td><td>2016</td><td>두산</td><td>0.378</td><td> 15</td><td> 45</td><td> 5</td><td>17</td><td>4</td><td>⋯</td><td>2</td><td>0.467</td><td>0.378</td><td>2</td><td>178cm/73kg </td><td>1988년 02월 28일</td><td>내야수(우투좌타)</td><td>학강초-광주동성중-광주동성고-두산-상무              </td><td>6000만원 </td><td>0.845</td></tr>\n",
              "\t<tr><td>315</td><td>최주환</td><td>2017</td><td>두산</td><td>0.281</td><td> 11</td><td> 32</td><td> 7</td><td> 9</td><td>2</td><td>⋯</td><td>0</td><td>0.438</td><td>0.361</td><td>0</td><td>178cm/73kg </td><td>1988년 02월 28일</td><td>내야수(우투좌타)</td><td>학강초-광주동성중-광주동성고-두산-상무              </td><td>6000만원 </td><td>0.799</td></tr>\n",
              "\t<tr><td>316</td><td>최준석</td><td>2007</td><td>두산</td><td>0.242</td><td> 10</td><td> 33</td><td> 4</td><td> 8</td><td>1</td><td>⋯</td><td>2</td><td>0.455</td><td>0.359</td><td>0</td><td>187cm/130kg</td><td>1983년 02월 15일</td><td>내야수(우투우타)</td><td>칠성초-포철중-포철공고-(영남사이버대)-롯데-두산-롯데</td><td>3000만원 </td><td>0.814</td></tr>\n",
              "\t<tr><td>316</td><td>최준석</td><td>2011</td><td>두산</td><td>0.233</td><td> 12</td><td> 30</td><td> 1</td><td> 7</td><td>2</td><td>⋯</td><td>2</td><td>0.300</td><td>0.281</td><td>1</td><td>187cm/130kg</td><td>1983년 02월 15일</td><td>내야수(우투우타)</td><td>칠성초-포철중-포철공고-(영남사이버대)-롯데-두산-롯데</td><td>3000만원 </td><td>0.581</td></tr>\n",
              "\t<tr><td>317</td><td>최진행</td><td>2004</td><td>한화</td><td>0.333</td><td> 10</td><td> 12</td><td> 1</td><td> 4</td><td>1</td><td>⋯</td><td>0</td><td>0.417</td><td>0.385</td><td>2</td><td>188cm/100kg</td><td>1985년 08월 17일</td><td>외야수(우투우타)</td><td>서울동원초-청량중-덕수정보고-(우송대)-한화-경찰     </td><td>10000만원</td><td>0.802</td></tr>\n",
              "\t<tr><td>317</td><td>최진행</td><td>2009</td><td>한화</td><td>0.160</td><td> 11</td><td> 25</td><td> 3</td><td> 4</td><td>1</td><td>⋯</td><td>0</td><td>0.320</td><td>0.276</td><td>0</td><td>188cm/100kg</td><td>1985년 08월 17일</td><td>외야수(우투우타)</td><td>서울동원초-청량중-덕수정보고-(우송대)-한화-경찰     </td><td>10000만원</td><td>0.596</td></tr>\n",
              "\t<tr><td>317</td><td>최진행</td><td>2010</td><td>한화</td><td>0.242</td><td> 10</td><td> 33</td><td> 4</td><td> 8</td><td>3</td><td>⋯</td><td>1</td><td>0.424</td><td>0.419</td><td>0</td><td>188cm/100kg</td><td>1985년 08월 17일</td><td>외야수(우투우타)</td><td>서울동원초-청량중-덕수정보고-(우송대)-한화-경찰     </td><td>10000만원</td><td>0.843</td></tr>\n",
              "\t<tr><td>317</td><td>최진행</td><td>2013</td><td>한화</td><td>0.273</td><td> 12</td><td> 44</td><td> 4</td><td>12</td><td>2</td><td>⋯</td><td>2</td><td>0.500</td><td>0.340</td><td>0</td><td>188cm/100kg</td><td>1985년 08월 17일</td><td>외야수(우투우타)</td><td>서울동원초-청량중-덕수정보고-(우송대)-한화-경찰     </td><td>10000만원</td><td>0.840</td></tr>\n",
              "\t<tr><td>317</td><td>최진행</td><td>2014</td><td>한화</td><td>0.292</td><td> 10</td><td> 24</td><td> 1</td><td> 7</td><td>0</td><td>⋯</td><td>1</td><td>0.292</td><td>0.514</td><td>0</td><td>188cm/100kg</td><td>1985년 08월 17일</td><td>외야수(우투우타)</td><td>서울동원초-청량중-덕수정보고-(우송대)-한화-경찰     </td><td>10000만원</td><td>0.806</td></tr>\n",
              "\t<tr><td>317</td><td>최진행</td><td>2015</td><td>한화</td><td>0.250</td><td> 11</td><td> 36</td><td> 1</td><td> 9</td><td>1</td><td>⋯</td><td>4</td><td>0.278</td><td>0.289</td><td>0</td><td>188cm/100kg</td><td>1985년 08월 17일</td><td>외야수(우투우타)</td><td>서울동원초-청량중-덕수정보고-(우송대)-한화-경찰     </td><td>10000만원</td><td>0.567</td></tr>\n",
              "\t<tr><td>317</td><td>최진행</td><td>2016</td><td>한화</td><td>0.146</td><td> 15</td><td> 41</td><td> 7</td><td> 6</td><td>0</td><td>⋯</td><td>0</td><td>0.366</td><td>0.286</td><td>0</td><td>188cm/100kg</td><td>1985년 08월 17일</td><td>외야수(우투우타)</td><td>서울동원초-청량중-덕수정보고-(우송대)-한화-경찰     </td><td>10000만원</td><td>0.652</td></tr>\n",
              "\t<tr><td>324</td><td>하주석</td><td>2012</td><td>한화</td><td>0.217</td><td> 11</td><td> 23</td><td> 2</td><td> 5</td><td>1</td><td>⋯</td><td>0</td><td>0.261</td><td>0.250</td><td>0</td><td>184cm/84kg </td><td>1994년 02월 25일</td><td>내야수(우투좌타)</td><td>강남초-덕수중-신일고-한화-상무                      </td><td>30000만원</td><td>0.511</td></tr>\n",
              "\t<tr><td>329</td><td>한승택</td><td>2013</td><td>한화</td><td>0.267</td><td> 10</td><td> 15</td><td> 0</td><td> 4</td><td>1</td><td>⋯</td><td>0</td><td>0.333</td><td>0.421</td><td>1</td><td>174cm/83kg </td><td>1994년 06월 21일</td><td>포수(우투우타)  </td><td>잠전초(남양주리틀)-잠신중-덕수고-한화-경찰          </td><td>9000만원 </td><td>0.754</td></tr>\n",
              "\t<tr><td>331</td><td>허경민</td><td>2012</td><td>두산</td><td>0.083</td><td> 12</td><td> 12</td><td> 3</td><td> 1</td><td>0</td><td>⋯</td><td>0</td><td>0.083</td><td>0.083</td><td>0</td><td>176cm/69kg </td><td>1990년 08월 26일</td><td>내야수(우투우타)</td><td>송정동초-충장중-광주제일고-두산-경찰                </td><td>13000만원</td><td>0.166</td></tr>\n",
              "\t<tr><td>331</td><td>허경민</td><td>2013</td><td>두산</td><td>0.423</td><td> 11</td><td> 26</td><td> 3</td><td>11</td><td>3</td><td>⋯</td><td>0</td><td>0.538</td><td>0.414</td><td>0</td><td>176cm/69kg </td><td>1990년 08월 26일</td><td>내야수(우투우타)</td><td>송정동초-충장중-광주제일고-두산-경찰                </td><td>13000만원</td><td>0.952</td></tr>\n",
              "\t<tr><td>331</td><td>허경민</td><td>2014</td><td>두산</td><td>0.263</td><td> 11</td><td> 19</td><td> 4</td><td> 5</td><td>2</td><td>⋯</td><td>1</td><td>0.368</td><td>0.364</td><td>1</td><td>176cm/69kg </td><td>1990년 08월 26일</td><td>내야수(우투우타)</td><td>송정동초-충장중-광주제일고-두산-경찰                </td><td>13000만원</td><td>0.732</td></tr>\n",
              "\t<tr><td>331</td><td>허경민</td><td>2015</td><td>두산</td><td>0.250</td><td> 12</td><td> 16</td><td> 2</td><td> 4</td><td>1</td><td>⋯</td><td>0</td><td>0.313</td><td>0.250</td><td>1</td><td>176cm/69kg </td><td>1990년 08월 26일</td><td>내야수(우투우타)</td><td>송정동초-충장중-광주제일고-두산-경찰                </td><td>13000만원</td><td>0.563</td></tr>\n",
              "\t<tr><td>331</td><td>허경민</td><td>2016</td><td>두산</td><td>0.390</td><td> 13</td><td> 41</td><td> 2</td><td>16</td><td>1</td><td>⋯</td><td>1</td><td>0.463</td><td>0.395</td><td>0</td><td>176cm/69kg </td><td>1990년 08월 26일</td><td>내야수(우투우타)</td><td>송정동초-충장중-광주제일고-두산-경찰                </td><td>13000만원</td><td>0.858</td></tr>\n",
              "\t<tr><td>331</td><td>허경민</td><td>2017</td><td>두산</td><td>0.250</td><td> 11</td><td> 32</td><td> 4</td><td> 8</td><td>0</td><td>⋯</td><td>2</td><td>0.438</td><td>0.314</td><td>0</td><td>176cm/69kg </td><td>1990년 08월 26일</td><td>내야수(우투우타)</td><td>송정동초-충장중-광주제일고-두산-경찰                </td><td>13000만원</td><td>0.752</td></tr>\n",
              "</tbody>\n",
              "</table>\n"
            ]
          },
          "metadata": {
            "tags": []
          }
        }
      ]
    },
    {
      "cell_type": "markdown",
      "metadata": {
        "id": "3N698QH8psAU"
      },
      "source": [
        "### (3) DF에서 team 별(key) SLG, OBP의 평균과 R의 합 - group_by, summarise\n",
        "\n",
        "* **NA 발생시 해당 문제 0점.**\n",
        "* 출력 예시와 동일해야 함.\n",
        "* 새로 생성되는 열의 이름을 자유롭게 설정.\n",
        "\n",
        "```\n",
        "# 출력예시\n",
        "A tibble: 13 × 4\n",
        "team\tSLG_mean\tOBP_mean\tR_sum\n",
        "<chr>\t<dbl>\t<dbl>\t<int>\n",
        "KIA\t0.4068168\t0.3579771\t321\n",
        "KT\t0.3732105\t0.3196491\t143\n",
        "LG\t0.3497235\t0.3211813\t500\n",
        "NC\t0.4006190\t0.3121882\t195\n",
        "SK\t0.3501159\t0.3052866\t426\n",
        "넥센\t0.3833929\t0.3228750\t315\n",
        "두산\t0.3319891\t0.3102688\t601\n",
        "롯데\t0.3784125\t0.3217500\t424\n",
        "삼성\t0.3452260\t0.3073151\t416\n",
        "우리\t0.2081667\t0.1941667\t10\n",
        "한화\t0.3503465\t0.3193858\t335\n",
        "현대\t0.2971111\t0.2705000\t42\n",
        "히어로즈\t0.2530000\t0.2894000\t5\n",
        "```\n"
      ]
    },
    {
      "cell_type": "code",
      "metadata": {
        "id": "PS-EnXoZnnTz",
        "outputId": "2f8c9bdc-e44c-4d23-c5fc-7cff95dd0e08",
        "colab": {
          "base_uri": "https://localhost:8080/",
          "height": 387
        }
      },
      "source": [
        "## 답안 작성\n",
        "##\n",
        "DF %>% group_by(team) %>% summarise(SLG_mean = mean(SLG, na.rm = TRUE), OBP_mean = mean(OBP,na.rm = TRUE), R_sum = sum(R,na.rm = TRUE))"
      ],
      "execution_count": 71,
      "outputs": [
        {
          "output_type": "stream",
          "text": [
            "`summarise()` ungrouping output (override with `.groups` argument)\n",
            "\n"
          ],
          "name": "stderr"
        },
        {
          "output_type": "display_data",
          "data": {
            "text/plain": [
              "   team     SLG_mean  OBP_mean  R_sum\n",
              "1  KIA      0.4068168 0.3579771 321  \n",
              "2  KT       0.3732105 0.3196491 143  \n",
              "3  LG       0.3497235 0.3211813 500  \n",
              "4  NC       0.4006190 0.3121882 195  \n",
              "5  SK       0.3501159 0.3052866 426  \n",
              "6  넥센     0.3833929 0.3228750 315  \n",
              "7  두산     0.3319891 0.3102688 601  \n",
              "8  롯데     0.3784125 0.3217500 424  \n",
              "9  삼성     0.3452260 0.3073151 416  \n",
              "10 우리     0.2081667 0.1941667  10  \n",
              "11 한화     0.3503465 0.3193858 335  \n",
              "12 현대     0.2971111 0.2705000  42  \n",
              "13 히어로즈 0.2530000 0.2894000   5  "
            ],
            "text/latex": "A tibble: 13 × 4\n\\begin{tabular}{llll}\n team & SLG\\_mean & OBP\\_mean & R\\_sum\\\\\n <chr> & <dbl> & <dbl> & <int>\\\\\n\\hline\n\t KIA      & 0.4068168 & 0.3579771 & 321\\\\\n\t KT       & 0.3732105 & 0.3196491 & 143\\\\\n\t LG       & 0.3497235 & 0.3211813 & 500\\\\\n\t NC       & 0.4006190 & 0.3121882 & 195\\\\\n\t SK       & 0.3501159 & 0.3052866 & 426\\\\\n\t 넥센     & 0.3833929 & 0.3228750 & 315\\\\\n\t 두산     & 0.3319891 & 0.3102688 & 601\\\\\n\t 롯데     & 0.3784125 & 0.3217500 & 424\\\\\n\t 삼성     & 0.3452260 & 0.3073151 & 416\\\\\n\t 우리     & 0.2081667 & 0.1941667 &  10\\\\\n\t 한화     & 0.3503465 & 0.3193858 & 335\\\\\n\t 현대     & 0.2971111 & 0.2705000 &  42\\\\\n\t 히어로즈 & 0.2530000 & 0.2894000 &   5\\\\\n\\end{tabular}\n",
            "text/markdown": "\nA tibble: 13 × 4\n\n| team &lt;chr&gt; | SLG_mean &lt;dbl&gt; | OBP_mean &lt;dbl&gt; | R_sum &lt;int&gt; |\n|---|---|---|---|\n| KIA      | 0.4068168 | 0.3579771 | 321 |\n| KT       | 0.3732105 | 0.3196491 | 143 |\n| LG       | 0.3497235 | 0.3211813 | 500 |\n| NC       | 0.4006190 | 0.3121882 | 195 |\n| SK       | 0.3501159 | 0.3052866 | 426 |\n| 넥센     | 0.3833929 | 0.3228750 | 315 |\n| 두산     | 0.3319891 | 0.3102688 | 601 |\n| 롯데     | 0.3784125 | 0.3217500 | 424 |\n| 삼성     | 0.3452260 | 0.3073151 | 416 |\n| 우리     | 0.2081667 | 0.1941667 |  10 |\n| 한화     | 0.3503465 | 0.3193858 | 335 |\n| 현대     | 0.2971111 | 0.2705000 |  42 |\n| 히어로즈 | 0.2530000 | 0.2894000 |   5 |\n\n",
            "text/html": [
              "<table>\n",
              "<caption>A tibble: 13 × 4</caption>\n",
              "<thead>\n",
              "\t<tr><th scope=col>team</th><th scope=col>SLG_mean</th><th scope=col>OBP_mean</th><th scope=col>R_sum</th></tr>\n",
              "\t<tr><th scope=col>&lt;chr&gt;</th><th scope=col>&lt;dbl&gt;</th><th scope=col>&lt;dbl&gt;</th><th scope=col>&lt;int&gt;</th></tr>\n",
              "</thead>\n",
              "<tbody>\n",
              "\t<tr><td>KIA     </td><td>0.4068168</td><td>0.3579771</td><td>321</td></tr>\n",
              "\t<tr><td>KT      </td><td>0.3732105</td><td>0.3196491</td><td>143</td></tr>\n",
              "\t<tr><td>LG      </td><td>0.3497235</td><td>0.3211813</td><td>500</td></tr>\n",
              "\t<tr><td>NC      </td><td>0.4006190</td><td>0.3121882</td><td>195</td></tr>\n",
              "\t<tr><td>SK      </td><td>0.3501159</td><td>0.3052866</td><td>426</td></tr>\n",
              "\t<tr><td>넥센    </td><td>0.3833929</td><td>0.3228750</td><td>315</td></tr>\n",
              "\t<tr><td>두산    </td><td>0.3319891</td><td>0.3102688</td><td>601</td></tr>\n",
              "\t<tr><td>롯데    </td><td>0.3784125</td><td>0.3217500</td><td>424</td></tr>\n",
              "\t<tr><td>삼성    </td><td>0.3452260</td><td>0.3073151</td><td>416</td></tr>\n",
              "\t<tr><td>우리    </td><td>0.2081667</td><td>0.1941667</td><td> 10</td></tr>\n",
              "\t<tr><td>한화    </td><td>0.3503465</td><td>0.3193858</td><td>335</td></tr>\n",
              "\t<tr><td>현대    </td><td>0.2971111</td><td>0.2705000</td><td> 42</td></tr>\n",
              "\t<tr><td>히어로즈</td><td>0.2530000</td><td>0.2894000</td><td>  5</td></tr>\n",
              "</tbody>\n",
              "</table>\n"
            ]
          },
          "metadata": {
            "tags": []
          }
        }
      ]
    },
    {
      "cell_type": "markdown",
      "metadata": {
        "id": "pJf7pOXfq07E"
      },
      "source": [
        "## 3. Train / Test / Validation 데이터 생성하기 - setdiff, sample_frac 사용 (20점)\n",
        "\n",
        "DF를 Train / Test / Validation 데이터로 6:2:2의 비율로 분할하고자한다.\n",
        "\n",
        "* 비복원 추출(replace = F) 사용\n",
        "* nrow()를 이용하여 분할된 데이터의 행의 개수를 파악할 수 있음\n",
        "\n",
        "```\n",
        "# 출력 예시\n",
        "nrow(train_set) + nrow(test_set) + nrow(validation_set)\n",
        "1393\n",
        "```\n"
      ]
    },
    {
      "cell_type": "code",
      "metadata": {
        "id": "O1NBKZ5lrOaS",
        "outputId": "fb0f7c9f-68a9-46fc-e0bb-b18e2e5c9851",
        "colab": {
          "base_uri": "https://localhost:8080/",
          "height": 34
        }
      },
      "source": [
        "# 사용 데이터\n",
        "DF <- fread(\"ftp://210.115.229.94/2020_datascience/6th_data/Pre_Season_Batter.csv\", header = T, encoding = \"UTF-8\") %>%\n",
        "  as_tibble()\n",
        "\n",
        "nrow(DF) # DF의 행의 개수"
      ],
      "execution_count": 72,
      "outputs": [
        {
          "output_type": "display_data",
          "data": {
            "text/plain": [
              "[1] 1393"
            ],
            "text/latex": "1393",
            "text/markdown": "1393",
            "text/html": [
              "1393"
            ]
          },
          "metadata": {
            "tags": []
          }
        }
      ]
    },
    {
      "cell_type": "code",
      "metadata": {
        "id": "llk0VN4JrlmL"
      },
      "source": [
        "## 답안 작성\n",
        "#\n",
        "train_set <- sample_frac(DF, size = 0.6, replace = FALSE)\n",
        "temp <- setdiff(DF, train_set)\n",
        "test_set <- sample_frac(temp, size = 0.5, replace = FALSE)\n",
        "validation_set <- setdiff(temp, test_set)"
      ],
      "execution_count": 79,
      "outputs": []
    },
    {
      "cell_type": "code",
      "metadata": {
        "id": "w2wqhqVIsnRF",
        "outputId": "18971f8b-2f90-4e6f-9103-2a7b3d510d54",
        "colab": {
          "base_uri": "https://localhost:8080/",
          "height": 34
        }
      },
      "source": [
        "nrow(train_set) + nrow(test_set) + nrow(validation_set)"
      ],
      "execution_count": 80,
      "outputs": [
        {
          "output_type": "display_data",
          "data": {
            "text/plain": [
              "[1] 1393"
            ],
            "text/latex": "1393",
            "text/markdown": "1393",
            "text/html": [
              "1393"
            ]
          },
          "metadata": {
            "tags": []
          }
        }
      ]
    }
  ]
}